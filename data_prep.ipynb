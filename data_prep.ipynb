{
 "cells": [
  {
   "cell_type": "code",
   "execution_count": 1,
   "metadata": {},
   "outputs": [],
   "source": [
    "# import library\n",
    "import numpy as np \n",
    "import pandas as pd "
   ]
  },
  {
   "cell_type": "code",
   "execution_count": 2,
   "metadata": {},
   "outputs": [
    {
     "name": "stdout",
     "output_type": "stream",
     "text": [
      "<class 'pandas.core.frame.DataFrame'>\n",
      "RangeIndex: 119390 entries, 0 to 119389\n",
      "Data columns (total 32 columns):\n",
      "hotel                             119390 non-null object\n",
      "is_canceled                       119390 non-null int64\n",
      "lead_time                         119390 non-null int64\n",
      "arrival_date_year                 119390 non-null int64\n",
      "arrival_date_month                119390 non-null object\n",
      "arrival_date_week_number          119390 non-null int64\n",
      "arrival_date_day_of_month         119390 non-null int64\n",
      "stays_in_weekend_nights           119390 non-null int64\n",
      "stays_in_week_nights              119390 non-null int64\n",
      "adults                            119390 non-null int64\n",
      "children                          119386 non-null float64\n",
      "babies                            119390 non-null int64\n",
      "meal                              119390 non-null object\n",
      "country                           118902 non-null object\n",
      "market_segment                    119390 non-null object\n",
      "distribution_channel              119390 non-null object\n",
      "is_repeated_guest                 119390 non-null int64\n",
      "previous_cancellations            119390 non-null int64\n",
      "previous_bookings_not_canceled    119390 non-null int64\n",
      "reserved_room_type                119390 non-null object\n",
      "assigned_room_type                119390 non-null object\n",
      "booking_changes                   119390 non-null int64\n",
      "deposit_type                      119390 non-null object\n",
      "agent                             103050 non-null float64\n",
      "company                           6797 non-null float64\n",
      "days_in_waiting_list              119390 non-null int64\n",
      "customer_type                     119390 non-null object\n",
      "adr                               119390 non-null float64\n",
      "required_car_parking_spaces       119390 non-null int64\n",
      "total_of_special_requests         119390 non-null int64\n",
      "reservation_status                119390 non-null object\n",
      "reservation_status_date           119390 non-null object\n",
      "dtypes: float64(4), int64(16), object(12)\n",
      "memory usage: 29.1+ MB\n"
     ]
    }
   ],
   "source": [
    "# load data\n",
    "dataset = pd.read_csv('hotel_bookings.csv')\n",
    "dataset.info()"
   ]
  },
  {
   "cell_type": "code",
   "execution_count": 3,
   "metadata": {},
   "outputs": [
    {
     "data": {
      "text/plain": [
       "count         119390\n",
       "unique             2\n",
       "top       City Hotel\n",
       "freq           79330\n",
       "Name: hotel, dtype: object"
      ]
     },
     "execution_count": 3,
     "metadata": {},
     "output_type": "execute_result"
    }
   ],
   "source": [
    "# hotel\n",
    "dataset['hotel'].describe()"
   ]
  },
  {
   "cell_type": "code",
   "execution_count": 4,
   "metadata": {},
   "outputs": [
    {
     "data": {
      "text/plain": [
       "count    119390.000000\n",
       "mean        104.011416\n",
       "std         106.863097\n",
       "min           0.000000\n",
       "25%          18.000000\n",
       "50%          69.000000\n",
       "75%         160.000000\n",
       "max         737.000000\n",
       "Name: lead_time, dtype: float64"
      ]
     },
     "execution_count": 4,
     "metadata": {},
     "output_type": "execute_result"
    }
   ],
   "source": [
    "# lead_time\n",
    "dataset['lead_time'].describe()"
   ]
  },
  {
   "cell_type": "code",
   "execution_count": 5,
   "metadata": {},
   "outputs": [
    {
     "data": {
      "text/plain": [
       "count    119390.000000\n",
       "mean       2016.156554\n",
       "std           0.707476\n",
       "min        2015.000000\n",
       "25%        2016.000000\n",
       "50%        2016.000000\n",
       "75%        2017.000000\n",
       "max        2017.000000\n",
       "Name: arrival_date_year, dtype: float64"
      ]
     },
     "execution_count": 5,
     "metadata": {},
     "output_type": "execute_result"
    }
   ],
   "source": [
    "# arrival_date_year\n",
    "dataset['arrival_date_year'].describe()"
   ]
  },
  {
   "cell_type": "code",
   "execution_count": 6,
   "metadata": {},
   "outputs": [
    {
     "data": {
      "text/plain": [
       "count     119390\n",
       "unique        12\n",
       "top       August\n",
       "freq       13877\n",
       "Name: arrival_date_month, dtype: object"
      ]
     },
     "execution_count": 6,
     "metadata": {},
     "output_type": "execute_result"
    }
   ],
   "source": [
    "# arrival_date_month\n",
    "dataset['arrival_date_month'].describe()"
   ]
  },
  {
   "cell_type": "code",
   "execution_count": 7,
   "metadata": {},
   "outputs": [
    {
     "data": {
      "text/plain": [
       "count    119390.000000\n",
       "mean         27.165173\n",
       "std          13.605138\n",
       "min           1.000000\n",
       "25%          16.000000\n",
       "50%          28.000000\n",
       "75%          38.000000\n",
       "max          53.000000\n",
       "Name: arrival_date_week_number, dtype: float64"
      ]
     },
     "execution_count": 7,
     "metadata": {},
     "output_type": "execute_result"
    }
   ],
   "source": [
    "# arrival_date_week_number\n",
    "# dataset['arrival_date_week_number'] = dataset['arrival_date_week_number'].astype(str)\n",
    "dataset['arrival_date_week_number'].describe()"
   ]
  },
  {
   "cell_type": "code",
   "execution_count": 8,
   "metadata": {},
   "outputs": [
    {
     "data": {
      "text/plain": [
       "count    119390.000000\n",
       "mean         15.798241\n",
       "std           8.780829\n",
       "min           1.000000\n",
       "25%           8.000000\n",
       "50%          16.000000\n",
       "75%          23.000000\n",
       "max          31.000000\n",
       "Name: arrival_date_day_of_month, dtype: float64"
      ]
     },
     "execution_count": 8,
     "metadata": {},
     "output_type": "execute_result"
    }
   ],
   "source": [
    "# arrival_date_day_of_month\n",
    "dataset['arrival_date_day_of_month'].describe()"
   ]
  },
  {
   "cell_type": "code",
   "execution_count": 9,
   "metadata": {},
   "outputs": [
    {
     "data": {
      "text/plain": [
       "count    119390.000000\n",
       "mean          0.927599\n",
       "std           0.998613\n",
       "min           0.000000\n",
       "25%           0.000000\n",
       "50%           1.000000\n",
       "75%           2.000000\n",
       "max          19.000000\n",
       "Name: stays_in_weekend_nights, dtype: float64"
      ]
     },
     "execution_count": 9,
     "metadata": {},
     "output_type": "execute_result"
    }
   ],
   "source": [
    "# stays_in_weekend_nights\n",
    "dataset['stays_in_weekend_nights'].describe()"
   ]
  },
  {
   "cell_type": "markdown",
   "metadata": {},
   "source": [
    "## Data Visualization"
   ]
  },
  {
   "cell_type": "code",
   "execution_count": 10,
   "metadata": {},
   "outputs": [
    {
     "data": {
      "text/plain": [
       "<Figure size 1440x720 with 0 Axes>"
      ]
     },
     "metadata": {},
     "output_type": "display_data"
    }
   ],
   "source": [
    "import seaborn as sns\n",
    "import matplotlib.pyplot as plt\n",
    "%matplotlib inline\n",
    "plt.figure(figsize = (20,10))\n",
    "sns.set(style='darkgrid')"
   ]
  },
  {
   "cell_type": "code",
   "execution_count": 11,
   "metadata": {},
   "outputs": [
    {
     "data": {
      "text/plain": [
       "<matplotlib.axes._subplots.AxesSubplot at 0x113ec4a90>"
      ]
     },
     "execution_count": 11,
     "metadata": {},
     "output_type": "execute_result"
    },
    {
     "data": {
      "image/png": "[encoded data removed]",
      "text/plain": [
       "<Figure size 1440x720 with 1 Axes>"
      ]
     },
     "metadata": {
      "needs_background": "light"
     },
     "output_type": "display_data"
    }
   ],
   "source": [
    "# The label - is_canceled\n",
    "plt.figure(figsize = (20,10))\n",
    "sns.countplot(dataset['is_canceled'])"
   ]
  },
  {
   "cell_type": "markdown",
   "metadata": {},
   "source": [
    "- It seems that the majority of reservations were not canceled"
   ]
  },
  {
   "cell_type": "code",
   "execution_count": 12,
   "metadata": {},
   "outputs": [
    {
     "data": {
      "text/plain": [
       "<Figure size 1440x720 with 0 Axes>"
      ]
     },
     "metadata": {},
     "output_type": "display_data"
    },
    {
     "data": {
      "image/png": "[encoded data removed]",
      "text/plain": [
       "<Figure size 432x288 with 1 Axes>"
      ]
     },
     "metadata": {
      "needs_background": "light"
     },
     "output_type": "display_data"
    },
    {
     "data": {
      "text/plain": [
       "<Figure size 1440x720 with 0 Axes>"
      ]
     },
     "metadata": {},
     "output_type": "display_data"
    }
   ],
   "source": [
    "# Stacked Bar chart for hotel\n",
    "plt.figure(figsize = (20,10))\n",
    "\n",
    "canceled = dataset[dataset.is_canceled==1]['hotel'].value_counts()\n",
    "not_canceled = dataset[dataset.is_canceled==0]['hotel'].value_counts()\n",
    "\n",
    "labels = ['City Hotel', 'Resort Hotel']\n",
    "fig, ax = plt.subplots()\n",
    "plt.figure(figsize = (20,10))\n",
    "ax.bar(labels, not_canceled, label='Not Canceled')\n",
    "ax.bar(labels, canceled, bottom=not_canceled, label='Canceled')\n",
    "\n",
    "ax.legend()\n",
    "plt.show()"
   ]
  },
  {
   "cell_type": "markdown",
   "metadata": {},
   "source": [
    "- City Hotel has more bookings (3/4 of bookings), any maybe that's why it has more cancellations.\n",
    "- City Hotel has more bookings because it is more affordable\n",
    "#### Resort Hotel is more appropriate for larger group of customers (family with childern)??  -- need to find out the relation."
   ]
  },
  {
   "cell_type": "code",
   "execution_count": 13,
   "metadata": {},
   "outputs": [
    {
     "data": {
      "text/plain": [
       "<matplotlib.axes._subplots.AxesSubplot at 0x116860a50>"
      ]
     },
     "execution_count": 13,
     "metadata": {},
     "output_type": "execute_result"
    },
    {
     "data": {
      "image/png": "[encoded data removed]",
      "text/plain": [
       "<Figure size 1440x720 with 1 Axes>"
      ]
     },
     "metadata": {
      "needs_background": "light"
     },
     "output_type": "display_data"
    }
   ],
   "source": [
    "# boxplot for lead time and for lead time\n",
    "plt.figure(figsize = (20,10))\n",
    "sns.boxplot(dataset['lead_time'])"
   ]
  },
  {
   "cell_type": "markdown",
   "metadata": {},
   "source": [
    "- The outliers are those larger than ~370\n",
    "- The majority are smaller than 200"
   ]
  },
  {
   "cell_type": "code",
   "execution_count": 14,
   "metadata": {},
   "outputs": [
    {
     "data": {
      "text/plain": [
       "<matplotlib.axes._subplots.AxesSubplot at 0x11746e490>"
      ]
     },
     "execution_count": 14,
     "metadata": {},
     "output_type": "execute_result"
    },
    {
     "data": {
      "image/png": "[encoded data removed]",
      "text/plain": [
       "<Figure size 1440x720 with 1 Axes>"
      ]
     },
     "metadata": {
      "needs_background": "light"
     },
     "output_type": "display_data"
    }
   ],
   "source": [
    "# boxplot for lead time and for lead time reagarding to is_canceled\n",
    "plt.figure(figsize = (20,10))\n",
    "sns.boxplot(x=dataset['is_canceled'],y=dataset['lead_time'])"
   ]
  },
  {
   "cell_type": "markdown",
   "metadata": {},
   "source": [
    "- Bookings tend to be canceled when the lead time is longer"
   ]
  },
  {
   "cell_type": "code",
   "execution_count": 15,
   "metadata": {},
   "outputs": [
    {
     "data": {
      "text/plain": [
       "<seaborn.axisgrid.FacetGrid at 0x113c90190>"
      ]
     },
     "execution_count": 15,
     "metadata": {},
     "output_type": "execute_result"
    },
    {
     "data": {
      "text/plain": [
       "<Figure size 1440x720 with 0 Axes>"
      ]
     },
     "metadata": {},
     "output_type": "display_data"
    },
    {
     "data": {
      "image/png": "[encoded data removed]",
      "text/plain": [
       "<Figure size 494.675x432 with 1 Axes>"
      ]
     },
     "metadata": {
      "needs_background": "light"
     },
     "output_type": "display_data"
    }
   ],
   "source": [
    "# Density Curve for lead time by cancellation\n",
    "plt.figure(figsize = (20,10))\n",
    "sns.FacetGrid(dataset,hue='is_canceled',height=6,xlim=[0,740]).map(sns.kdeplot,'lead_time',shade=True).add_legend()"
   ]
  },
  {
   "cell_type": "code",
   "execution_count": 16,
   "metadata": {},
   "outputs": [
    {
     "data": {
      "text/plain": [
       "<matplotlib.axes._subplots.AxesSubplot at 0x1a1bb31590>"
      ]
     },
     "execution_count": 16,
     "metadata": {},
     "output_type": "execute_result"
    },
    {
     "data": {
      "image/png": "[encoded data removed]",
      "text/plain": [
       "<Figure size 1440x720 with 1 Axes>"
      ]
     },
     "metadata": {
      "needs_background": "light"
     },
     "output_type": "display_data"
    }
   ],
   "source": [
    "# bar chart for lead time with regard to arrival year\n",
    "plt.figure(figsize = (20,10))\n",
    "sns.barplot(x ='arrival_date_year', y = 'lead_time', data = dataset)"
   ]
  },
  {
   "cell_type": "markdown",
   "metadata": {},
   "source": [
    "- When the lead time is larger than 60, people tend to cancel their bookings"
   ]
  },
  {
   "cell_type": "code",
   "execution_count": 17,
   "metadata": {},
   "outputs": [
    {
     "data": {
      "text/plain": [
       "<matplotlib.axes._subplots.AxesSubplot at 0x1a1d772ad0>"
      ]
     },
     "execution_count": 17,
     "metadata": {},
     "output_type": "execute_result"
    },
    {
     "data": {
      "image/png": "[encoded data removed]",
      "text/plain": [
       "<Figure size 1440x720 with 1 Axes>"
      ]
     },
     "metadata": {
      "needs_background": "light"
     },
     "output_type": "display_data"
    }
   ],
   "source": [
    "# Stacked Bar chart for arrival year\n",
    "plt.figure(figsize = (20,10))\n",
    "sns.barplot(x='arrival_date_year', y='is_canceled', hue='hotel',data=dataset)"
   ]
  },
  {
   "cell_type": "markdown",
   "metadata": {},
   "source": [
    "- 2016 has more reservations, but the overall cancellation rates among three years are approximately the same"
   ]
  },
  {
   "cell_type": "code",
   "execution_count": 18,
   "metadata": {},
   "outputs": [
    {
     "data": {
      "text/plain": [
       "<matplotlib.axes._subplots.AxesSubplot at 0x1a1d73e890>"
      ]
     },
     "execution_count": 18,
     "metadata": {},
     "output_type": "execute_result"
    },
    {
     "data": {
      "image/png": "[encoded data removed]",
      "text/plain": [
       "<Figure size 1440x720 with 1 Axes>"
      ]
     },
     "metadata": {
      "needs_background": "light"
     },
     "output_type": "display_data"
    }
   ],
   "source": [
    "# Bar chart for arrival month\n",
    "plt.figure(figsize = (20,10))\n",
    "month=['January', 'February', 'March', 'April', 'May', 'June', 'July', \n",
    "       'August', 'September', 'October', 'November', 'December']\n",
    "sns.barplot(x = 'arrival_date_month', y = 'is_canceled', hue = 'hotel', data=dataset, order=month)"
   ]
  },
  {
   "cell_type": "markdown",
   "metadata": {},
   "source": [
    "- Increasing more bookings arond the middle of the year (summer period is the peak)"
   ]
  },
  {
   "cell_type": "code",
   "execution_count": 19,
   "metadata": {},
   "outputs": [
    {
     "data": {
      "text/plain": [
       "<seaborn.axisgrid.FacetGrid at 0x1176e4510>"
      ]
     },
     "execution_count": 19,
     "metadata": {},
     "output_type": "execute_result"
    },
    {
     "data": {
      "text/plain": [
       "<Figure size 1440x720 with 0 Axes>"
      ]
     },
     "metadata": {},
     "output_type": "display_data"
    },
    {
     "data": {
      "image/png": "[encoded data removed]",
      "text/plain": [
       "<Figure size 494.675x432 with 1 Axes>"
      ]
     },
     "metadata": {
      "needs_background": "light"
     },
     "output_type": "display_data"
    }
   ],
   "source": [
    "# Density Curve for arrival week number by cancellation\n",
    "plt.figure(figsize = (20,10))\n",
    "sns.FacetGrid(dataset, hue = 'is_canceled',height = 6, xlim=[1,53]).map(sns.kdeplot, 'arrival_date_week_number',shade=True).add_legend()"
   ]
  },
  {
   "cell_type": "code",
   "execution_count": 20,
   "metadata": {},
   "outputs": [
    {
     "data": {
      "text/plain": [
       "<matplotlib.axes._subplots.AxesSubplot at 0x113e1b3d0>"
      ]
     },
     "execution_count": 20,
     "metadata": {},
     "output_type": "execute_result"
    },
    {
     "data": {
      "image/png": "[encoded data removed]",
      "text/plain": [
       "<Figure size 1440x720 with 1 Axes>"
      ]
     },
     "metadata": {
      "needs_background": "light"
     },
     "output_type": "display_data"
    }
   ],
   "source": [
    "# bar chart for arrival date of month\n",
    "plt.figure(figsize=(20,10))\n",
    "sns.barplot(x='arrival_date_day_of_month', y='is_canceled', hue='hotel',data=dataset)"
   ]
  },
  {
   "cell_type": "markdown",
   "metadata": {},
   "source": [
    "- flucutations for the arrival day of month."
   ]
  },
  {
   "cell_type": "code",
   "execution_count": 21,
   "metadata": {},
   "outputs": [
    {
     "data": {
      "text/plain": [
       "<matplotlib.axes._subplots.AxesSubplot at 0x1156bc9d0>"
      ]
     },
     "execution_count": 21,
     "metadata": {},
     "output_type": "execute_result"
    },
    {
     "data": {
      "image/png": "[encoded data removed]",
      "text/plain": [
       "<Figure size 1440x720 with 1 Axes>"
      ]
     },
     "metadata": {
      "needs_background": "light"
     },
     "output_type": "display_data"
    }
   ],
   "source": [
    "# box plot of stays on weekend nights\n",
    "plt.figure(figsize = (20,10))\n",
    "sns.boxplot(x=dataset['stays_in_weekend_nights'])"
   ]
  },
  {
   "cell_type": "markdown",
   "metadata": {},
   "source": [
    "- outlikers are larger than 5\n",
    "- majority is smaller than 2.5 days (i.e. around one weekend)"
   ]
  },
  {
   "cell_type": "code",
   "execution_count": 22,
   "metadata": {},
   "outputs": [
    {
     "data": {
      "text/plain": [
       "<matplotlib.axes._subplots.AxesSubplot at 0x117056510>"
      ]
     },
     "execution_count": 22,
     "metadata": {},
     "output_type": "execute_result"
    },
    {
     "data": {
      "image/png": "[encoded data removed]",
      "text/plain": [
       "<Figure size 1440x720 with 1 Axes>"
      ]
     },
     "metadata": {
      "needs_background": "light"
     },
     "output_type": "display_data"
    }
   ],
   "source": [
    "# box plot of stays on weekend nights by is_canceled\n",
    "plt.figure(figsize = (20,10))\n",
    "sns.boxplot(x=dataset['is_canceled'],y=dataset['stays_in_weekend_nights'])"
   ]
  },
  {
   "cell_type": "code",
   "execution_count": 23,
   "metadata": {},
   "outputs": [
    {
     "data": {
      "text/plain": [
       "<matplotlib.axes._subplots.AxesSubplot at 0x11734d710>"
      ]
     },
     "execution_count": 23,
     "metadata": {},
     "output_type": "execute_result"
    },
    {
     "data": {
      "image/png": "[encoded data removed]",
      "text/plain": [
       "<Figure size 1440x720 with 1 Axes>"
      ]
     },
     "metadata": {
      "needs_background": "light"
     },
     "output_type": "display_data"
    }
   ],
   "source": [
    "plt.figure(figsize = (20,10))\n",
    "sns.countplot(x='stays_in_weekend_nights', hue='hotel', data=dataset)"
   ]
  },
  {
   "cell_type": "code",
   "execution_count": 24,
   "metadata": {},
   "outputs": [
    {
     "data": {
      "text/plain": [
       "<matplotlib.axes._subplots.AxesSubplot at 0x115669850>"
      ]
     },
     "execution_count": 24,
     "metadata": {},
     "output_type": "execute_result"
    },
    {
     "data": {
      "image/png": "[encoded data removed]",
      "text/plain": [
       "<Figure size 1440x720 with 1 Axes>"
      ]
     },
     "metadata": {
      "needs_background": "light"
     },
     "output_type": "display_data"
    }
   ],
   "source": [
    "# bar chart for stays on weekend nights\n",
    "plt.figure(figsize=(20,10))\n",
    "sns.barplot(x='stays_in_weekend_nights', y='is_canceled', hue='hotel', data=dataset)"
   ]
  },
  {
   "cell_type": "markdown",
   "metadata": {},
   "source": [
    "- The cancellation rates tend to increase as the increase in weekend nights"
   ]
  },
  {
   "cell_type": "markdown",
   "metadata": {},
   "source": [
    "## Feature Engineering"
   ]
  },
  {
   "cell_type": "code",
   "execution_count": 25,
   "metadata": {},
   "outputs": [
    {
     "data": {
      "text/plain": [
       "hotel                              object\n",
       "is_canceled                         int64\n",
       "lead_time                           int64\n",
       "arrival_date_year                   int64\n",
       "arrival_date_month                 object\n",
       "arrival_date_week_number            int64\n",
       "arrival_date_day_of_month           int64\n",
       "stays_in_weekend_nights             int64\n",
       "stays_in_week_nights                int64\n",
       "adults                              int64\n",
       "children                          float64\n",
       "babies                              int64\n",
       "meal                               object\n",
       "country                            object\n",
       "market_segment                     object\n",
       "distribution_channel               object\n",
       "is_repeated_guest                   int64\n",
       "previous_cancellations              int64\n",
       "previous_bookings_not_canceled      int64\n",
       "reserved_room_type                 object\n",
       "assigned_room_type                 object\n",
       "booking_changes                     int64\n",
       "deposit_type                       object\n",
       "agent                             float64\n",
       "company                           float64\n",
       "days_in_waiting_list                int64\n",
       "customer_type                      object\n",
       "adr                               float64\n",
       "required_car_parking_spaces         int64\n",
       "total_of_special_requests           int64\n",
       "reservation_status                 object\n",
       "reservation_status_date            object\n",
       "dtype: object"
      ]
     },
     "execution_count": 25,
     "metadata": {},
     "output_type": "execute_result"
    }
   ],
   "source": [
    "# to check the feature types\n",
    "dataset.dtypes"
   ]
  },
  {
   "cell_type": "code",
   "execution_count": 26,
   "metadata": {},
   "outputs": [],
   "source": [
    "# change hotels to 0 and 1 (City Hotel: 1, Resort Hotel: 0)\n",
    "dataset['hotel'] = dataset.hotel.replace(['Resort Hotel','City Hotel'],[0,1] )"
   ]
  },
  {
   "cell_type": "code",
   "execution_count": 27,
   "metadata": {},
   "outputs": [],
   "source": [
    "# change arrival date month to 1 to 12\n",
    "dataset['arrival_date_month'] = dataset.arrival_date_month.replace(month,np.arange(1,13))"
   ]
  },
  {
   "cell_type": "markdown",
   "metadata": {},
   "source": [
    "### Optional: Data transformation and handle outliers"
   ]
  },
  {
   "cell_type": "code",
   "execution_count": 28,
   "metadata": {},
   "outputs": [],
   "source": [
    "from scipy import stats"
   ]
  },
  {
   "cell_type": "code",
   "execution_count": 29,
   "metadata": {},
   "outputs": [
    {
     "data": {
      "text/plain": [
       "1.3465498727254268"
      ]
     },
     "execution_count": 29,
     "metadata": {},
     "output_type": "execute_result"
    }
   ],
   "source": [
    "# lead time\n",
    "dataset['lead_time'].skew()"
   ]
  },
  {
   "cell_type": "code",
   "execution_count": 30,
   "metadata": {},
   "outputs": [
    {
     "data": {
      "text/plain": [
       "-0.903993835862541"
      ]
     },
     "execution_count": 30,
     "metadata": {},
     "output_type": "execute_result"
    }
   ],
   "source": [
    "dataset['log_lead'] = dataset['lead_time'].map(lambda i: np.log(i) if i > 0 else 0)\n",
    "dataset['log_lead'].skew()"
   ]
  },
  {
   "cell_type": "code",
   "execution_count": 31,
   "metadata": {},
   "outputs": [
    {
     "data": {
      "text/plain": [
       "<matplotlib.axes._subplots.AxesSubplot at 0x1a1ccc9810>"
      ]
     },
     "execution_count": 31,
     "metadata": {},
     "output_type": "execute_result"
    },
    {
     "data": {
      "image/png": "[encoded data removed]",
      "text/plain": [
       "<Figure size 1440x720 with 1 Axes>"
      ]
     },
     "metadata": {
      "needs_background": "light"
     },
     "output_type": "display_data"
    }
   ],
   "source": [
    "plt.figure(figsize = (20,10))\n",
    "sns.boxplot(dataset['log_lead'])"
   ]
  },
  {
   "cell_type": "code",
   "execution_count": 32,
   "metadata": {},
   "outputs": [],
   "source": [
    "# stays_in_weekend_nights\n",
    "dataset['stays_in_weekend_nights'] = np.where(dataset['stays_in_weekend_nights'] > 5, 5, dataset['stays_in_weekend_nights'])"
   ]
  },
  {
   "cell_type": "code",
   "execution_count": 33,
   "metadata": {},
   "outputs": [
    {
     "data": {
      "text/plain": [
       "<matplotlib.axes._subplots.AxesSubplot at 0x1a1a4e8e50>"
      ]
     },
     "execution_count": 33,
     "metadata": {},
     "output_type": "execute_result"
    },
    {
     "data": {
      "image/png": "[encoded data removed]",
      "text/plain": [
       "<Figure size 1440x720 with 1 Axes>"
      ]
     },
     "metadata": {
      "needs_background": "light"
     },
     "output_type": "display_data"
    }
   ],
   "source": [
    "plt.figure(figsize = (20,10))\n",
    "sns.boxplot(dataset['stays_in_weekend_nights'])"
   ]
  },
  {
   "cell_type": "code",
   "execution_count": 34,
   "metadata": {},
   "outputs": [
    {
     "data": {
      "text/plain": [
       "<matplotlib.axes._subplots.AxesSubplot at 0x116251290>"
      ]
     },
     "execution_count": 34,
     "metadata": {},
     "output_type": "execute_result"
    },
    {
     "data": {
      "image/png": "[encoded data removed]",
      "text/plain": [
       "<Figure size 1440x720 with 1 Axes>"
      ]
     },
     "metadata": {
      "needs_background": "light"
     },
     "output_type": "display_data"
    }
   ],
   "source": [
    "plt.figure(figsize = (20,10))\n",
    "sns.countplot(dataset['stays_in_weekend_nights'])"
   ]
  },
  {
   "cell_type": "markdown",
   "metadata": {},
   "source": [
    "## Correlations (after feature engineering)"
   ]
  },
  {
   "cell_type": "code",
   "execution_count": 35,
   "metadata": {},
   "outputs": [
    {
     "data": {
      "text/html": [
       "<div>\n",
       "<style scoped>\n",
       "    .dataframe tbody tr th:only-of-type {\n",
       "        vertical-align: middle;\n",
       "    }\n",
       "\n",
       "    .dataframe tbody tr th {\n",
       "        vertical-align: top;\n",
       "    }\n",
       "\n",
       "    .dataframe thead th {\n",
       "        text-align: right;\n",
       "    }\n",
       "</style>\n",
       "<table border=\"1\" class=\"dataframe\">\n",
       "  <thead>\n",
       "    <tr style=\"text-align: right;\">\n",
       "      <th></th>\n",
       "      <th>hotel</th>\n",
       "      <th>is_canceled</th>\n",
       "      <th>lead_time</th>\n",
       "      <th>arrival_date_year</th>\n",
       "      <th>arrival_date_month</th>\n",
       "      <th>arrival_date_week_number</th>\n",
       "      <th>arrival_date_day_of_month</th>\n",
       "      <th>stays_in_weekend_nights</th>\n",
       "      <th>stays_in_week_nights</th>\n",
       "      <th>adults</th>\n",
       "      <th>...</th>\n",
       "      <th>previous_cancellations</th>\n",
       "      <th>previous_bookings_not_canceled</th>\n",
       "      <th>booking_changes</th>\n",
       "      <th>agent</th>\n",
       "      <th>company</th>\n",
       "      <th>days_in_waiting_list</th>\n",
       "      <th>adr</th>\n",
       "      <th>required_car_parking_spaces</th>\n",
       "      <th>total_of_special_requests</th>\n",
       "      <th>log_lead</th>\n",
       "    </tr>\n",
       "  </thead>\n",
       "  <tbody>\n",
       "    <tr>\n",
       "      <td>hotel</td>\n",
       "      <td>1.000000</td>\n",
       "      <td>0.136531</td>\n",
       "      <td>0.075381</td>\n",
       "      <td>0.035267</td>\n",
       "      <td>0.001817</td>\n",
       "      <td>0.001270</td>\n",
       "      <td>-0.001862</td>\n",
       "      <td>-0.188959</td>\n",
       "      <td>-0.234020</td>\n",
       "      <td>-0.013183</td>\n",
       "      <td>...</td>\n",
       "      <td>-0.012292</td>\n",
       "      <td>-0.004441</td>\n",
       "      <td>-0.072820</td>\n",
       "      <td>-0.790232</td>\n",
       "      <td>-0.364093</td>\n",
       "      <td>0.072432</td>\n",
       "      <td>0.096719</td>\n",
       "      <td>-0.218873</td>\n",
       "      <td>-0.043390</td>\n",
       "      <td>0.108615</td>\n",
       "    </tr>\n",
       "    <tr>\n",
       "      <td>is_canceled</td>\n",
       "      <td>0.136531</td>\n",
       "      <td>1.000000</td>\n",
       "      <td>0.293123</td>\n",
       "      <td>0.016660</td>\n",
       "      <td>0.011022</td>\n",
       "      <td>0.008148</td>\n",
       "      <td>-0.006130</td>\n",
       "      <td>-0.002844</td>\n",
       "      <td>0.024765</td>\n",
       "      <td>0.060017</td>\n",
       "      <td>...</td>\n",
       "      <td>0.110133</td>\n",
       "      <td>-0.057358</td>\n",
       "      <td>-0.144381</td>\n",
       "      <td>-0.083114</td>\n",
       "      <td>-0.020642</td>\n",
       "      <td>0.054186</td>\n",
       "      <td>0.047557</td>\n",
       "      <td>-0.195498</td>\n",
       "      <td>-0.234658</td>\n",
       "      <td>0.319718</td>\n",
       "    </tr>\n",
       "    <tr>\n",
       "      <td>lead_time</td>\n",
       "      <td>0.075381</td>\n",
       "      <td>0.293123</td>\n",
       "      <td>1.000000</td>\n",
       "      <td>0.040142</td>\n",
       "      <td>0.131424</td>\n",
       "      <td>0.126871</td>\n",
       "      <td>0.002268</td>\n",
       "      <td>0.088056</td>\n",
       "      <td>0.165799</td>\n",
       "      <td>0.119519</td>\n",
       "      <td>...</td>\n",
       "      <td>0.086042</td>\n",
       "      <td>-0.073548</td>\n",
       "      <td>0.000149</td>\n",
       "      <td>-0.069741</td>\n",
       "      <td>0.151464</td>\n",
       "      <td>0.170084</td>\n",
       "      <td>-0.063077</td>\n",
       "      <td>-0.116451</td>\n",
       "      <td>-0.095712</td>\n",
       "      <td>0.787018</td>\n",
       "    </tr>\n",
       "    <tr>\n",
       "      <td>arrival_date_year</td>\n",
       "      <td>0.035267</td>\n",
       "      <td>0.016660</td>\n",
       "      <td>0.040142</td>\n",
       "      <td>1.000000</td>\n",
       "      <td>-0.527739</td>\n",
       "      <td>-0.540561</td>\n",
       "      <td>-0.000221</td>\n",
       "      <td>0.021495</td>\n",
       "      <td>0.030883</td>\n",
       "      <td>0.029635</td>\n",
       "      <td>...</td>\n",
       "      <td>-0.119822</td>\n",
       "      <td>0.029218</td>\n",
       "      <td>0.030872</td>\n",
       "      <td>0.063457</td>\n",
       "      <td>0.259095</td>\n",
       "      <td>-0.056497</td>\n",
       "      <td>0.197580</td>\n",
       "      <td>-0.013684</td>\n",
       "      <td>0.108531</td>\n",
       "      <td>0.059237</td>\n",
       "    </tr>\n",
       "    <tr>\n",
       "      <td>arrival_date_month</td>\n",
       "      <td>0.001817</td>\n",
       "      <td>0.011022</td>\n",
       "      <td>0.131424</td>\n",
       "      <td>-0.527739</td>\n",
       "      <td>1.000000</td>\n",
       "      <td>0.995105</td>\n",
       "      <td>-0.026063</td>\n",
       "      <td>0.021979</td>\n",
       "      <td>0.019212</td>\n",
       "      <td>0.028534</td>\n",
       "      <td>...</td>\n",
       "      <td>0.037479</td>\n",
       "      <td>-0.021640</td>\n",
       "      <td>0.004809</td>\n",
       "      <td>-0.030534</td>\n",
       "      <td>-0.074658</td>\n",
       "      <td>0.019045</td>\n",
       "      <td>0.079315</td>\n",
       "      <td>0.000257</td>\n",
       "      <td>0.028026</td>\n",
       "      <td>0.105503</td>\n",
       "    </tr>\n",
       "    <tr>\n",
       "      <td>arrival_date_week_number</td>\n",
       "      <td>0.001270</td>\n",
       "      <td>0.008148</td>\n",
       "      <td>0.126871</td>\n",
       "      <td>-0.540561</td>\n",
       "      <td>0.995105</td>\n",
       "      <td>1.000000</td>\n",
       "      <td>0.066809</td>\n",
       "      <td>0.021863</td>\n",
       "      <td>0.015558</td>\n",
       "      <td>0.025909</td>\n",
       "      <td>...</td>\n",
       "      <td>0.035501</td>\n",
       "      <td>-0.020904</td>\n",
       "      <td>0.005508</td>\n",
       "      <td>-0.031201</td>\n",
       "      <td>-0.076760</td>\n",
       "      <td>0.022933</td>\n",
       "      <td>0.075791</td>\n",
       "      <td>0.001920</td>\n",
       "      <td>0.026149</td>\n",
       "      <td>0.101695</td>\n",
       "    </tr>\n",
       "    <tr>\n",
       "      <td>arrival_date_day_of_month</td>\n",
       "      <td>-0.001862</td>\n",
       "      <td>-0.006130</td>\n",
       "      <td>0.002268</td>\n",
       "      <td>-0.000221</td>\n",
       "      <td>-0.026063</td>\n",
       "      <td>0.066809</td>\n",
       "      <td>1.000000</td>\n",
       "      <td>-0.015149</td>\n",
       "      <td>-0.028174</td>\n",
       "      <td>-0.001566</td>\n",
       "      <td>...</td>\n",
       "      <td>-0.027011</td>\n",
       "      <td>-0.000300</td>\n",
       "      <td>0.010613</td>\n",
       "      <td>0.001487</td>\n",
       "      <td>0.044858</td>\n",
       "      <td>0.022728</td>\n",
       "      <td>0.030245</td>\n",
       "      <td>0.008683</td>\n",
       "      <td>0.003062</td>\n",
       "      <td>0.009306</td>\n",
       "    </tr>\n",
       "    <tr>\n",
       "      <td>stays_in_weekend_nights</td>\n",
       "      <td>-0.188959</td>\n",
       "      <td>-0.002844</td>\n",
       "      <td>0.088056</td>\n",
       "      <td>0.021495</td>\n",
       "      <td>0.021979</td>\n",
       "      <td>0.021863</td>\n",
       "      <td>-0.015149</td>\n",
       "      <td>1.000000</td>\n",
       "      <td>0.460587</td>\n",
       "      <td>0.096942</td>\n",
       "      <td>...</td>\n",
       "      <td>-0.012790</td>\n",
       "      <td>-0.043881</td>\n",
       "      <td>0.052436</td>\n",
       "      <td>0.142460</td>\n",
       "      <td>0.069203</td>\n",
       "      <td>-0.055222</td>\n",
       "      <td>0.054905</td>\n",
       "      <td>-0.018449</td>\n",
       "      <td>0.074573</td>\n",
       "      <td>0.195073</td>\n",
       "    </tr>\n",
       "    <tr>\n",
       "      <td>stays_in_week_nights</td>\n",
       "      <td>-0.234020</td>\n",
       "      <td>0.024765</td>\n",
       "      <td>0.165799</td>\n",
       "      <td>0.030883</td>\n",
       "      <td>0.019212</td>\n",
       "      <td>0.015558</td>\n",
       "      <td>-0.028174</td>\n",
       "      <td>0.460587</td>\n",
       "      <td>1.000000</td>\n",
       "      <td>0.092976</td>\n",
       "      <td>...</td>\n",
       "      <td>-0.013992</td>\n",
       "      <td>-0.048743</td>\n",
       "      <td>0.096209</td>\n",
       "      <td>0.182382</td>\n",
       "      <td>0.182211</td>\n",
       "      <td>-0.002020</td>\n",
       "      <td>0.065237</td>\n",
       "      <td>-0.024859</td>\n",
       "      <td>0.068192</td>\n",
       "      <td>0.271794</td>\n",
       "    </tr>\n",
       "    <tr>\n",
       "      <td>adults</td>\n",
       "      <td>-0.013183</td>\n",
       "      <td>0.060017</td>\n",
       "      <td>0.119519</td>\n",
       "      <td>0.029635</td>\n",
       "      <td>0.028534</td>\n",
       "      <td>0.025909</td>\n",
       "      <td>-0.001566</td>\n",
       "      <td>0.096942</td>\n",
       "      <td>0.092976</td>\n",
       "      <td>1.000000</td>\n",
       "      <td>...</td>\n",
       "      <td>-0.006738</td>\n",
       "      <td>-0.107983</td>\n",
       "      <td>-0.051673</td>\n",
       "      <td>-0.035594</td>\n",
       "      <td>0.207793</td>\n",
       "      <td>-0.008283</td>\n",
       "      <td>0.230641</td>\n",
       "      <td>0.014785</td>\n",
       "      <td>0.122884</td>\n",
       "      <td>0.182810</td>\n",
       "    </tr>\n",
       "    <tr>\n",
       "      <td>children</td>\n",
       "      <td>-0.044205</td>\n",
       "      <td>0.005048</td>\n",
       "      <td>-0.037622</td>\n",
       "      <td>0.054624</td>\n",
       "      <td>0.005441</td>\n",
       "      <td>0.005518</td>\n",
       "      <td>0.014544</td>\n",
       "      <td>0.047858</td>\n",
       "      <td>0.044203</td>\n",
       "      <td>0.030447</td>\n",
       "      <td>...</td>\n",
       "      <td>-0.024730</td>\n",
       "      <td>-0.021072</td>\n",
       "      <td>0.048949</td>\n",
       "      <td>0.041066</td>\n",
       "      <td>0.030931</td>\n",
       "      <td>-0.033273</td>\n",
       "      <td>0.324854</td>\n",
       "      <td>0.056253</td>\n",
       "      <td>0.081745</td>\n",
       "      <td>-0.004041</td>\n",
       "    </tr>\n",
       "    <tr>\n",
       "      <td>babies</td>\n",
       "      <td>-0.043434</td>\n",
       "      <td>-0.032491</td>\n",
       "      <td>-0.020915</td>\n",
       "      <td>-0.013192</td>\n",
       "      <td>0.010172</td>\n",
       "      <td>0.010395</td>\n",
       "      <td>-0.000230</td>\n",
       "      <td>0.019485</td>\n",
       "      <td>0.020191</td>\n",
       "      <td>0.018146</td>\n",
       "      <td>...</td>\n",
       "      <td>-0.007501</td>\n",
       "      <td>-0.006550</td>\n",
       "      <td>0.083440</td>\n",
       "      <td>0.036184</td>\n",
       "      <td>0.019206</td>\n",
       "      <td>-0.010621</td>\n",
       "      <td>0.029186</td>\n",
       "      <td>0.037383</td>\n",
       "      <td>0.097889</td>\n",
       "      <td>-0.016758</td>\n",
       "    </tr>\n",
       "    <tr>\n",
       "      <td>is_repeated_guest</td>\n",
       "      <td>-0.050421</td>\n",
       "      <td>-0.084793</td>\n",
       "      <td>-0.124410</td>\n",
       "      <td>0.010341</td>\n",
       "      <td>-0.030729</td>\n",
       "      <td>-0.030131</td>\n",
       "      <td>-0.006145</td>\n",
       "      <td>-0.089930</td>\n",
       "      <td>-0.097245</td>\n",
       "      <td>-0.146426</td>\n",
       "      <td>...</td>\n",
       "      <td>0.082293</td>\n",
       "      <td>0.418056</td>\n",
       "      <td>0.012092</td>\n",
       "      <td>0.031527</td>\n",
       "      <td>-0.244586</td>\n",
       "      <td>-0.022235</td>\n",
       "      <td>-0.134314</td>\n",
       "      <td>0.077090</td>\n",
       "      <td>0.013050</td>\n",
       "      <td>-0.236073</td>\n",
       "    </tr>\n",
       "    <tr>\n",
       "      <td>previous_cancellations</td>\n",
       "      <td>-0.012292</td>\n",
       "      <td>0.110133</td>\n",
       "      <td>0.086042</td>\n",
       "      <td>-0.119822</td>\n",
       "      <td>0.037479</td>\n",
       "      <td>0.035501</td>\n",
       "      <td>-0.027011</td>\n",
       "      <td>-0.012790</td>\n",
       "      <td>-0.013992</td>\n",
       "      <td>-0.006738</td>\n",
       "      <td>...</td>\n",
       "      <td>1.000000</td>\n",
       "      <td>0.152728</td>\n",
       "      <td>-0.026993</td>\n",
       "      <td>-0.012488</td>\n",
       "      <td>-0.184574</td>\n",
       "      <td>0.005929</td>\n",
       "      <td>-0.065646</td>\n",
       "      <td>-0.018492</td>\n",
       "      <td>-0.048384</td>\n",
       "      <td>0.055348</td>\n",
       "    </tr>\n",
       "    <tr>\n",
       "      <td>previous_bookings_not_canceled</td>\n",
       "      <td>-0.004441</td>\n",
       "      <td>-0.057358</td>\n",
       "      <td>-0.073548</td>\n",
       "      <td>0.029218</td>\n",
       "      <td>-0.021640</td>\n",
       "      <td>-0.020904</td>\n",
       "      <td>-0.000300</td>\n",
       "      <td>-0.043881</td>\n",
       "      <td>-0.048743</td>\n",
       "      <td>-0.107983</td>\n",
       "      <td>...</td>\n",
       "      <td>0.152728</td>\n",
       "      <td>1.000000</td>\n",
       "      <td>0.011608</td>\n",
       "      <td>0.023252</td>\n",
       "      <td>-0.208557</td>\n",
       "      <td>-0.009397</td>\n",
       "      <td>-0.072144</td>\n",
       "      <td>0.047653</td>\n",
       "      <td>0.037824</td>\n",
       "      <td>-0.122847</td>\n",
       "    </tr>\n",
       "    <tr>\n",
       "      <td>booking_changes</td>\n",
       "      <td>-0.072820</td>\n",
       "      <td>-0.144381</td>\n",
       "      <td>0.000149</td>\n",
       "      <td>0.030872</td>\n",
       "      <td>0.004809</td>\n",
       "      <td>0.005508</td>\n",
       "      <td>0.010613</td>\n",
       "      <td>0.052436</td>\n",
       "      <td>0.096209</td>\n",
       "      <td>-0.051673</td>\n",
       "      <td>...</td>\n",
       "      <td>-0.026993</td>\n",
       "      <td>0.011608</td>\n",
       "      <td>1.000000</td>\n",
       "      <td>0.067010</td>\n",
       "      <td>0.122098</td>\n",
       "      <td>-0.011634</td>\n",
       "      <td>0.019618</td>\n",
       "      <td>0.065620</td>\n",
       "      <td>0.052833</td>\n",
       "      <td>0.003958</td>\n",
       "    </tr>\n",
       "    <tr>\n",
       "      <td>agent</td>\n",
       "      <td>-0.790232</td>\n",
       "      <td>-0.083114</td>\n",
       "      <td>-0.069741</td>\n",
       "      <td>0.063457</td>\n",
       "      <td>-0.030534</td>\n",
       "      <td>-0.031201</td>\n",
       "      <td>0.001487</td>\n",
       "      <td>0.142460</td>\n",
       "      <td>0.182382</td>\n",
       "      <td>-0.035594</td>\n",
       "      <td>...</td>\n",
       "      <td>-0.012488</td>\n",
       "      <td>0.023252</td>\n",
       "      <td>0.067010</td>\n",
       "      <td>1.000000</td>\n",
       "      <td>0.350746</td>\n",
       "      <td>-0.055151</td>\n",
       "      <td>-0.024695</td>\n",
       "      <td>0.177353</td>\n",
       "      <td>0.034162</td>\n",
       "      <td>-0.086287</td>\n",
       "    </tr>\n",
       "    <tr>\n",
       "      <td>company</td>\n",
       "      <td>-0.364093</td>\n",
       "      <td>-0.020642</td>\n",
       "      <td>0.151464</td>\n",
       "      <td>0.259095</td>\n",
       "      <td>-0.074658</td>\n",
       "      <td>-0.076760</td>\n",
       "      <td>0.044858</td>\n",
       "      <td>0.069203</td>\n",
       "      <td>0.182211</td>\n",
       "      <td>0.207793</td>\n",
       "      <td>...</td>\n",
       "      <td>-0.184574</td>\n",
       "      <td>-0.208557</td>\n",
       "      <td>0.122098</td>\n",
       "      <td>0.350746</td>\n",
       "      <td>1.000000</td>\n",
       "      <td>0.000411</td>\n",
       "      <td>0.086376</td>\n",
       "      <td>-0.012916</td>\n",
       "      <td>-0.098558</td>\n",
       "      <td>0.223027</td>\n",
       "    </tr>\n",
       "    <tr>\n",
       "      <td>days_in_waiting_list</td>\n",
       "      <td>0.072432</td>\n",
       "      <td>0.054186</td>\n",
       "      <td>0.170084</td>\n",
       "      <td>-0.056497</td>\n",
       "      <td>0.019045</td>\n",
       "      <td>0.022933</td>\n",
       "      <td>0.022728</td>\n",
       "      <td>-0.055222</td>\n",
       "      <td>-0.002020</td>\n",
       "      <td>-0.008283</td>\n",
       "      <td>...</td>\n",
       "      <td>0.005929</td>\n",
       "      <td>-0.009397</td>\n",
       "      <td>-0.011634</td>\n",
       "      <td>-0.055151</td>\n",
       "      <td>0.000411</td>\n",
       "      <td>1.000000</td>\n",
       "      <td>-0.040756</td>\n",
       "      <td>-0.030600</td>\n",
       "      <td>-0.082730</td>\n",
       "      <td>0.122801</td>\n",
       "    </tr>\n",
       "    <tr>\n",
       "      <td>adr</td>\n",
       "      <td>0.096719</td>\n",
       "      <td>0.047557</td>\n",
       "      <td>-0.063077</td>\n",
       "      <td>0.197580</td>\n",
       "      <td>0.079315</td>\n",
       "      <td>0.075791</td>\n",
       "      <td>0.030245</td>\n",
       "      <td>0.054905</td>\n",
       "      <td>0.065237</td>\n",
       "      <td>0.230641</td>\n",
       "      <td>...</td>\n",
       "      <td>-0.065646</td>\n",
       "      <td>-0.072144</td>\n",
       "      <td>0.019618</td>\n",
       "      <td>-0.024695</td>\n",
       "      <td>0.086376</td>\n",
       "      <td>-0.040756</td>\n",
       "      <td>1.000000</td>\n",
       "      <td>0.056628</td>\n",
       "      <td>0.172185</td>\n",
       "      <td>0.047399</td>\n",
       "    </tr>\n",
       "    <tr>\n",
       "      <td>required_car_parking_spaces</td>\n",
       "      <td>-0.218873</td>\n",
       "      <td>-0.195498</td>\n",
       "      <td>-0.116451</td>\n",
       "      <td>-0.013684</td>\n",
       "      <td>0.000257</td>\n",
       "      <td>0.001920</td>\n",
       "      <td>0.008683</td>\n",
       "      <td>-0.018449</td>\n",
       "      <td>-0.024859</td>\n",
       "      <td>0.014785</td>\n",
       "      <td>...</td>\n",
       "      <td>-0.018492</td>\n",
       "      <td>0.047653</td>\n",
       "      <td>0.065620</td>\n",
       "      <td>0.177353</td>\n",
       "      <td>-0.012916</td>\n",
       "      <td>-0.030600</td>\n",
       "      <td>0.056628</td>\n",
       "      <td>1.000000</td>\n",
       "      <td>0.082626</td>\n",
       "      <td>-0.149652</td>\n",
       "    </tr>\n",
       "    <tr>\n",
       "      <td>total_of_special_requests</td>\n",
       "      <td>-0.043390</td>\n",
       "      <td>-0.234658</td>\n",
       "      <td>-0.095712</td>\n",
       "      <td>0.108531</td>\n",
       "      <td>0.028026</td>\n",
       "      <td>0.026149</td>\n",
       "      <td>0.003062</td>\n",
       "      <td>0.074573</td>\n",
       "      <td>0.068192</td>\n",
       "      <td>0.122884</td>\n",
       "      <td>...</td>\n",
       "      <td>-0.048384</td>\n",
       "      <td>0.037824</td>\n",
       "      <td>0.052833</td>\n",
       "      <td>0.034162</td>\n",
       "      <td>-0.098558</td>\n",
       "      <td>-0.082730</td>\n",
       "      <td>0.172185</td>\n",
       "      <td>0.082626</td>\n",
       "      <td>1.000000</td>\n",
       "      <td>-0.030271</td>\n",
       "    </tr>\n",
       "    <tr>\n",
       "      <td>log_lead</td>\n",
       "      <td>0.108615</td>\n",
       "      <td>0.319718</td>\n",
       "      <td>0.787018</td>\n",
       "      <td>0.059237</td>\n",
       "      <td>0.105503</td>\n",
       "      <td>0.101695</td>\n",
       "      <td>0.009306</td>\n",
       "      <td>0.195073</td>\n",
       "      <td>0.271794</td>\n",
       "      <td>0.182810</td>\n",
       "      <td>...</td>\n",
       "      <td>0.055348</td>\n",
       "      <td>-0.122847</td>\n",
       "      <td>0.003958</td>\n",
       "      <td>-0.086287</td>\n",
       "      <td>0.223027</td>\n",
       "      <td>0.122801</td>\n",
       "      <td>0.047399</td>\n",
       "      <td>-0.149652</td>\n",
       "      <td>-0.030271</td>\n",
       "      <td>1.000000</td>\n",
       "    </tr>\n",
       "  </tbody>\n",
       "</table>\n",
       "<p>23 rows × 23 columns</p>\n",
       "</div>"
      ],
      "text/plain": [
       "                                   hotel  is_canceled  lead_time  \\\n",
       "hotel                           1.000000     0.136531   0.075381   \n",
       "is_canceled                     0.136531     1.000000   0.293123   \n",
       "lead_time                       0.075381     0.293123   1.000000   \n",
       "arrival_date_year               0.035267     0.016660   0.040142   \n",
       "arrival_date_month              0.001817     0.011022   0.131424   \n",
       "arrival_date_week_number        0.001270     0.008148   0.126871   \n",
       "arrival_date_day_of_month      -0.001862    -0.006130   0.002268   \n",
       "stays_in_weekend_nights        -0.188959    -0.002844   0.088056   \n",
       "stays_in_week_nights           -0.234020     0.024765   0.165799   \n",
       "adults                         -0.013183     0.060017   0.119519   \n",
       "children                       -0.044205     0.005048  -0.037622   \n",
       "babies                         -0.043434    -0.032491  -0.020915   \n",
       "is_repeated_guest              -0.050421    -0.084793  -0.124410   \n",
       "previous_cancellations         -0.012292     0.110133   0.086042   \n",
       "previous_bookings_not_canceled -0.004441    -0.057358  -0.073548   \n",
       "booking_changes                -0.072820    -0.144381   0.000149   \n",
       "agent                          -0.790232    -0.083114  -0.069741   \n",
       "company                        -0.364093    -0.020642   0.151464   \n",
       "days_in_waiting_list            0.072432     0.054186   0.170084   \n",
       "adr                             0.096719     0.047557  -0.063077   \n",
       "required_car_parking_spaces    -0.218873    -0.195498  -0.116451   \n",
       "total_of_special_requests      -0.043390    -0.234658  -0.095712   \n",
       "log_lead                        0.108615     0.319718   0.787018   \n",
       "\n",
       "                                arrival_date_year  arrival_date_month  \\\n",
       "hotel                                    0.035267            0.001817   \n",
       "is_canceled                              0.016660            0.011022   \n",
       "lead_time                                0.040142            0.131424   \n",
       "arrival_date_year                        1.000000           -0.527739   \n",
       "arrival_date_month                      -0.527739            1.000000   \n",
       "arrival_date_week_number                -0.540561            0.995105   \n",
       "arrival_date_day_of_month               -0.000221           -0.026063   \n",
       "stays_in_weekend_nights                  0.021495            0.021979   \n",
       "stays_in_week_nights                     0.030883            0.019212   \n",
       "adults                                   0.029635            0.028534   \n",
       "children                                 0.054624            0.005441   \n",
       "babies                                  -0.013192            0.010172   \n",
       "is_repeated_guest                        0.010341           -0.030729   \n",
       "previous_cancellations                  -0.119822            0.037479   \n",
       "previous_bookings_not_canceled           0.029218           -0.021640   \n",
       "booking_changes                          0.030872            0.004809   \n",
       "agent                                    0.063457           -0.030534   \n",
       "company                                  0.259095           -0.074658   \n",
       "days_in_waiting_list                    -0.056497            0.019045   \n",
       "adr                                      0.197580            0.079315   \n",
       "required_car_parking_spaces             -0.013684            0.000257   \n",
       "total_of_special_requests                0.108531            0.028026   \n",
       "log_lead                                 0.059237            0.105503   \n",
       "\n",
       "                                arrival_date_week_number  \\\n",
       "hotel                                           0.001270   \n",
       "is_canceled                                     0.008148   \n",
       "lead_time                                       0.126871   \n",
       "arrival_date_year                              -0.540561   \n",
       "arrival_date_month                              0.995105   \n",
       "arrival_date_week_number                        1.000000   \n",
       "arrival_date_day_of_month                       0.066809   \n",
       "stays_in_weekend_nights                         0.021863   \n",
       "stays_in_week_nights                            0.015558   \n",
       "adults                                          0.025909   \n",
       "children                                        0.005518   \n",
       "babies                                          0.010395   \n",
       "is_repeated_guest                              -0.030131   \n",
       "previous_cancellations                          0.035501   \n",
       "previous_bookings_not_canceled                 -0.020904   \n",
       "booking_changes                                 0.005508   \n",
       "agent                                          -0.031201   \n",
       "company                                        -0.076760   \n",
       "days_in_waiting_list                            0.022933   \n",
       "adr                                             0.075791   \n",
       "required_car_parking_spaces                     0.001920   \n",
       "total_of_special_requests                       0.026149   \n",
       "log_lead                                        0.101695   \n",
       "\n",
       "                                arrival_date_day_of_month  \\\n",
       "hotel                                           -0.001862   \n",
       "is_canceled                                     -0.006130   \n",
       "lead_time                                        0.002268   \n",
       "arrival_date_year                               -0.000221   \n",
       "arrival_date_month                              -0.026063   \n",
       "arrival_date_week_number                         0.066809   \n",
       "arrival_date_day_of_month                        1.000000   \n",
       "stays_in_weekend_nights                         -0.015149   \n",
       "stays_in_week_nights                            -0.028174   \n",
       "adults                                          -0.001566   \n",
       "children                                         0.014544   \n",
       "babies                                          -0.000230   \n",
       "is_repeated_guest                               -0.006145   \n",
       "previous_cancellations                          -0.027011   \n",
       "previous_bookings_not_canceled                  -0.000300   \n",
       "booking_changes                                  0.010613   \n",
       "agent                                            0.001487   \n",
       "company                                          0.044858   \n",
       "days_in_waiting_list                             0.022728   \n",
       "adr                                              0.030245   \n",
       "required_car_parking_spaces                      0.008683   \n",
       "total_of_special_requests                        0.003062   \n",
       "log_lead                                         0.009306   \n",
       "\n",
       "                                stays_in_weekend_nights  stays_in_week_nights  \\\n",
       "hotel                                         -0.188959             -0.234020   \n",
       "is_canceled                                   -0.002844              0.024765   \n",
       "lead_time                                      0.088056              0.165799   \n",
       "arrival_date_year                              0.021495              0.030883   \n",
       "arrival_date_month                             0.021979              0.019212   \n",
       "arrival_date_week_number                       0.021863              0.015558   \n",
       "arrival_date_day_of_month                     -0.015149             -0.028174   \n",
       "stays_in_weekend_nights                        1.000000              0.460587   \n",
       "stays_in_week_nights                           0.460587              1.000000   \n",
       "adults                                         0.096942              0.092976   \n",
       "children                                       0.047858              0.044203   \n",
       "babies                                         0.019485              0.020191   \n",
       "is_repeated_guest                             -0.089930             -0.097245   \n",
       "previous_cancellations                        -0.012790             -0.013992   \n",
       "previous_bookings_not_canceled                -0.043881             -0.048743   \n",
       "booking_changes                                0.052436              0.096209   \n",
       "agent                                          0.142460              0.182382   \n",
       "company                                        0.069203              0.182211   \n",
       "days_in_waiting_list                          -0.055222             -0.002020   \n",
       "adr                                            0.054905              0.065237   \n",
       "required_car_parking_spaces                   -0.018449             -0.024859   \n",
       "total_of_special_requests                      0.074573              0.068192   \n",
       "log_lead                                       0.195073              0.271794   \n",
       "\n",
       "                                  adults  ...  previous_cancellations  \\\n",
       "hotel                          -0.013183  ...               -0.012292   \n",
       "is_canceled                     0.060017  ...                0.110133   \n",
       "lead_time                       0.119519  ...                0.086042   \n",
       "arrival_date_year               0.029635  ...               -0.119822   \n",
       "arrival_date_month              0.028534  ...                0.037479   \n",
       "arrival_date_week_number        0.025909  ...                0.035501   \n",
       "arrival_date_day_of_month      -0.001566  ...               -0.027011   \n",
       "stays_in_weekend_nights         0.096942  ...               -0.012790   \n",
       "stays_in_week_nights            0.092976  ...               -0.013992   \n",
       "adults                          1.000000  ...               -0.006738   \n",
       "children                        0.030447  ...               -0.024730   \n",
       "babies                          0.018146  ...               -0.007501   \n",
       "is_repeated_guest              -0.146426  ...                0.082293   \n",
       "previous_cancellations         -0.006738  ...                1.000000   \n",
       "previous_bookings_not_canceled -0.107983  ...                0.152728   \n",
       "booking_changes                -0.051673  ...               -0.026993   \n",
       "agent                          -0.035594  ...               -0.012488   \n",
       "company                         0.207793  ...               -0.184574   \n",
       "days_in_waiting_list           -0.008283  ...                0.005929   \n",
       "adr                             0.230641  ...               -0.065646   \n",
       "required_car_parking_spaces     0.014785  ...               -0.018492   \n",
       "total_of_special_requests       0.122884  ...               -0.048384   \n",
       "log_lead                        0.182810  ...                0.055348   \n",
       "\n",
       "                                previous_bookings_not_canceled  \\\n",
       "hotel                                                -0.004441   \n",
       "is_canceled                                          -0.057358   \n",
       "lead_time                                            -0.073548   \n",
       "arrival_date_year                                     0.029218   \n",
       "arrival_date_month                                   -0.021640   \n",
       "arrival_date_week_number                             -0.020904   \n",
       "arrival_date_day_of_month                            -0.000300   \n",
       "stays_in_weekend_nights                              -0.043881   \n",
       "stays_in_week_nights                                 -0.048743   \n",
       "adults                                               -0.107983   \n",
       "children                                             -0.021072   \n",
       "babies                                               -0.006550   \n",
       "is_repeated_guest                                     0.418056   \n",
       "previous_cancellations                                0.152728   \n",
       "previous_bookings_not_canceled                        1.000000   \n",
       "booking_changes                                       0.011608   \n",
       "agent                                                 0.023252   \n",
       "company                                              -0.208557   \n",
       "days_in_waiting_list                                 -0.009397   \n",
       "adr                                                  -0.072144   \n",
       "required_car_parking_spaces                           0.047653   \n",
       "total_of_special_requests                             0.037824   \n",
       "log_lead                                             -0.122847   \n",
       "\n",
       "                                booking_changes     agent   company  \\\n",
       "hotel                                 -0.072820 -0.790232 -0.364093   \n",
       "is_canceled                           -0.144381 -0.083114 -0.020642   \n",
       "lead_time                              0.000149 -0.069741  0.151464   \n",
       "arrival_date_year                      0.030872  0.063457  0.259095   \n",
       "arrival_date_month                     0.004809 -0.030534 -0.074658   \n",
       "arrival_date_week_number               0.005508 -0.031201 -0.076760   \n",
       "arrival_date_day_of_month              0.010613  0.001487  0.044858   \n",
       "stays_in_weekend_nights                0.052436  0.142460  0.069203   \n",
       "stays_in_week_nights                   0.096209  0.182382  0.182211   \n",
       "adults                                -0.051673 -0.035594  0.207793   \n",
       "children                               0.048949  0.041066  0.030931   \n",
       "babies                                 0.083440  0.036184  0.019206   \n",
       "is_repeated_guest                      0.012092  0.031527 -0.244586   \n",
       "previous_cancellations                -0.026993 -0.012488 -0.184574   \n",
       "previous_bookings_not_canceled         0.011608  0.023252 -0.208557   \n",
       "booking_changes                        1.000000  0.067010  0.122098   \n",
       "agent                                  0.067010  1.000000  0.350746   \n",
       "company                                0.122098  0.350746  1.000000   \n",
       "days_in_waiting_list                  -0.011634 -0.055151  0.000411   \n",
       "adr                                    0.019618 -0.024695  0.086376   \n",
       "required_car_parking_spaces            0.065620  0.177353 -0.012916   \n",
       "total_of_special_requests              0.052833  0.034162 -0.098558   \n",
       "log_lead                               0.003958 -0.086287  0.223027   \n",
       "\n",
       "                                days_in_waiting_list       adr  \\\n",
       "hotel                                       0.072432  0.096719   \n",
       "is_canceled                                 0.054186  0.047557   \n",
       "lead_time                                   0.170084 -0.063077   \n",
       "arrival_date_year                          -0.056497  0.197580   \n",
       "arrival_date_month                          0.019045  0.079315   \n",
       "arrival_date_week_number                    0.022933  0.075791   \n",
       "arrival_date_day_of_month                   0.022728  0.030245   \n",
       "stays_in_weekend_nights                    -0.055222  0.054905   \n",
       "stays_in_week_nights                       -0.002020  0.065237   \n",
       "adults                                     -0.008283  0.230641   \n",
       "children                                   -0.033273  0.324854   \n",
       "babies                                     -0.010621  0.029186   \n",
       "is_repeated_guest                          -0.022235 -0.134314   \n",
       "previous_cancellations                      0.005929 -0.065646   \n",
       "previous_bookings_not_canceled             -0.009397 -0.072144   \n",
       "booking_changes                            -0.011634  0.019618   \n",
       "agent                                      -0.055151 -0.024695   \n",
       "company                                     0.000411  0.086376   \n",
       "days_in_waiting_list                        1.000000 -0.040756   \n",
       "adr                                        -0.040756  1.000000   \n",
       "required_car_parking_spaces                -0.030600  0.056628   \n",
       "total_of_special_requests                  -0.082730  0.172185   \n",
       "log_lead                                    0.122801  0.047399   \n",
       "\n",
       "                                required_car_parking_spaces  \\\n",
       "hotel                                             -0.218873   \n",
       "is_canceled                                       -0.195498   \n",
       "lead_time                                         -0.116451   \n",
       "arrival_date_year                                 -0.013684   \n",
       "arrival_date_month                                 0.000257   \n",
       "arrival_date_week_number                           0.001920   \n",
       "arrival_date_day_of_month                          0.008683   \n",
       "stays_in_weekend_nights                           -0.018449   \n",
       "stays_in_week_nights                              -0.024859   \n",
       "adults                                             0.014785   \n",
       "children                                           0.056253   \n",
       "babies                                             0.037383   \n",
       "is_repeated_guest                                  0.077090   \n",
       "previous_cancellations                            -0.018492   \n",
       "previous_bookings_not_canceled                     0.047653   \n",
       "booking_changes                                    0.065620   \n",
       "agent                                              0.177353   \n",
       "company                                           -0.012916   \n",
       "days_in_waiting_list                              -0.030600   \n",
       "adr                                                0.056628   \n",
       "required_car_parking_spaces                        1.000000   \n",
       "total_of_special_requests                          0.082626   \n",
       "log_lead                                          -0.149652   \n",
       "\n",
       "                                total_of_special_requests  log_lead  \n",
       "hotel                                           -0.043390  0.108615  \n",
       "is_canceled                                     -0.234658  0.319718  \n",
       "lead_time                                       -0.095712  0.787018  \n",
       "arrival_date_year                                0.108531  0.059237  \n",
       "arrival_date_month                               0.028026  0.105503  \n",
       "arrival_date_week_number                         0.026149  0.101695  \n",
       "arrival_date_day_of_month                        0.003062  0.009306  \n",
       "stays_in_weekend_nights                          0.074573  0.195073  \n",
       "stays_in_week_nights                             0.068192  0.271794  \n",
       "adults                                           0.122884  0.182810  \n",
       "children                                         0.081745 -0.004041  \n",
       "babies                                           0.097889 -0.016758  \n",
       "is_repeated_guest                                0.013050 -0.236073  \n",
       "previous_cancellations                          -0.048384  0.055348  \n",
       "previous_bookings_not_canceled                   0.037824 -0.122847  \n",
       "booking_changes                                  0.052833  0.003958  \n",
       "agent                                            0.034162 -0.086287  \n",
       "company                                         -0.098558  0.223027  \n",
       "days_in_waiting_list                            -0.082730  0.122801  \n",
       "adr                                              0.172185  0.047399  \n",
       "required_car_parking_spaces                      0.082626 -0.149652  \n",
       "total_of_special_requests                        1.000000 -0.030271  \n",
       "log_lead                                        -0.030271  1.000000  \n",
       "\n",
       "[23 rows x 23 columns]"
      ]
     },
     "execution_count": 35,
     "metadata": {},
     "output_type": "execute_result"
    }
   ],
   "source": [
    "# look at the correlations among columns\n",
    "data = dataset.copy()\n",
    "data.corr()"
   ]
  },
  {
   "cell_type": "code",
   "execution_count": 36,
   "metadata": {},
   "outputs": [
    {
     "data": {
      "text/plain": [
       "total_of_special_requests        -0.234658\n",
       "required_car_parking_spaces      -0.195498\n",
       "booking_changes                  -0.144381\n",
       "is_repeated_guest                -0.084793\n",
       "agent                            -0.083114\n",
       "previous_bookings_not_canceled   -0.057358\n",
       "babies                           -0.032491\n",
       "company                          -0.020642\n",
       "arrival_date_day_of_month        -0.006130\n",
       "stays_in_weekend_nights          -0.002844\n",
       "children                          0.005048\n",
       "arrival_date_week_number          0.008148\n",
       "arrival_date_month                0.011022\n",
       "arrival_date_year                 0.016660\n",
       "stays_in_week_nights              0.024765\n",
       "adr                               0.047557\n",
       "days_in_waiting_list              0.054186\n",
       "adults                            0.060017\n",
       "previous_cancellations            0.110133\n",
       "hotel                             0.136531\n",
       "lead_time                         0.293123\n",
       "log_lead                          0.319718\n",
       "is_canceled                       1.000000\n",
       "Name: is_canceled, dtype: float64"
      ]
     },
     "execution_count": 36,
     "metadata": {},
     "output_type": "execute_result"
    }
   ],
   "source": [
    "# look at the correlations with is_canceled\n",
    "data.corr()['is_canceled'].sort_values()"
   ]
  },
  {
   "cell_type": "code",
   "execution_count": null,
   "metadata": {},
   "outputs": [],
   "source": []
  }
 ],
 "metadata": {
  "kernelspec": {
   "display_name": "Python 3",
   "language": "python",
   "name": "python3"
  },
  "language_info": {
   "codemirror_mode": {
    "name": "ipython",
    "version": 3
   },
   "file_extension": ".py",
   "mimetype": "text/x-python",
   "name": "python",
   "nbconvert_exporter": "python",
   "pygments_lexer": "ipython3",
   "version": "3.7.4"
  }
 },
 "nbformat": 4,
 "nbformat_minor": 2
}
