{
 "cells": [
  {
   "cell_type": "code",
   "execution_count": 1,
   "metadata": {},
   "outputs": [],
   "source": [
    "# import libraries\n",
    "import numpy as np\n",
    "import pandas as pd\n",
    "from sklearn import preprocessing\n",
    "from sklearn.tree import DecisionTreeClassifier\n",
    "from sklearn.metrics import accuracy_score\n",
    "from sklearn.metrics import confusion_matrix\n",
    "from sklearn.metrics import classification_report\n",
    "from sklearn.model_selection import GridSearchCV\n",
    "from sklearn.model_selection import cross_val_score\n",
    "from sklearn.model_selection import train_test_split\n",
    "\n",
    "from sklearn.metrics import roc_curve, auc\n",
    "from sklearn import metrics\n",
    "\n",
    "from sklearn import tree\n",
    "import matplotlib.pyplot as plt"
   ]
  },
  {
   "cell_type": "code",
   "execution_count": 3,
   "metadata": {},
   "outputs": [],
   "source": [
    "# read the dataset\n",
    "data = pd.read_csv(\"clean_hotel_bookings.csv\", index_col='Unnamed: 0')"
   ]
  },
  {
   "cell_type": "code",
   "execution_count": 4,
   "metadata": {},
   "outputs": [
    {
     "name": "stdout",
     "output_type": "stream",
     "text": [
      "<class 'pandas.core.frame.DataFrame'>\n",
      "Int64Index: 119390 entries, 0 to 119389\n",
      "Data columns (total 58 columns):\n",
      "hotel                                    119390 non-null int64\n",
      "is_canceled                              119390 non-null int64\n",
      "is_repeated_guest                        119390 non-null int64\n",
      "reserved_room_type                       119390 non-null object\n",
      "assigned_room_type                       119390 non-null object\n",
      "country_is_FRA                           119390 non-null int64\n",
      "country_is_DEU                           119390 non-null int64\n",
      "country_is_other                         119390 non-null int64\n",
      "reserved_assigned_room_type_match        119390 non-null int64\n",
      "fall                                     119390 non-null int64\n",
      "spring                                   119390 non-null int64\n",
      "summer                                   119390 non-null int64\n",
      "winter                                   119390 non-null int64\n",
      "distribution_channel_Corporate           119390 non-null int64\n",
      "distribution_channel_Direct              119390 non-null int64\n",
      "distribution_channel_GDS                 119390 non-null int64\n",
      "distribution_channel_TA/TO               119390 non-null int64\n",
      "distribution_channel_Undefined           119390 non-null int64\n",
      "market_segment_Aviation                  119390 non-null int64\n",
      "market_segment_Complementary             119390 non-null int64\n",
      "market_segment_Corporate                 119390 non-null int64\n",
      "market_segment_Direct                    119390 non-null int64\n",
      "market_segment_Groups                    119390 non-null int64\n",
      "market_segment_Offline TA/TO             119390 non-null int64\n",
      "market_segment_Online TA                 119390 non-null int64\n",
      "market_segment_Undefined                 119390 non-null int64\n",
      "meal_BB                                  119390 non-null int64\n",
      "meal_FB                                  119390 non-null int64\n",
      "meal_HB                                  119390 non-null int64\n",
      "meal_SC                                  119390 non-null int64\n",
      "meal_Undefined                           119390 non-null int64\n",
      "deposit_type_No Deposit                  119390 non-null int64\n",
      "deposit_type_Non Refund                  119390 non-null int64\n",
      "customer_type_Contract                   119390 non-null int64\n",
      "customer_type_Group                      119390 non-null int64\n",
      "customer_type_Transient                  119390 non-null int64\n",
      "customer_type_Transient-Party            119390 non-null int64\n",
      "agent_14                                 119390 non-null int64\n",
      "agent_7                                  119390 non-null int64\n",
      "agent_is_other                           119390 non-null int64\n",
      "log_lead                                 119390 non-null float64\n",
      "cut_previous_cancellations               119390 non-null object\n",
      "cut_previous_bookings_not_canceled       119390 non-null object\n",
      "cut_booking_changes                      119390 non-null object\n",
      "previous_cancellations_minmax            119390 non-null float64\n",
      "previous_bookings_not_canceled_minmax    119390 non-null float64\n",
      "booking_changes_minmax                   119390 non-null float64\n",
      "log_lead_minmax                          119390 non-null float64\n",
      "stays_in_weekend_nights_minmax           119390 non-null float64\n",
      "stays_in_week_nights_minmax              119390 non-null float64\n",
      "stays_in_total_nights_minmax             119390 non-null float64\n",
      "adults_minmax                            119390 non-null float64\n",
      "children_minmax                          119390 non-null float64\n",
      "babies_minmax                            119390 non-null float64\n",
      "days_in_waiting_list_minmax              119390 non-null float64\n",
      "adr_minmax                               119390 non-null float64\n",
      "required_car_parking_spaces_minmax       119390 non-null float64\n",
      "total_of_special_requests_minmax         119390 non-null float64\n",
      "dtypes: float64(15), int64(38), object(5)\n",
      "memory usage: 53.7+ MB\n"
     ]
    }
   ],
   "source": [
    "data.info()"
   ]
  },
  {
   "cell_type": "code",
   "execution_count": 5,
   "metadata": {},
   "outputs": [
    {
     "data": {
      "text/plain": [
       "0    0.629584\n",
       "1    0.370416\n",
       "Name: is_canceled, dtype: float64"
      ]
     },
     "execution_count": 5,
     "metadata": {},
     "output_type": "execute_result"
    }
   ],
   "source": [
    "data['is_canceled'].value_counts(1)"
   ]
  },
  {
   "cell_type": "code",
   "execution_count": 6,
   "metadata": {},
   "outputs": [],
   "source": [
    "features = ['hotel',\n",
    "            'is_repeated_guest',\n",
    "#             'reserved_room_type',\n",
    "#             'assigned_room_type',\n",
    "            'reserved_assigned_room_type_match',\n",
    "            'country_is_FRA',\n",
    "            'country_is_DEU',\n",
    "            'country_is_other',\n",
    "            'spring',\n",
    "            'summer',\n",
    "            'fall',\n",
    "            'winter',\n",
    "            'distribution_channel_Corporate',\n",
    "            'distribution_channel_Direct',\n",
    "            'distribution_channel_GDS',\n",
    "            'distribution_channel_TA/TO',\n",
    "            'distribution_channel_Undefined',\n",
    "            'market_segment_Aviation',\n",
    "            'market_segment_Complementary',\n",
    "            'market_segment_Corporate',\n",
    "            'market_segment_Direct',\n",
    "            'market_segment_Groups',\n",
    "            'market_segment_Offline TA/TO',\n",
    "            'market_segment_Online TA',\n",
    "            'market_segment_Undefined',\n",
    "            'meal_BB',\n",
    "            'meal_FB',\n",
    "            'meal_HB',\n",
    "            'meal_SC',\n",
    "            'meal_Undefined',\n",
    "            'deposit_type_No Deposit',\n",
    "            'deposit_type_Non Refund',\n",
    "            'customer_type_Contract',\n",
    "            'customer_type_Group',\n",
    "            'customer_type_Transient',\n",
    "            'customer_type_Transient-Party',\n",
    "            'agent_14',\n",
    "            'agent_7',\n",
    "            'agent_is_other',\n",
    "            'log_lead_minmax',\n",
    "#             'cut_previous_cancellations',\n",
    "#             'cut_previous_bookings_not_canceled',\n",
    "#             'cut_booking_changes',\n",
    "            'stays_in_weekend_nights_minmax',\n",
    "            'stays_in_week_nights_minmax',\n",
    "            'stays_in_total_nights_minmax',\n",
    "            'adults_minmax',\n",
    "            'children_minmax',\n",
    "            'babies_minmax',\n",
    "            'days_in_waiting_list_minmax',\n",
    "            'adr_minmax',\n",
    "            'required_car_parking_spaces_minmax',\n",
    "            'total_of_special_requests_minmax'\n",
    "           ]\n",
    "\n",
    "label = ['is_canceled']"
   ]
  },
  {
   "cell_type": "code",
   "execution_count": 7,
   "metadata": {},
   "outputs": [
    {
     "data": {
      "text/plain": [
       "48"
      ]
     },
     "execution_count": 7,
     "metadata": {},
     "output_type": "execute_result"
    }
   ],
   "source": [
    "len(features)"
   ]
  },
  {
   "cell_type": "code",
   "execution_count": 8,
   "metadata": {},
   "outputs": [],
   "source": [
    "X = data[features]\n",
    "Y = data[label]"
   ]
  },
  {
   "cell_type": "code",
   "execution_count": 10,
   "metadata": {},
   "outputs": [],
   "source": [
    "X_train, X_test, y_train, y_test = train_test_split(X, Y, test_size = 0.2, random_state = 0)"
   ]
  },
  {
   "cell_type": "code",
   "execution_count": 57,
   "metadata": {},
   "outputs": [],
   "source": [
    "#Import Multinomial Naive Bayes model from sklearn\n",
    "from sklearn.naive_bayes import MultinomialNB\n",
    "#Create a Multinomial Bayes Classifier\n",
    "#mnb = MultinomialNB(alpha=0.1,class_prior=None, fit_prior=False)\n",
    "mnb = MultinomialNB(alpha=1.0,class_prior=None, fit_prior=True)"
   ]
  },
  {
   "cell_type": "code",
   "execution_count": 58,
   "metadata": {},
   "outputs": [
    {
     "data": {
      "text/plain": [
       "MultinomialNB(alpha=1.0, class_prior=None, fit_prior=True)"
      ]
     },
     "execution_count": 58,
     "metadata": {},
     "output_type": "execute_result"
    }
   ],
   "source": [
    "model = mnb\n",
    "model.fit(X_train,y_train.values.ravel())"
   ]
  },
  {
   "cell_type": "code",
   "execution_count": 59,
   "metadata": {},
   "outputs": [],
   "source": [
    "# import cross validation\n",
    "from sklearn.model_selection import cross_val_score,cross_val_predict\n"
   ]
  },
  {
   "cell_type": "code",
   "execution_count": 67,
   "metadata": {},
   "outputs": [
    {
     "data": {
      "text/plain": [
       "0.707898612319617"
      ]
     },
     "execution_count": 67,
     "metadata": {},
     "output_type": "execute_result"
    }
   ],
   "source": [
    "score = cross_val_score(mnb,X,Y.values.ravel(),cv=3)\n",
    "score.mean()\n"
   ]
  },
  {
   "cell_type": "code",
   "execution_count": 68,
   "metadata": {},
   "outputs": [
    {
     "data": {
      "text/plain": [
       "array([0, 0, 0, ..., 0, 1, 0], dtype=int64)"
      ]
     },
     "execution_count": 68,
     "metadata": {},
     "output_type": "execute_result"
    }
   ],
   "source": [
    "pred_y = cross_val_predict(mnb,X,Y.values.ravel(),cv=3)\n",
    "pred_y\n"
   ]
  },
  {
   "cell_type": "code",
   "execution_count": 69,
   "metadata": {},
   "outputs": [
    {
     "data": {
      "text/plain": [
       "array([[0.94880517, 0.05119483],\n",
       "       [0.94734599, 0.05265401],\n",
       "       [0.96105462, 0.03894538],\n",
       "       ...,\n",
       "       [0.77955109, 0.22044891],\n",
       "       [0.44203177, 0.55796823],\n",
       "       [0.73072409, 0.26927591]])"
      ]
     },
     "execution_count": 69,
     "metadata": {},
     "output_type": "execute_result"
    }
   ],
   "source": [
    "pred_proba = cross_val_predict(mnb,X,Y.values.ravel(),cv=3, method = 'predict_proba')\n",
    "pred_proba"
   ]
  },
  {
   "cell_type": "code",
   "execution_count": 79,
   "metadata": {},
   "outputs": [
    {
     "name": "stdout",
     "output_type": "stream",
     "text": [
      "Confusion Matrix: \n",
      "[[65701  9465]\n",
      " [25409 18815]]\n",
      "\n",
      "Accuracy Score: \n",
      "0.7078984839601307\n",
      "\n",
      "              precision    recall  f1-score   support\n",
      "\n",
      "           0       0.72      0.87      0.79     75166\n",
      "           1       0.67      0.43      0.52     44224\n",
      "\n",
      "    accuracy                           0.71    119390\n",
      "   macro avg       0.69      0.65      0.65    119390\n",
      "weighted avg       0.70      0.71      0.69    119390\n",
      "\n"
     ]
    }
   ],
   "source": [
    "#print(\"Confusion Matrix:\", \"\\n\", confusion_matrix(Y, pred_y))\n",
    "#print(\"Classification Report:\",\"\\n\", classification_report(Y, pred_y))\n",
    "print(\"Confusion Matrix:\", \"\\n\"+str(confusion_matrix(Y,pred_y))+\"\\n\")\n",
    "print(\"Accuracy Score:\", \"\\n\"+str(accuracy_score(Y,pred_y,normalize=True, sample_weight=None))+\"\\n\")\n",
    "print(classification_report(Y,pred_y))\n"
   ]
  },
  {
   "cell_type": "code",
   "execution_count": 80,
   "metadata": {},
   "outputs": [
    {
     "data": {
      "text/plain": [
       "Text(0.5, 0, 'False Positive Rate')"
      ]
     },
     "execution_count": 80,
     "metadata": {},
     "output_type": "execute_result"
    },
    {
     "data": {
      "image/png": "[encoded data removed]",
      "text/plain": [
       "<Figure size 720x720 with 1 Axes>"
      ]
     },
     "metadata": {
      "needs_background": "light"
     },
     "output_type": "display_data"
    }
   ],
   "source": [
    "fpr, tpr, thresholds = metrics.roc_curve(Y,pred_y,pos_label=1)\n",
    "roc_auc = metrics.auc(fpr, tpr)\n",
    "plt.figure(figsize = (10,10))\n",
    "plt.plot(fpr, tpr, color = 'red', label = 'AUC = %0.2f' % roc_auc)\n",
    "plt.legend(loc = 'lower right')\n",
    "plt.plot([0, 1], [0, 1], linestyle = '--')\n",
    "plt.grid(True)\n",
    "plt.ylabel('True Positive Rate')\n",
    "plt.xlabel('False Positive Rate')"
   ]
  },
  {
   "cell_type": "code",
   "execution_count": 81,
   "metadata": {},
   "outputs": [
    {
     "data": {
      "text/plain": [
       "0.6497632132462398"
      ]
     },
     "execution_count": 81,
     "metadata": {},
     "output_type": "execute_result"
    }
   ],
   "source": [
    "metrics.auc(fpr, tpr)"
   ]
  },
  {
   "cell_type": "code",
   "execution_count": 76,
   "metadata": {},
   "outputs": [],
   "source": [
    "from sklearn.metrics import roc_curve\n",
    "from sklearn.metrics import auc\n"
   ]
  },
  {
   "cell_type": "code",
   "execution_count": null,
   "metadata": {},
   "outputs": [],
   "source": [
    "fpr, tpr, thresholds = roc_curve(y, y_pred_prob[:,1], pos_label=1)"
   ]
  },
  {
   "cell_type": "code",
   "execution_count": 70,
   "metadata": {},
   "outputs": [],
   "source": [
    "#Import Gaussian Naive Bayes model from sklearn\n",
    "from sklearn.naive_bayes import GaussianNB\n"
   ]
  },
  {
   "cell_type": "code",
   "execution_count": 74,
   "metadata": {},
   "outputs": [
    {
     "data": {
      "text/plain": [
       "0.6721323731068323"
      ]
     },
     "execution_count": 74,
     "metadata": {},
     "output_type": "execute_result"
    }
   ],
   "source": [
    "#Create a Gaussian Naive Bayes Classifier\n",
    "gnb = GaussianNB() \n",
    "score = cross_val_score(gnb,X,Y.values.ravel(),cv=10)\n",
    "score.mean()\n"
   ]
  },
  {
   "cell_type": "code",
   "execution_count": null,
   "metadata": {},
   "outputs": [],
   "source": []
  }
 ],
 "metadata": {
  "kernelspec": {
   "display_name": "Python 3",
   "language": "python",
   "name": "python3"
  },
  "language_info": {
   "codemirror_mode": {
    "name": "ipython",
    "version": 3
   },
   "file_extension": ".py",
   "mimetype": "text/x-python",
   "name": "python",
   "nbconvert_exporter": "python",
   "pygments_lexer": "ipython3",
   "version": "3.7.4"
  }
 },
 "nbformat": 4,
 "nbformat_minor": 2
}
