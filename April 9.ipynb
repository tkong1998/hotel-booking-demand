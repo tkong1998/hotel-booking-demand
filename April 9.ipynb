{
 "cells": [
  {
   "cell_type": "markdown",
   "metadata": {},
   "source": [
    "# Data Preparation - for features 17 - 24"
   ]
  },
  {
   "cell_type": "code",
   "execution_count": null,
   "metadata": {},
   "outputs": [],
   "source": [
    "# import library used for data management\n",
    "import numpy as np \n",
    "import pandas as pd "
   ]
  },
  {
   "cell_type": "code",
   "execution_count": null,
   "metadata": {},
   "outputs": [],
   "source": [
    "# load datasets\n",
    "original = pd.read_csv('Sharon_hotel_bookings.csv')\n",
    "label = pd.read_csv('label_hotel_bookings.csv')"
   ]
  },
  {
   "cell_type": "code",
   "execution_count": null,
   "metadata": {
    "scrolled": true
   },
   "outputs": [],
   "source": [
    "# to view the whole data set\n",
    "original"
   ]
  },
  {
   "cell_type": "code",
   "execution_count": null,
   "metadata": {},
   "outputs": [],
   "source": [
    "original.info()\n",
    "# 'is_repeated_guest' should be categorical instead of numeric\n",
    "# 16,340 missing values found in 'agent'\n",
    "# 'agent' should be categorical instead of numeric"
   ]
  },
  {
   "cell_type": "code",
   "execution_count": null,
   "metadata": {},
   "outputs": [],
   "source": [
    "# change 'is_repeated_guest' to categorical\n",
    "original['is_repeated_guest']=original['is_repeated_guest'].astype(str)\n",
    "original.info()"
   ]
  },
  {
   "cell_type": "code",
   "execution_count": null,
   "metadata": {},
   "outputs": [],
   "source": [
    "# handle missing values in 'agent'\n",
    "# NaN in 'agent' means the booking is not made by a travel agency\n",
    "# replace NaN with 0 for the ease of data handling\n",
    "original['agent'].fillna(0,inplace=True)\n",
    "original['agent']"
   ]
  },
  {
   "cell_type": "code",
   "execution_count": null,
   "metadata": {},
   "outputs": [],
   "source": [
    "# change 'agent' to categorical\n",
    "original['agent']=original['agent'].astype(str)\n",
    "original.info()"
   ]
  },
  {
   "cell_type": "code",
   "execution_count": null,
   "metadata": {},
   "outputs": [],
   "source": [
    "original"
   ]
  },
  {
   "cell_type": "code",
   "execution_count": null,
   "metadata": {},
   "outputs": [],
   "source": [
    "# get dummy variables for categorical variable 'deposit_type'\n",
    "DepositTypeDummy =pd.get_dummies(original['deposit_type'],prefix='deposit_type')"
   ]
  },
  {
   "cell_type": "code",
   "execution_count": null,
   "metadata": {},
   "outputs": [],
   "source": [
    "# Adding the dummy variables to the data frame\n",
    "original = pd.concat([original,DepositTypeDummy],axis=1,sort=True)\n",
    "original"
   ]
  },
  {
   "cell_type": "code",
   "execution_count": null,
   "metadata": {},
   "outputs": [],
   "source": [
    "# 'deposit_type_Refundable' could be expressed as not 'deposit_type_No Deposit' and not 'deposit_type_Non Refund'\n",
    "original = original.drop(columns=['deposit_type','deposit_type_Refundable'])\n",
    "original"
   ]
  },
  {
   "cell_type": "code",
   "execution_count": null,
   "metadata": {},
   "outputs": [],
   "source": [
    "# Hypothesis: If reserved room type matches assigned room type, i.e. reserved_assigned_room_type_match = 1, it is more likely for the customer to NOT cancel the booking.\n",
    "# check to see if reserved room type matches assigned room type\n",
    "original['reserved_assigned_room_type_match'] = (original['reserved_room_type'] == original['assigned_room_type'])\n",
    "# convert to result to 0 and 1, categorical\n",
    "original['reserved_assigned_room_type_match'] = original['reserved_assigned_room_type_match'].astype(int)\n",
    "original['reserved_assigned_room_type_match'] = original['reserved_assigned_room_type_match'].astype(str)\n",
    "# 'reserved_room_type' and'assigned_room_type' expressed by 'reserved_assigned_room_type_match'\n",
    "original = original.drop(columns=['reserved_room_type','assigned_room_type'])\n",
    "original"
   ]
  },
  {
   "cell_type": "code",
   "execution_count": null,
   "metadata": {},
   "outputs": [],
   "source": [
    "original.info()"
   ]
  },
  {
   "cell_type": "code",
   "execution_count": null,
   "metadata": {},
   "outputs": [],
   "source": [
    "PrepData = pd.concat([original,label],axis=1,sort=True)\n",
    "PrepData"
   ]
  },
  {
   "cell_type": "code",
   "execution_count": null,
   "metadata": {},
   "outputs": [],
   "source": [
    "PrepData.to_csv(\"April9_processeddata.csv\")"
   ]
  },
  {
   "cell_type": "markdown",
   "metadata": {},
   "source": [
    "# Decision Tree & Cross Validation by GridSearchCV"
   ]
  },
  {
   "cell_type": "code",
   "execution_count": null,
   "metadata": {},
   "outputs": [],
   "source": [
    "# Define features and target variable\n",
    "features = ['is_repeated_guest','previous_cancellations','previous_bookings_not_canceled','booking_changes','agent','deposit_type_No Deposit','deposit_type_Non Refund', 'reserved_assigned_room_type_match']\n",
    "target = ['is_canceled']\n",
    "X = PrepData [features]\n",
    "y = PrepData [target]"
   ]
  },
  {
   "cell_type": "code",
   "execution_count": null,
   "metadata": {},
   "outputs": [],
   "source": [
    "#import functions for data split\n",
    "from sklearn.model_selection import train_test_split\n",
    "X_train, X_test, y_train, y_test = train_test_split(X, y, test_size=0.8, random_state = 42)"
   ]
  },
  {
   "cell_type": "code",
   "execution_count": null,
   "metadata": {},
   "outputs": [],
   "source": [
    "# import DecisionTreeClassifier used for tree building\n",
    "from sklearn.tree import DecisionTreeClassifier\n",
    "# import GridSearchCV for cross validation\n",
    "from sklearn.model_selection import GridSearchCV"
   ]
  }
 ],
 "metadata": {
  "kernelspec": {
   "display_name": "Python 3",
   "language": "python",
   "name": "python3"
  },
  "language_info": {
   "codemirror_mode": {
    "name": "ipython",
    "version": 3
   },
   "file_extension": ".py",
   "mimetype": "text/x-python",
   "name": "python",
   "nbconvert_exporter": "python",
   "pygments_lexer": "ipython3",
   "version": "3.7.4"
  }
 },
 "nbformat": 4,
 "nbformat_minor": 2
}
