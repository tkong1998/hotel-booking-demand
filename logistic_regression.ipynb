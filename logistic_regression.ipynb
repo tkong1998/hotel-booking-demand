{
 "cells": [
  {
   "cell_type": "code",
   "execution_count": 1,
   "metadata": {},
   "outputs": [],
   "source": [
    "# import libraries\n",
    "import numpy as np\n",
    "import pandas as pd\n",
    "\n",
    "from sklearn.feature_selection import RFE\n",
    "from sklearn.linear_model import LogisticRegression\n",
    "\n",
    "from sklearn.model_selection import GridSearchCV\n",
    "from sklearn.model_selection import KFold\n",
    "from sklearn.model_selection import cross_val_score\n",
    "from sklearn.model_selection import cross_val_predict\n",
    "from sklearn.metrics import accuracy_score\n",
    "from sklearn.metrics import classification_report\n",
    "from sklearn.metrics import confusion_matrix\n",
    "\n",
    "from sklearn.metrics import roc_curve, auc\n",
    "from sklearn import metrics\n",
    "\n",
    "\n",
    "import matplotlib.pyplot as plt"
   ]
  },
  {
   "cell_type": "code",
   "execution_count": 2,
   "metadata": {},
   "outputs": [
    {
     "data": {
      "text/plain": [
       "4"
      ]
     },
     "execution_count": 2,
     "metadata": {},
     "output_type": "execute_result"
    }
   ],
   "source": [
    "import os\n",
    "os.cpu_count()"
   ]
  },
  {
   "cell_type": "code",
   "execution_count": 3,
   "metadata": {},
   "outputs": [
    {
     "name": "stderr",
     "output_type": "stream",
     "text": [
      "/Users/moniquekong/opt/anaconda3/lib/python3.7/site-packages/IPython/core/interactiveshell.py:3058: DtypeWarning: Columns (42,43) have mixed types. Specify dtype option on import or set low_memory=False.\n",
      "  interactivity=interactivity, compiler=compiler, result=result)\n"
     ]
    }
   ],
   "source": [
    "# read the dataset\n",
    "data = pd.read_csv(\"clean_hotel_bookings.csv\", index_col='Unnamed: 0')"
   ]
  },
  {
   "cell_type": "code",
   "execution_count": 4,
   "metadata": {},
   "outputs": [
    {
     "data": {
      "text/plain": [
       "deposit_type_No Deposit                 -0.477911\n",
       "total_of_special_requests_minmax        -0.234658\n",
       "required_car_parking_spaces_minmax      -0.195498\n",
       "market_segment_Direct                   -0.154390\n",
       "distribution_channel_Direct             -0.151620\n",
       "booking_changes_minmax                  -0.144381\n",
       "customer_type_Transient-Party           -0.124135\n",
       "country_is_FRA                          -0.118254\n",
       "country_is_DEU                          -0.107316\n",
       "agent_7                                 -0.085588\n",
       "is_repeated_guest                       -0.084793\n",
       "market_segment_Corporate                -0.081667\n",
       "distribution_channel_Corporate          -0.075428\n",
       "agent_14                                -0.070246\n",
       "previous_bookings_not_canceled_minmax   -0.057358\n",
       "market_segment_Complementary            -0.039306\n",
       "customer_type_Group                     -0.038698\n",
       "winter                                  -0.037611\n",
       "babies_minmax                           -0.032491\n",
       "market_segment_Offline TA/TO            -0.028472\n",
       "meal_Undefined                          -0.025896\n",
       "customer_type_Contract                  -0.023670\n",
       "meal_HB                                 -0.019845\n",
       "distribution_channel_GDS                -0.014891\n",
       "market_segment_Aviation                 -0.013946\n",
       "market_segment_Online TA                -0.006288\n",
       "stays_in_weekend_nights_minmax          -0.002844\n",
       "fall                                    -0.002393\n",
       "meal_SC                                  0.001282\n",
       "children_minmax                          0.005036\n",
       "market_segment_Undefined                 0.005336\n",
       "distribution_channel_Undefined           0.005757\n",
       "spring                                   0.009610\n",
       "meal_BB                                  0.013124\n",
       "stays_in_total_nights_minmax             0.019048\n",
       "summer                                   0.023692\n",
       "stays_in_week_nights_minmax              0.027939\n",
       "meal_FB                                  0.038828\n",
       "adr_minmax                               0.048708\n",
       "days_in_waiting_list_minmax              0.054186\n",
       "adults_minmax                            0.060017\n",
       "previous_cancellations_minmax            0.110133\n",
       "agent_is_other                           0.111862\n",
       "customer_type_Transient                  0.133084\n",
       "hotel                                    0.136531\n",
       "country_is_other                         0.166193\n",
       "distribution_channel_TA/TO               0.175944\n",
       "market_segment_Groups                    0.221859\n",
       "reserved_assigned_room_type_match        0.247770\n",
       "log_lead_minmax                          0.319718\n",
       "log_lead                                 0.319718\n",
       "deposit_type_Non Refund                  0.481457\n",
       "is_canceled                              1.000000\n",
       "Name: is_canceled, dtype: float64"
      ]
     },
     "execution_count": 4,
     "metadata": {},
     "output_type": "execute_result"
    }
   ],
   "source": [
    "# look at the correlations with is_canceled\n",
    "data.corr()['is_canceled'].sort_values()"
   ]
  },
  {
   "cell_type": "code",
   "execution_count": 5,
   "metadata": {},
   "outputs": [],
   "source": [
    "features = [\n",
    "            'hotel',\n",
    "            'is_repeated_guest',\n",
    "#             'reserved_room_type',\n",
    "#             'assigned_room_type',\n",
    "            'reserved_assigned_room_type_match',\n",
    "            'country_is_FRA',\n",
    "            'country_is_DEU',\n",
    "            'country_is_other',\n",
    "            'spring',\n",
    "            'summer',\n",
    "            'fall',\n",
    "            'winter',\n",
    "            'distribution_channel_Corporate',\n",
    "            'distribution_channel_Direct',\n",
    "            'distribution_channel_GDS',\n",
    "            'distribution_channel_TA/TO',\n",
    "            'distribution_channel_Undefined',\n",
    "            'market_segment_Aviation',\n",
    "            'market_segment_Complementary',\n",
    "            'market_segment_Corporate',\n",
    "            'market_segment_Direct',\n",
    "            'market_segment_Groups',\n",
    "            'market_segment_Offline TA/TO',\n",
    "            'market_segment_Online TA',\n",
    "            'market_segment_Undefined',\n",
    "            'meal_BB',\n",
    "            'meal_FB',\n",
    "            'meal_HB',\n",
    "            'meal_SC',\n",
    "            'meal_Undefined',\n",
    "            'deposit_type_No Deposit',\n",
    "            'deposit_type_Non Refund',\n",
    "            'customer_type_Contract',\n",
    "            'customer_type_Group',\n",
    "            'customer_type_Transient',\n",
    "            'customer_type_Transient-Party',\n",
    "            'agent_14',\n",
    "            'agent_7',\n",
    "            'agent_is_other',\n",
    "            'log_lead_minmax',\n",
    "#             'cut_previous_cancellations',\n",
    "#             'cut_previous_bookings_not_canceled',\n",
    "#             'cut_booking_changes',\n",
    "            \"previous_cancellations_minmax\",\n",
    "            \"previous_bookings_not_canceled_minmax\",\n",
    "            \"booking_changes_minmax\",\n",
    "            'stays_in_weekend_nights_minmax',\n",
    "            'stays_in_week_nights_minmax',\n",
    "            'stays_in_total_nights_minmax',\n",
    "            'adults_minmax',\n",
    "            'children_minmax',\n",
    "            'babies_minmax',\n",
    "            'days_in_waiting_list_minmax',\n",
    "            'adr_minmax',\n",
    "            'required_car_parking_spaces_minmax',\n",
    "            'total_of_special_requests_minmax'\n",
    "           ]\n",
    "\n",
    "label = ['is_canceled']"
   ]
  },
  {
   "cell_type": "code",
   "execution_count": 6,
   "metadata": {},
   "outputs": [
    {
     "data": {
      "text/plain": [
       "51"
      ]
     },
     "execution_count": 6,
     "metadata": {},
     "output_type": "execute_result"
    }
   ],
   "source": [
    "len(features)"
   ]
  },
  {
   "cell_type": "code",
   "execution_count": 7,
   "metadata": {},
   "outputs": [],
   "source": [
    "X = data[features]\n",
    "y = data[label]"
   ]
  },
  {
   "cell_type": "code",
   "execution_count": 8,
   "metadata": {},
   "outputs": [
    {
     "name": "stdout",
     "output_type": "stream",
     "text": [
      "[False False  True False  True  True False False False  True False  True\n",
      "  True False  True False  True  True False  True  True  True  True False\n",
      "  True False False  True False  True False False  True False  True  True\n",
      "  True  True  True  True  True False False False  True  True  True False\n",
      "  True  True  True]\n",
      "[13  3  1  4  1  1 11  8 18  1 16  1  1  5  1 14  1  1 17  1  1  1  1 21\n",
      "  1 20  6  1  2  1  9  7  1 10  1  1  1  1  1  1  1 19 15 22  1  1  1 12\n",
      "  1  1  1]\n"
     ]
    }
   ],
   "source": [
    "# features selection - keep only the top 30 features\n",
    "lr = LogisticRegression(solver='lbfgs',max_iter=500,n_jobs=os.cpu_count())\n",
    "\n",
    "rfe = RFE(lr,30)\n",
    "rfe = rfe.fit(X, y.values.ravel())\n",
    "\n",
    "print(rfe.support_)\n",
    "print(rfe.ranking_)"
   ]
  },
  {
   "cell_type": "code",
   "execution_count": 9,
   "metadata": {},
   "outputs": [
    {
     "name": "stdout",
     "output_type": "stream",
     "text": [
      "30 \n",
      " ['reserved_assigned_room_type_match', 'country_is_DEU', 'country_is_other', 'winter', 'distribution_channel_Direct', 'distribution_channel_GDS', 'distribution_channel_Undefined', 'market_segment_Complementary', 'market_segment_Corporate', 'market_segment_Groups', 'market_segment_Offline TA/TO', 'market_segment_Online TA', 'market_segment_Undefined', 'meal_FB', 'meal_Undefined', 'deposit_type_Non Refund', 'customer_type_Transient', 'agent_14', 'agent_7', 'agent_is_other', 'log_lead_minmax', 'previous_cancellations_minmax', 'previous_bookings_not_canceled_minmax', 'booking_changes_minmax', 'adults_minmax', 'children_minmax', 'babies_minmax', 'adr_minmax', 'required_car_parking_spaces_minmax', 'total_of_special_requests_minmax']\n"
     ]
    }
   ],
   "source": [
    "features_selected = []\n",
    "for feature, is_selected in zip(features,rfe.support_):\n",
    "    if is_selected:\n",
    "        features_selected.append(feature)\n",
    "print(len(features_selected),\"\\n\",features_selected)"
   ]
  },
  {
   "cell_type": "code",
   "execution_count": 10,
   "metadata": {},
   "outputs": [],
   "source": [
    "X_new = data[features_selected]"
   ]
  },
  {
   "cell_type": "code",
   "execution_count": 11,
   "metadata": {},
   "outputs": [],
   "source": [
    "y_act = y.values.ravel()"
   ]
  },
  {
   "cell_type": "code",
   "execution_count": 12,
   "metadata": {},
   "outputs": [],
   "source": [
    "score_cv = cross_val_score(lr, X_new, y_act, cv=10)"
   ]
  },
  {
   "cell_type": "code",
   "execution_count": 13,
   "metadata": {},
   "outputs": [
    {
     "data": {
      "text/plain": [
       "0.7914150058356085"
      ]
     },
     "execution_count": 13,
     "metadata": {},
     "output_type": "execute_result"
    }
   ],
   "source": [
    "score_cv.mean()"
   ]
  },
  {
   "cell_type": "code",
   "execution_count": 14,
   "metadata": {},
   "outputs": [
    {
     "data": {
      "text/plain": [
       "LogisticRegression(C=1.0, class_weight=None, dual=False, fit_intercept=True,\n",
       "                   intercept_scaling=1, l1_ratio=None, max_iter=500,\n",
       "                   multi_class='warn', n_jobs=4, penalty='l2',\n",
       "                   random_state=None, solver='lbfgs', tol=0.0001, verbose=0,\n",
       "                   warm_start=False)"
      ]
     },
     "execution_count": 14,
     "metadata": {},
     "output_type": "execute_result"
    }
   ],
   "source": [
    "lr.fit(X_new, y_act)"
   ]
  },
  {
   "cell_type": "code",
   "execution_count": 15,
   "metadata": {},
   "outputs": [
    {
     "data": {
      "text/html": [
       "<div>\n",
       "<style scoped>\n",
       "    .dataframe tbody tr th:only-of-type {\n",
       "        vertical-align: middle;\n",
       "    }\n",
       "\n",
       "    .dataframe tbody tr th {\n",
       "        vertical-align: top;\n",
       "    }\n",
       "\n",
       "    .dataframe thead th {\n",
       "        text-align: right;\n",
       "    }\n",
       "</style>\n",
       "<table border=\"1\" class=\"dataframe\">\n",
       "  <thead>\n",
       "    <tr style=\"text-align: right;\">\n",
       "      <th></th>\n",
       "      <th>Coefficient</th>\n",
       "    </tr>\n",
       "  </thead>\n",
       "  <tbody>\n",
       "    <tr>\n",
       "      <td>reserved_assigned_room_type_match</td>\n",
       "      <td>1.779795</td>\n",
       "    </tr>\n",
       "    <tr>\n",
       "      <td>country_is_DEU</td>\n",
       "      <td>-0.337571</td>\n",
       "    </tr>\n",
       "    <tr>\n",
       "      <td>country_is_other</td>\n",
       "      <td>0.865701</td>\n",
       "    </tr>\n",
       "    <tr>\n",
       "      <td>winter</td>\n",
       "      <td>0.267417</td>\n",
       "    </tr>\n",
       "    <tr>\n",
       "      <td>distribution_channel_Direct</td>\n",
       "      <td>-0.506186</td>\n",
       "    </tr>\n",
       "    <tr>\n",
       "      <td>distribution_channel_GDS</td>\n",
       "      <td>-0.945546</td>\n",
       "    </tr>\n",
       "    <tr>\n",
       "      <td>distribution_channel_Undefined</td>\n",
       "      <td>2.051461</td>\n",
       "    </tr>\n",
       "    <tr>\n",
       "      <td>market_segment_Complementary</td>\n",
       "      <td>0.528233</td>\n",
       "    </tr>\n",
       "    <tr>\n",
       "      <td>market_segment_Corporate</td>\n",
       "      <td>-0.417008</td>\n",
       "    </tr>\n",
       "    <tr>\n",
       "      <td>market_segment_Groups</td>\n",
       "      <td>-0.275909</td>\n",
       "    </tr>\n",
       "    <tr>\n",
       "      <td>market_segment_Offline TA/TO</td>\n",
       "      <td>-0.934579</td>\n",
       "    </tr>\n",
       "    <tr>\n",
       "      <td>market_segment_Online TA</td>\n",
       "      <td>0.409594</td>\n",
       "    </tr>\n",
       "    <tr>\n",
       "      <td>market_segment_Undefined</td>\n",
       "      <td>1.037365</td>\n",
       "    </tr>\n",
       "    <tr>\n",
       "      <td>meal_FB</td>\n",
       "      <td>0.491900</td>\n",
       "    </tr>\n",
       "    <tr>\n",
       "      <td>meal_Undefined</td>\n",
       "      <td>-0.710723</td>\n",
       "    </tr>\n",
       "    <tr>\n",
       "      <td>deposit_type_Non Refund</td>\n",
       "      <td>5.035805</td>\n",
       "    </tr>\n",
       "    <tr>\n",
       "      <td>customer_type_Transient</td>\n",
       "      <td>0.576069</td>\n",
       "    </tr>\n",
       "    <tr>\n",
       "      <td>agent_14</td>\n",
       "      <td>0.217997</td>\n",
       "    </tr>\n",
       "    <tr>\n",
       "      <td>agent_7</td>\n",
       "      <td>-0.927589</td>\n",
       "    </tr>\n",
       "    <tr>\n",
       "      <td>agent_is_other</td>\n",
       "      <td>0.605431</td>\n",
       "    </tr>\n",
       "    <tr>\n",
       "      <td>log_lead_minmax</td>\n",
       "      <td>2.616058</td>\n",
       "    </tr>\n",
       "    <tr>\n",
       "      <td>previous_cancellations_minmax</td>\n",
       "      <td>22.531708</td>\n",
       "    </tr>\n",
       "    <tr>\n",
       "      <td>previous_bookings_not_canceled_minmax</td>\n",
       "      <td>-7.796324</td>\n",
       "    </tr>\n",
       "    <tr>\n",
       "      <td>booking_changes_minmax</td>\n",
       "      <td>-7.667327</td>\n",
       "    </tr>\n",
       "    <tr>\n",
       "      <td>adults_minmax</td>\n",
       "      <td>1.621499</td>\n",
       "    </tr>\n",
       "    <tr>\n",
       "      <td>children_minmax</td>\n",
       "      <td>0.811848</td>\n",
       "    </tr>\n",
       "    <tr>\n",
       "      <td>babies_minmax</td>\n",
       "      <td>1.198981</td>\n",
       "    </tr>\n",
       "    <tr>\n",
       "      <td>adr_minmax</td>\n",
       "      <td>1.423157</td>\n",
       "    </tr>\n",
       "    <tr>\n",
       "      <td>required_car_parking_spaces_minmax</td>\n",
       "      <td>-22.526251</td>\n",
       "    </tr>\n",
       "    <tr>\n",
       "      <td>total_of_special_requests_minmax</td>\n",
       "      <td>-3.659465</td>\n",
       "    </tr>\n",
       "  </tbody>\n",
       "</table>\n",
       "</div>"
      ],
      "text/plain": [
       "                                       Coefficient\n",
       "reserved_assigned_room_type_match         1.779795\n",
       "country_is_DEU                           -0.337571\n",
       "country_is_other                          0.865701\n",
       "winter                                    0.267417\n",
       "distribution_channel_Direct              -0.506186\n",
       "distribution_channel_GDS                 -0.945546\n",
       "distribution_channel_Undefined            2.051461\n",
       "market_segment_Complementary              0.528233\n",
       "market_segment_Corporate                 -0.417008\n",
       "market_segment_Groups                    -0.275909\n",
       "market_segment_Offline TA/TO             -0.934579\n",
       "market_segment_Online TA                  0.409594\n",
       "market_segment_Undefined                  1.037365\n",
       "meal_FB                                   0.491900\n",
       "meal_Undefined                           -0.710723\n",
       "deposit_type_Non Refund                   5.035805\n",
       "customer_type_Transient                   0.576069\n",
       "agent_14                                  0.217997\n",
       "agent_7                                  -0.927589\n",
       "agent_is_other                            0.605431\n",
       "log_lead_minmax                           2.616058\n",
       "previous_cancellations_minmax            22.531708\n",
       "previous_bookings_not_canceled_minmax    -7.796324\n",
       "booking_changes_minmax                   -7.667327\n",
       "adults_minmax                             1.621499\n",
       "children_minmax                           0.811848\n",
       "babies_minmax                             1.198981\n",
       "adr_minmax                                1.423157\n",
       "required_car_parking_spaces_minmax      -22.526251\n",
       "total_of_special_requests_minmax         -3.659465"
      ]
     },
     "execution_count": 15,
     "metadata": {},
     "output_type": "execute_result"
    }
   ],
   "source": [
    "coeff_df = pd.DataFrame(lr.coef_.flatten(), X_new.columns, columns=['Coefficient']); coeff_df"
   ]
  },
  {
   "cell_type": "code",
   "execution_count": 17,
   "metadata": {},
   "outputs": [
    {
     "name": "stdout",
     "output_type": "stream",
     "text": [
      "0.7961889605494598\n",
      "{'C': 10}\n"
     ]
    }
   ],
   "source": [
    "C = [1.0,5,10,20]\n",
    "\n",
    "try_grid = [{'C':C}]\n",
    "\n",
    "LRM_1 = GridSearchCV(LogisticRegression(penalty='l1',solver='liblinear', max_iter=1000),param_grid=try_grid,cv=10)\n",
    "LRM_1.fit(X_new,y_act)\n",
    "print(LRM_1.best_score_)\n",
    "print(LRM_1.best_params_)"
   ]
  },
  {
   "cell_type": "code",
   "execution_count": 19,
   "metadata": {},
   "outputs": [
    {
     "data": {
      "text/plain": [
       "LogisticRegression(C=10, class_weight=None, dual=False, fit_intercept=True,\n",
       "                   intercept_scaling=1, l1_ratio=None, max_iter=1000,\n",
       "                   multi_class='warn', n_jobs=None, penalty='l1',\n",
       "                   random_state=None, solver='liblinear', tol=0.0001, verbose=0,\n",
       "                   warm_start=False)"
      ]
     },
     "execution_count": 19,
     "metadata": {},
     "output_type": "execute_result"
    }
   ],
   "source": [
    "LRM_1.best_estimator_"
   ]
  },
  {
   "cell_type": "code",
   "execution_count": 18,
   "metadata": {},
   "outputs": [
    {
     "name": "stderr",
     "output_type": "stream",
     "text": [
      "/Users/moniquekong/opt/anaconda3/lib/python3.7/site-packages/sklearn/linear_model/logistic.py:1544: UserWarning: 'n_jobs' > 1 does not have any effect when 'solver' is set to 'liblinear'. Got 'n_jobs' = 4.\n",
      "  \" = {}.\".format(effective_n_jobs(self.n_jobs)))\n",
      "/Users/moniquekong/opt/anaconda3/lib/python3.7/site-packages/sklearn/linear_model/logistic.py:1544: UserWarning: 'n_jobs' > 1 does not have any effect when 'solver' is set to 'liblinear'. Got 'n_jobs' = 4.\n",
      "  \" = {}.\".format(effective_n_jobs(self.n_jobs)))\n",
      "/Users/moniquekong/opt/anaconda3/lib/python3.7/site-packages/sklearn/linear_model/logistic.py:1544: UserWarning: 'n_jobs' > 1 does not have any effect when 'solver' is set to 'liblinear'. Got 'n_jobs' = 4.\n",
      "  \" = {}.\".format(effective_n_jobs(self.n_jobs)))\n",
      "/Users/moniquekong/opt/anaconda3/lib/python3.7/site-packages/sklearn/linear_model/logistic.py:1544: UserWarning: 'n_jobs' > 1 does not have any effect when 'solver' is set to 'liblinear'. Got 'n_jobs' = 4.\n",
      "  \" = {}.\".format(effective_n_jobs(self.n_jobs)))\n",
      "/Users/moniquekong/opt/anaconda3/lib/python3.7/site-packages/sklearn/linear_model/logistic.py:1544: UserWarning: 'n_jobs' > 1 does not have any effect when 'solver' is set to 'liblinear'. Got 'n_jobs' = 4.\n",
      "  \" = {}.\".format(effective_n_jobs(self.n_jobs)))\n",
      "/Users/moniquekong/opt/anaconda3/lib/python3.7/site-packages/sklearn/linear_model/logistic.py:1544: UserWarning: 'n_jobs' > 1 does not have any effect when 'solver' is set to 'liblinear'. Got 'n_jobs' = 4.\n",
      "  \" = {}.\".format(effective_n_jobs(self.n_jobs)))\n",
      "/Users/moniquekong/opt/anaconda3/lib/python3.7/site-packages/sklearn/linear_model/logistic.py:1544: UserWarning: 'n_jobs' > 1 does not have any effect when 'solver' is set to 'liblinear'. Got 'n_jobs' = 4.\n",
      "  \" = {}.\".format(effective_n_jobs(self.n_jobs)))\n",
      "/Users/moniquekong/opt/anaconda3/lib/python3.7/site-packages/sklearn/linear_model/logistic.py:1544: UserWarning: 'n_jobs' > 1 does not have any effect when 'solver' is set to 'liblinear'. Got 'n_jobs' = 4.\n",
      "  \" = {}.\".format(effective_n_jobs(self.n_jobs)))\n",
      "/Users/moniquekong/opt/anaconda3/lib/python3.7/site-packages/sklearn/linear_model/logistic.py:1544: UserWarning: 'n_jobs' > 1 does not have any effect when 'solver' is set to 'liblinear'. Got 'n_jobs' = 4.\n",
      "  \" = {}.\".format(effective_n_jobs(self.n_jobs)))\n",
      "/Users/moniquekong/opt/anaconda3/lib/python3.7/site-packages/sklearn/linear_model/logistic.py:1544: UserWarning: 'n_jobs' > 1 does not have any effect when 'solver' is set to 'liblinear'. Got 'n_jobs' = 4.\n",
      "  \" = {}.\".format(effective_n_jobs(self.n_jobs)))\n"
     ]
    },
    {
     "name": "stdout",
     "output_type": "stream",
     "text": [
      "0.7944467710863556\n",
      "{'C': 10, 'penalty': 'l2', 'solver': 'saga'}\n"
     ]
    }
   ],
   "source": [
    "penalty = ['l2']\n",
    "solver = ['liblinear','newton-cg','lbfgs', 'sag', 'saga']\n",
    "C = [10]\n",
    "\n",
    "try_grid = [{'penalty': penalty, \n",
    "             'solver': solver,\n",
    "             'C':C}]\n",
    "\n",
    "LRM_2 = GridSearchCV(LogisticRegression(max_iter=1000,n_jobs=os.cpu_count()),param_grid=try_grid,cv=10)\n",
    "LRM_2.fit(X_new,y_act)\n",
    "print(LRM_2.best_score_)\n",
    "print(LRM_2.best_params_)"
   ]
  },
  {
   "cell_type": "code",
   "execution_count": 19,
   "metadata": {},
   "outputs": [
    {
     "data": {
      "text/plain": [
       "0.796181070334948"
      ]
     },
     "execution_count": 19,
     "metadata": {},
     "output_type": "execute_result"
    }
   ],
   "source": [
    "score_cv_1 = cross_val_score(LRM_1.best_estimator_, X_new, y_act, cv=10)\n",
    "score_cv_1.mean()"
   ]
  },
  {
   "cell_type": "code",
   "execution_count": 20,
   "metadata": {},
   "outputs": [
    {
     "data": {
      "text/plain": [
       "0.7944471662699408"
      ]
     },
     "execution_count": 20,
     "metadata": {},
     "output_type": "execute_result"
    }
   ],
   "source": [
    "score_cv_2 = cross_val_score(LRM_2.best_estimator_, X_new, y_act, cv=10)\n",
    "score_cv_2.mean()"
   ]
  },
  {
   "cell_type": "code",
   "execution_count": 22,
   "metadata": {},
   "outputs": [],
   "source": [
    "y_pred = cross_val_predict(LRM_1.best_estimator_, X_new, y_act, cv=10)"
   ]
  },
  {
   "cell_type": "code",
   "execution_count": 23,
   "metadata": {},
   "outputs": [
    {
     "data": {
      "text/plain": [
       "{0: 84350, 1: 35040}"
      ]
     },
     "execution_count": 23,
     "metadata": {},
     "output_type": "execute_result"
    }
   ],
   "source": [
    "unique, counts = np.unique(y_pred, return_counts=True)\n",
    "dict(zip(unique, counts))"
   ]
  },
  {
   "cell_type": "code",
   "execution_count": 24,
   "metadata": {},
   "outputs": [
    {
     "name": "stdout",
     "output_type": "stream",
     "text": [
      "Confusion Matrix:\n",
      " [[67591  7575]\n",
      " [16759 27465]]\n",
      "Accuracy: 0.7961805846385794\n"
     ]
    }
   ],
   "source": [
    "# Confusion matrix\n",
    "print(\"Confusion Matrix:\\n\", confusion_matrix(y_act, y_pred))\n",
    "print(\"Accuracy:\",accuracy_score(y_act, y_pred))"
   ]
  },
  {
   "cell_type": "code",
   "execution_count": 25,
   "metadata": {},
   "outputs": [
    {
     "name": "stdout",
     "output_type": "stream",
     "text": [
      "              precision    recall  f1-score   support\n",
      "\n",
      "           0       0.80      0.90      0.85     75166\n",
      "           1       0.78      0.62      0.69     44224\n",
      "\n",
      "    accuracy                           0.80    119390\n",
      "   macro avg       0.79      0.76      0.77    119390\n",
      "weighted avg       0.79      0.80      0.79    119390\n",
      "\n"
     ]
    }
   ],
   "source": [
    "print(classification_report(y_act, y_pred))"
   ]
  },
  {
   "cell_type": "markdown",
   "metadata": {},
   "source": [
    "**ROC**"
   ]
  },
  {
   "cell_type": "code",
   "execution_count": 26,
   "metadata": {},
   "outputs": [],
   "source": [
    "# probablities for each prediction\n",
    "proba_y = cross_val_predict(lr, X_new, y_act, cv=10, method='predict_proba')"
   ]
  },
  {
   "cell_type": "code",
   "execution_count": 27,
   "metadata": {},
   "outputs": [],
   "source": [
    "# lower threshold for '0' to be 0.4\n",
    "proba_y_0_lt= [0 if i >= 0.4 else 1 for i in proba_y[:,0]]"
   ]
  },
  {
   "cell_type": "code",
   "execution_count": 28,
   "metadata": {},
   "outputs": [
    {
     "name": "stdout",
     "output_type": "stream",
     "text": [
      "Confusion Matrix: \n",
      "[[71349  3817]\n",
      " [21615 22609]]\n",
      "\n",
      "Accuracy Score: \n",
      "0.786983834492001\n",
      "\n",
      "              precision    recall  f1-score   support\n",
      "\n",
      "           0       0.77      0.95      0.85     75166\n",
      "           1       0.86      0.51      0.64     44224\n",
      "\n",
      "    accuracy                           0.79    119390\n",
      "   macro avg       0.81      0.73      0.74    119390\n",
      "weighted avg       0.80      0.79      0.77    119390\n",
      "\n"
     ]
    }
   ],
   "source": [
    "print(\"Confusion Matrix:\", \"\\n\"+str(confusion_matrix(y_act,proba_y_0_lt))+\"\\n\")\n",
    "print(\"Accuracy Score:\", \"\\n\"+str(accuracy_score(y_act,proba_y_0_lt,normalize=True, sample_weight=None))+\"\\n\")\n",
    "print(classification_report(y_act,proba_y_0_lt))"
   ]
  },
  {
   "cell_type": "code",
   "execution_count": 29,
   "metadata": {},
   "outputs": [],
   "source": [
    "from sklearn.metrics import roc_curve, auc\n",
    "from sklearn import metrics\n",
    "import matplotlib as mpl\n",
    "import matplotlib.pyplot as plt"
   ]
  },
  {
   "cell_type": "code",
   "execution_count": 30,
   "metadata": {},
   "outputs": [
    {
     "data": {
      "text/plain": [
       "Text(0.5, 0, 'False Positive Rate')"
      ]
     },
     "execution_count": 30,
     "metadata": {},
     "output_type": "execute_result"
    },
    {
     "data": {
      "image/png": "[encoded data removed]",
      "text/plain": [
       "<Figure size 720x720 with 1 Axes>"
      ]
     },
     "metadata": {
      "needs_background": "light"
     },
     "output_type": "display_data"
    }
   ],
   "source": [
    "fpr, tpr, thresholds = metrics.roc_curve(y_act,proba_y[:,0],pos_label=0)\n",
    "roc_auc = metrics.auc(fpr, tpr)\n",
    "plt.figure(figsize = (10,10))\n",
    "plt.plot(fpr, tpr, color = 'red', label = 'AUC = %0.2f' % roc_auc)\n",
    "plt.legend(loc = 'lower right')\n",
    "plt.plot([0, 1], [0, 1], linestyle = '--')\n",
    "plt.grid(True)\n",
    "plt.ylabel('True Positive Rate')\n",
    "plt.xlabel('False Positive Rate')"
   ]
  },
  {
   "cell_type": "code",
   "execution_count": 31,
   "metadata": {},
   "outputs": [
    {
     "data": {
      "text/plain": [
       "0.8547828036536249"
      ]
     },
     "execution_count": 31,
     "metadata": {},
     "output_type": "execute_result"
    }
   ],
   "source": [
    "metrics.auc(fpr, tpr)"
   ]
  },
  {
   "cell_type": "code",
   "execution_count": null,
   "metadata": {},
   "outputs": [],
   "source": []
  }
 ],
 "metadata": {
  "kernelspec": {
   "display_name": "Python 3",
   "language": "python",
   "name": "python3"
  },
  "language_info": {
   "codemirror_mode": {
    "name": "ipython",
    "version": 3
   },
   "file_extension": ".py",
   "mimetype": "text/x-python",
   "name": "python",
   "nbconvert_exporter": "python",
   "pygments_lexer": "ipython3",
   "version": "3.7.4"
  }
 },
 "nbformat": 4,
 "nbformat_minor": 2
}
