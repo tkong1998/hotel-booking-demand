{
 "cells": [
  {
   "cell_type": "markdown",
   "metadata": {},
   "source": [
    "### K-Nearest Neighbor (KNN)"
   ]
  },
  {
   "cell_type": "code",
   "execution_count": 1,
   "metadata": {},
   "outputs": [],
   "source": [
    "# import libraries\n",
    "import numpy as np\n",
    "import pandas as pd\n",
    "from sklearn import preprocessing\n",
    "from sklearn.metrics import accuracy_score\n",
    "from sklearn.metrics import confusion_matrix\n",
    "from sklearn.metrics import classification_report\n",
    "from sklearn.model_selection import GridSearchCV\n",
    "from sklearn.model_selection import cross_val_score\n",
    "from sklearn.model_selection import cross_val_predict\n",
    "from sklearn.model_selection import train_test_split\n",
    "\n",
    "#import functions for cross validation\n",
    "from sklearn.model_selection import cross_val_score, cross_val_predict\n",
    "# Import KNeighborsClassifier Model from sklearn\n",
    "from sklearn.neighbors import KNeighborsClassifier\n",
    "\n",
    "from sklearn.metrics import roc_curve, auc\n",
    "from sklearn import metrics\n",
    "\n",
    "from sklearn import tree\n",
    "import matplotlib.pyplot as plt"
   ]
  },
  {
   "cell_type": "code",
   "execution_count": 2,
   "metadata": {},
   "outputs": [
    {
     "name": "stderr",
     "output_type": "stream",
     "text": [
      "/Users/vaish.g/anaconda3/lib/python3.7/site-packages/IPython/core/interactiveshell.py:3058: DtypeWarning: Columns (42,43) have mixed types. Specify dtype option on import or set low_memory=False.\n",
      "  interactivity=interactivity, compiler=compiler, result=result)\n"
     ]
    }
   ],
   "source": [
    "# read the dataset\n",
    "data = pd.read_csv(\"clean_hotel_bookings.csv\", index_col='Unnamed: 0')"
   ]
  },
  {
   "cell_type": "code",
   "execution_count": 3,
   "metadata": {},
   "outputs": [
    {
     "data": {
      "text/html": [
       "<div>\n",
       "<style scoped>\n",
       "    .dataframe tbody tr th:only-of-type {\n",
       "        vertical-align: middle;\n",
       "    }\n",
       "\n",
       "    .dataframe tbody tr th {\n",
       "        vertical-align: top;\n",
       "    }\n",
       "\n",
       "    .dataframe thead th {\n",
       "        text-align: right;\n",
       "    }\n",
       "</style>\n",
       "<table border=\"1\" class=\"dataframe\">\n",
       "  <thead>\n",
       "    <tr style=\"text-align: right;\">\n",
       "      <th></th>\n",
       "      <th>hotel</th>\n",
       "      <th>is_canceled</th>\n",
       "      <th>is_repeated_guest</th>\n",
       "      <th>reserved_room_type</th>\n",
       "      <th>assigned_room_type</th>\n",
       "      <th>country_is_FRA</th>\n",
       "      <th>country_is_DEU</th>\n",
       "      <th>country_is_other</th>\n",
       "      <th>reserved_assigned_room_type_match</th>\n",
       "      <th>fall</th>\n",
       "      <th>...</th>\n",
       "      <th>stays_in_weekend_nights_minmax</th>\n",
       "      <th>stays_in_week_nights_minmax</th>\n",
       "      <th>stays_in_total_nights_minmax</th>\n",
       "      <th>adults_minmax</th>\n",
       "      <th>children_minmax</th>\n",
       "      <th>babies_minmax</th>\n",
       "      <th>days_in_waiting_list_minmax</th>\n",
       "      <th>adr_minmax</th>\n",
       "      <th>required_car_parking_spaces_minmax</th>\n",
       "      <th>total_of_special_requests_minmax</th>\n",
       "    </tr>\n",
       "  </thead>\n",
       "  <tbody>\n",
       "    <tr>\n",
       "      <td>0</td>\n",
       "      <td>0</td>\n",
       "      <td>0</td>\n",
       "      <td>0</td>\n",
       "      <td>C</td>\n",
       "      <td>C</td>\n",
       "      <td>0</td>\n",
       "      <td>0</td>\n",
       "      <td>1</td>\n",
       "      <td>1</td>\n",
       "      <td>0</td>\n",
       "      <td>...</td>\n",
       "      <td>0.0</td>\n",
       "      <td>0.000000</td>\n",
       "      <td>0.000000</td>\n",
       "      <td>0.036364</td>\n",
       "      <td>0.0</td>\n",
       "      <td>0.0</td>\n",
       "      <td>0.0</td>\n",
       "      <td>0.012355</td>\n",
       "      <td>0.0</td>\n",
       "      <td>0.0</td>\n",
       "    </tr>\n",
       "    <tr>\n",
       "      <td>1</td>\n",
       "      <td>0</td>\n",
       "      <td>0</td>\n",
       "      <td>0</td>\n",
       "      <td>C</td>\n",
       "      <td>C</td>\n",
       "      <td>0</td>\n",
       "      <td>0</td>\n",
       "      <td>1</td>\n",
       "      <td>1</td>\n",
       "      <td>0</td>\n",
       "      <td>...</td>\n",
       "      <td>0.0</td>\n",
       "      <td>0.000000</td>\n",
       "      <td>0.000000</td>\n",
       "      <td>0.036364</td>\n",
       "      <td>0.0</td>\n",
       "      <td>0.0</td>\n",
       "      <td>0.0</td>\n",
       "      <td>0.012355</td>\n",
       "      <td>0.0</td>\n",
       "      <td>0.0</td>\n",
       "    </tr>\n",
       "    <tr>\n",
       "      <td>2</td>\n",
       "      <td>0</td>\n",
       "      <td>0</td>\n",
       "      <td>0</td>\n",
       "      <td>A</td>\n",
       "      <td>C</td>\n",
       "      <td>0</td>\n",
       "      <td>0</td>\n",
       "      <td>1</td>\n",
       "      <td>0</td>\n",
       "      <td>0</td>\n",
       "      <td>...</td>\n",
       "      <td>0.0</td>\n",
       "      <td>0.166667</td>\n",
       "      <td>0.090909</td>\n",
       "      <td>0.018182</td>\n",
       "      <td>0.0</td>\n",
       "      <td>0.0</td>\n",
       "      <td>0.0</td>\n",
       "      <td>0.157597</td>\n",
       "      <td>0.0</td>\n",
       "      <td>0.0</td>\n",
       "    </tr>\n",
       "    <tr>\n",
       "      <td>3</td>\n",
       "      <td>0</td>\n",
       "      <td>0</td>\n",
       "      <td>0</td>\n",
       "      <td>A</td>\n",
       "      <td>A</td>\n",
       "      <td>0</td>\n",
       "      <td>0</td>\n",
       "      <td>1</td>\n",
       "      <td>1</td>\n",
       "      <td>0</td>\n",
       "      <td>...</td>\n",
       "      <td>0.0</td>\n",
       "      <td>0.166667</td>\n",
       "      <td>0.090909</td>\n",
       "      <td>0.018182</td>\n",
       "      <td>0.0</td>\n",
       "      <td>0.0</td>\n",
       "      <td>0.0</td>\n",
       "      <td>0.157597</td>\n",
       "      <td>0.0</td>\n",
       "      <td>0.0</td>\n",
       "    </tr>\n",
       "    <tr>\n",
       "      <td>4</td>\n",
       "      <td>0</td>\n",
       "      <td>0</td>\n",
       "      <td>0</td>\n",
       "      <td>A</td>\n",
       "      <td>A</td>\n",
       "      <td>0</td>\n",
       "      <td>0</td>\n",
       "      <td>1</td>\n",
       "      <td>1</td>\n",
       "      <td>0</td>\n",
       "      <td>...</td>\n",
       "      <td>0.0</td>\n",
       "      <td>0.333333</td>\n",
       "      <td>0.181818</td>\n",
       "      <td>0.036364</td>\n",
       "      <td>0.0</td>\n",
       "      <td>0.0</td>\n",
       "      <td>0.0</td>\n",
       "      <td>0.202138</td>\n",
       "      <td>0.0</td>\n",
       "      <td>0.2</td>\n",
       "    </tr>\n",
       "  </tbody>\n",
       "</table>\n",
       "<p>5 rows × 58 columns</p>\n",
       "</div>"
      ],
      "text/plain": [
       "   hotel  is_canceled  is_repeated_guest reserved_room_type  \\\n",
       "0      0            0                  0                  C   \n",
       "1      0            0                  0                  C   \n",
       "2      0            0                  0                  A   \n",
       "3      0            0                  0                  A   \n",
       "4      0            0                  0                  A   \n",
       "\n",
       "  assigned_room_type  country_is_FRA  country_is_DEU  country_is_other  \\\n",
       "0                  C               0               0                 1   \n",
       "1                  C               0               0                 1   \n",
       "2                  C               0               0                 1   \n",
       "3                  A               0               0                 1   \n",
       "4                  A               0               0                 1   \n",
       "\n",
       "   reserved_assigned_room_type_match  fall  ...  \\\n",
       "0                                  1     0  ...   \n",
       "1                                  1     0  ...   \n",
       "2                                  0     0  ...   \n",
       "3                                  1     0  ...   \n",
       "4                                  1     0  ...   \n",
       "\n",
       "   stays_in_weekend_nights_minmax  stays_in_week_nights_minmax  \\\n",
       "0                             0.0                     0.000000   \n",
       "1                             0.0                     0.000000   \n",
       "2                             0.0                     0.166667   \n",
       "3                             0.0                     0.166667   \n",
       "4                             0.0                     0.333333   \n",
       "\n",
       "   stays_in_total_nights_minmax  adults_minmax  children_minmax  \\\n",
       "0                      0.000000       0.036364              0.0   \n",
       "1                      0.000000       0.036364              0.0   \n",
       "2                      0.090909       0.018182              0.0   \n",
       "3                      0.090909       0.018182              0.0   \n",
       "4                      0.181818       0.036364              0.0   \n",
       "\n",
       "   babies_minmax  days_in_waiting_list_minmax  adr_minmax  \\\n",
       "0            0.0                          0.0    0.012355   \n",
       "1            0.0                          0.0    0.012355   \n",
       "2            0.0                          0.0    0.157597   \n",
       "3            0.0                          0.0    0.157597   \n",
       "4            0.0                          0.0    0.202138   \n",
       "\n",
       "   required_car_parking_spaces_minmax  total_of_special_requests_minmax  \n",
       "0                                 0.0                               0.0  \n",
       "1                                 0.0                               0.0  \n",
       "2                                 0.0                               0.0  \n",
       "3                                 0.0                               0.0  \n",
       "4                                 0.0                               0.2  \n",
       "\n",
       "[5 rows x 58 columns]"
      ]
     },
     "execution_count": 3,
     "metadata": {},
     "output_type": "execute_result"
    }
   ],
   "source": [
    "data.head()"
   ]
  },
  {
   "cell_type": "code",
   "execution_count": 4,
   "metadata": {},
   "outputs": [
    {
     "name": "stdout",
     "output_type": "stream",
     "text": [
      "<class 'pandas.core.frame.DataFrame'>\n",
      "Int64Index: 119390 entries, 0 to 119389\n",
      "Data columns (total 58 columns):\n",
      "hotel                                    119390 non-null int64\n",
      "is_canceled                              119390 non-null int64\n",
      "is_repeated_guest                        119390 non-null int64\n",
      "reserved_room_type                       119390 non-null object\n",
      "assigned_room_type                       119390 non-null object\n",
      "country_is_FRA                           119390 non-null int64\n",
      "country_is_DEU                           119390 non-null int64\n",
      "country_is_other                         119390 non-null int64\n",
      "reserved_assigned_room_type_match        119390 non-null int64\n",
      "fall                                     119390 non-null int64\n",
      "spring                                   119390 non-null int64\n",
      "summer                                   119390 non-null int64\n",
      "winter                                   119390 non-null int64\n",
      "distribution_channel_Corporate           119390 non-null int64\n",
      "distribution_channel_Direct              119390 non-null int64\n",
      "distribution_channel_GDS                 119390 non-null int64\n",
      "distribution_channel_TA/TO               119390 non-null int64\n",
      "distribution_channel_Undefined           119390 non-null int64\n",
      "market_segment_Aviation                  119390 non-null int64\n",
      "market_segment_Complementary             119390 non-null int64\n",
      "market_segment_Corporate                 119390 non-null int64\n",
      "market_segment_Direct                    119390 non-null int64\n",
      "market_segment_Groups                    119390 non-null int64\n",
      "market_segment_Offline TA/TO             119390 non-null int64\n",
      "market_segment_Online TA                 119390 non-null int64\n",
      "market_segment_Undefined                 119390 non-null int64\n",
      "meal_BB                                  119390 non-null int64\n",
      "meal_FB                                  119390 non-null int64\n",
      "meal_HB                                  119390 non-null int64\n",
      "meal_SC                                  119390 non-null int64\n",
      "meal_Undefined                           119390 non-null int64\n",
      "deposit_type_No Deposit                  119390 non-null int64\n",
      "deposit_type_Non Refund                  119390 non-null int64\n",
      "customer_type_Contract                   119390 non-null int64\n",
      "customer_type_Group                      119390 non-null int64\n",
      "customer_type_Transient                  119390 non-null int64\n",
      "customer_type_Transient-Party            119390 non-null int64\n",
      "agent_14                                 119390 non-null int64\n",
      "agent_7                                  119390 non-null int64\n",
      "agent_is_other                           119390 non-null int64\n",
      "log_lead                                 119390 non-null float64\n",
      "cut_previous_cancellations               119390 non-null object\n",
      "cut_previous_bookings_not_canceled       119390 non-null object\n",
      "cut_booking_changes                      119390 non-null object\n",
      "previous_cancellations_minmax            119390 non-null float64\n",
      "previous_bookings_not_canceled_minmax    119390 non-null float64\n",
      "booking_changes_minmax                   119390 non-null float64\n",
      "log_lead_minmax                          119390 non-null float64\n",
      "stays_in_weekend_nights_minmax           119390 non-null float64\n",
      "stays_in_week_nights_minmax              119390 non-null float64\n",
      "stays_in_total_nights_minmax             119390 non-null float64\n",
      "adults_minmax                            119390 non-null float64\n",
      "children_minmax                          119390 non-null float64\n",
      "babies_minmax                            119390 non-null float64\n",
      "days_in_waiting_list_minmax              119390 non-null float64\n",
      "adr_minmax                               119390 non-null float64\n",
      "required_car_parking_spaces_minmax       119390 non-null float64\n",
      "total_of_special_requests_minmax         119390 non-null float64\n",
      "dtypes: float64(15), int64(38), object(5)\n",
      "memory usage: 53.7+ MB\n"
     ]
    }
   ],
   "source": [
    "data.info()"
   ]
  },
  {
   "cell_type": "code",
   "execution_count": 5,
   "metadata": {},
   "outputs": [
    {
     "data": {
      "text/plain": [
       "0    0.629584\n",
       "1    0.370416\n",
       "Name: is_canceled, dtype: float64"
      ]
     },
     "execution_count": 5,
     "metadata": {},
     "output_type": "execute_result"
    }
   ],
   "source": [
    "data['is_canceled'].value_counts(1)"
   ]
  },
  {
   "cell_type": "code",
   "execution_count": 6,
   "metadata": {},
   "outputs": [],
   "source": [
    "features = ['hotel',\n",
    "            'is_repeated_guest',\n",
    "            'reserved_assigned_room_type_match',\n",
    "            'country_is_FRA',\n",
    "            'country_is_DEU',\n",
    "            'country_is_other',\n",
    "            'spring',\n",
    "            'summer',\n",
    "            'fall',\n",
    "            'winter',\n",
    "            'distribution_channel_Corporate',\n",
    "            'distribution_channel_Direct',\n",
    "            'distribution_channel_GDS',\n",
    "            'distribution_channel_TA/TO',\n",
    "            'distribution_channel_Undefined',\n",
    "            'market_segment_Aviation',\n",
    "            'market_segment_Complementary',\n",
    "            'market_segment_Corporate',\n",
    "            'market_segment_Direct',\n",
    "            'market_segment_Groups',\n",
    "            'market_segment_Offline TA/TO',\n",
    "            'market_segment_Online TA',\n",
    "            'market_segment_Undefined',\n",
    "            'meal_BB',\n",
    "            'meal_FB',\n",
    "            'meal_HB',\n",
    "            'meal_SC',\n",
    "            'meal_Undefined',\n",
    "            'deposit_type_No Deposit',\n",
    "            'deposit_type_Non Refund',\n",
    "            'customer_type_Contract',\n",
    "            'customer_type_Group',\n",
    "            'customer_type_Transient',\n",
    "            'customer_type_Transient-Party',\n",
    "            'agent_14',\n",
    "            'agent_7',\n",
    "            'agent_is_other',\n",
    "            'log_lead_minmax',\n",
    "            \"previous_cancellations_minmax\",\n",
    "            \"previous_bookings_not_canceled_minmax\",\n",
    "            \"booking_changes_minmax\",\n",
    "            'stays_in_weekend_nights_minmax',\n",
    "            'stays_in_week_nights_minmax',\n",
    "            'stays_in_total_nights_minmax',\n",
    "            'adults_minmax',\n",
    "            'children_minmax',\n",
    "            'babies_minmax',\n",
    "            'days_in_waiting_list_minmax',\n",
    "            'adr_minmax',\n",
    "            'required_car_parking_spaces_minmax',\n",
    "            'total_of_special_requests_minmax'\n",
    "           ]\n",
    "\n",
    "label = ['is_canceled']"
   ]
  },
  {
   "cell_type": "code",
   "execution_count": 7,
   "metadata": {},
   "outputs": [
    {
     "data": {
      "text/plain": [
       "51"
      ]
     },
     "execution_count": 7,
     "metadata": {},
     "output_type": "execute_result"
    }
   ],
   "source": [
    "len(features)"
   ]
  },
  {
   "cell_type": "code",
   "execution_count": 8,
   "metadata": {},
   "outputs": [],
   "source": [
    "# use the names of attributes to split them into independent variables X and target variable y\n",
    "X = data[features]\n",
    "y = data.iloc[:,1] # is_cancelled is the label"
   ]
  },
  {
   "cell_type": "code",
   "execution_count": 9,
   "metadata": {},
   "outputs": [
    {
     "name": "stdout",
     "output_type": "stream",
     "text": [
      "When k=300, accuracy=0.621\n",
      "When k=310, accuracy=0.621\n",
      "When k=320, accuracy=0.621\n",
      "When k=330, accuracy=0.621\n",
      "When k=340, accuracy=0.621\n",
      "When k=350, accuracy=0.620\n",
      "When k=360, accuracy=0.620\n",
      "When k=370, accuracy=0.620\n",
      "When k=380, accuracy=0.619\n",
      "When k=390, accuracy=0.620\n"
     ]
    }
   ],
   "source": [
    "# try all the values of 'k' from 1 to 50 with a step of 5\n",
    "# use a for loop to try out differnt values for the 'k'\n",
    "# sqrt(120,000) = 346. thats why until 400\n",
    "\n",
    "for k in range(300,400,10):\n",
    "     \n",
    "    # define model\n",
    "    model = KNeighborsClassifier(n_neighbors=k,weights='distance')\n",
    "    \n",
    "    # find the accuracy for differnt k\n",
    "    accuracy = cross_val_score(model,X,y,cv=10).mean()\n",
    "    print(\"When k=%d, accuracy=%.3f\" % (k, accuracy))"
   ]
  },
  {
   "cell_type": "code",
   "execution_count": 11,
   "metadata": {},
   "outputs": [],
   "source": [
    "# k=340 generates the highest accuracy so we use k=340 in our model\n",
    "model_f = KNeighborsClassifier(n_neighbors=340,weights='distance')\n",
    "# model_f = KNeighborsClassifier(n_neighbors=36)"
   ]
  },
  {
   "cell_type": "code",
   "execution_count": 12,
   "metadata": {},
   "outputs": [
    {
     "data": {
      "text/plain": [
       "KNeighborsClassifier(algorithm='auto', leaf_size=30, metric='minkowski',\n",
       "                     metric_params=None, n_jobs=None, n_neighbors=340, p=2,\n",
       "                     weights='distance')"
      ]
     },
     "execution_count": 12,
     "metadata": {},
     "output_type": "execute_result"
    }
   ],
   "source": [
    "# fit the model\n",
    "model_f.fit(X,y)"
   ]
  },
  {
   "cell_type": "code",
   "execution_count": 13,
   "metadata": {},
   "outputs": [],
   "source": [
    "y_pred = cross_val_predict(model_f,X,y,cv=10)"
   ]
  },
  {
   "cell_type": "code",
   "execution_count": 14,
   "metadata": {},
   "outputs": [
    {
     "name": "stdout",
     "output_type": "stream",
     "text": [
      "Confusion Matrix: \n",
      "[[54899 20267]\n",
      " [25001 19223]]\n",
      "\n",
      "Accuracy: \n",
      "0.6208361253698514\n",
      "\n",
      "              precision    recall  f1-score   support\n",
      "\n",
      "           0       0.69      0.73      0.71     75166\n",
      "           1       0.49      0.43      0.46     44224\n",
      "\n",
      "    accuracy                           0.62    119390\n",
      "   macro avg       0.59      0.58      0.58    119390\n",
      "weighted avg       0.61      0.62      0.62    119390\n",
      "\n"
     ]
    }
   ],
   "source": [
    "# final classification report demonstrating the accuracy of the classifier for each digit\n",
    "\n",
    "# evaluate result \n",
    "print(\"Confusion Matrix:\", \"\\n\"+str(confusion_matrix(y,y_pred))+\"\\n\")\n",
    "\n",
    "print(\"Accuracy:\",\"\\n\"+ str(cross_val_score(model_f,X,y,cv=10).mean())+ \"\\n\")\n",
    "\n",
    "print(classification_report(y,y_pred))"
   ]
  },
  {
   "cell_type": "code",
   "execution_count": 15,
   "metadata": {},
   "outputs": [
    {
     "data": {
      "text/plain": [
       "Text(0.5, 0, 'False Positive Rate')"
      ]
     },
     "execution_count": 15,
     "metadata": {},
     "output_type": "execute_result"
    },
    {
     "data": {
      "image/png": "[encoded data removed]",
      "text/plain": [
       "<Figure size 720x720 with 1 Axes>"
      ]
     },
     "metadata": {
      "needs_background": "light"
     },
     "output_type": "display_data"
    }
   ],
   "source": [
    "fpr, tpr, thresholds = metrics.roc_curve(y,y_pred,pos_label=1)\n",
    "roc_auc = metrics.auc(fpr, tpr)\n",
    "plt.figure(figsize = (10,10))\n",
    "plt.plot(fpr, tpr, color = 'red', label = 'AUC = %0.2f' % roc_auc)\n",
    "plt.legend(loc = 'lower right')\n",
    "plt.plot([0, 1], [0, 1], linestyle = '--')\n",
    "plt.grid(True)\n",
    "plt.ylabel('True Positive Rate')\n",
    "plt.xlabel('False Positive Rate')"
   ]
  },
  {
   "cell_type": "code",
   "execution_count": null,
   "metadata": {},
   "outputs": [],
   "source": []
  },
  {
   "cell_type": "code",
   "execution_count": null,
   "metadata": {},
   "outputs": [],
   "source": []
  }
 ],
 "metadata": {
  "kernelspec": {
   "display_name": "Python 3",
   "language": "python",
   "name": "python3"
  },
  "language_info": {
   "codemirror_mode": {
    "name": "ipython",
    "version": 3
   },
   "file_extension": ".py",
   "mimetype": "text/x-python",
   "name": "python",
   "nbconvert_exporter": "python",
   "pygments_lexer": "ipython3",
   "version": "3.7.4"
  }
 },
 "nbformat": 4,
 "nbformat_minor": 2
}
