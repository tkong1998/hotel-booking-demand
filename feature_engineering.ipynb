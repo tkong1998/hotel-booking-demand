{
 "cells": [
  {
   "cell_type": "code",
   "execution_count": 44,
   "metadata": {},
   "outputs": [
    {
     "data": {
      "text/plain": [
       "<Figure size 1440x720 with 0 Axes>"
      ]
     },
     "metadata": {},
     "output_type": "display_data"
    }
   ],
   "source": [
    "# import library\n",
    "import numpy as np \n",
    "import pandas as pd \n",
    "\n",
    "import seaborn as sns\n",
    "import matplotlib.pyplot as plt\n",
    "%matplotlib inline\n",
    "plt.figure(figsize = (20,10))\n",
    "sns.set(style='darkgrid')"
   ]
  },
  {
   "cell_type": "code",
   "execution_count": 50,
   "metadata": {},
   "outputs": [
    {
     "name": "stdout",
     "output_type": "stream",
     "text": [
      "<class 'pandas.core.frame.DataFrame'>\n",
      "Int64Index: 119390 entries, 0 to 119389\n",
      "Data columns (total 32 columns):\n",
      "hotel                             119390 non-null object\n",
      "is_canceled                       119390 non-null int64\n",
      "lead_time                         119390 non-null int64\n",
      "arrival_date_year                 119390 non-null int64\n",
      "arrival_date_month                119390 non-null object\n",
      "arrival_date_week_number          119390 non-null int64\n",
      "arrival_date_day_of_month         119390 non-null int64\n",
      "stays_in_weekend_nights           119390 non-null int64\n",
      "stays_in_week_nights              119390 non-null int64\n",
      "adults                            119390 non-null int64\n",
      "children                          119390 non-null int64\n",
      "babies                            119390 non-null int64\n",
      "meal                              119390 non-null object\n",
      "country                           119390 non-null object\n",
      "market_segment                    119390 non-null object\n",
      "distribution_channel              119390 non-null object\n",
      "is_repeated_guest                 119390 non-null int64\n",
      "previous_cancellations            119390 non-null int64\n",
      "previous_bookings_not_canceled    119390 non-null int64\n",
      "reserved_room_type                119390 non-null object\n",
      "assigned_room_type                119390 non-null object\n",
      "booking_changes                   119390 non-null int64\n",
      "deposit_type                      119390 non-null object\n",
      "agent                             103050 non-null float64\n",
      "company                           6797 non-null float64\n",
      "days_in_waiting_list              119390 non-null int64\n",
      "customer_type                     119390 non-null object\n",
      "adr                               119390 non-null float64\n",
      "required_car_parking_spaces       119390 non-null int64\n",
      "total_of_special_requests         119390 non-null int64\n",
      "reservation_status                119390 non-null object\n",
      "reservation_status_date           119390 non-null object\n",
      "dtypes: float64(3), int64(17), object(12)\n",
      "memory usage: 30.1+ MB\n"
     ]
    }
   ],
   "source": [
    "# load data\n",
    "hotel = pd.read_csv('new_hotel_bookings.csv',index_col='Unnamed: 0')\n",
    "hotel.info()"
   ]
  },
  {
   "cell_type": "markdown",
   "metadata": {},
   "source": [
    "## Feature Engineering"
   ]
  },
  {
   "cell_type": "code",
   "execution_count": 4,
   "metadata": {},
   "outputs": [
    {
     "data": {
      "text/plain": [
       "Unnamed: 0                          int64\n",
       "hotel                              object\n",
       "is_canceled                         int64\n",
       "lead_time                           int64\n",
       "arrival_date_year                   int64\n",
       "arrival_date_month                 object\n",
       "arrival_date_week_number            int64\n",
       "arrival_date_day_of_month           int64\n",
       "stays_in_weekend_nights             int64\n",
       "stays_in_week_nights                int64\n",
       "adults                              int64\n",
       "children                            int64\n",
       "babies                              int64\n",
       "meal                               object\n",
       "country                            object\n",
       "market_segment                     object\n",
       "distribution_channel               object\n",
       "is_repeated_guest                   int64\n",
       "previous_cancellations              int64\n",
       "previous_bookings_not_canceled      int64\n",
       "reserved_room_type                 object\n",
       "assigned_room_type                 object\n",
       "booking_changes                     int64\n",
       "deposit_type                       object\n",
       "agent                             float64\n",
       "company                           float64\n",
       "days_in_waiting_list                int64\n",
       "customer_type                      object\n",
       "adr                               float64\n",
       "required_car_parking_spaces         int64\n",
       "total_of_special_requests           int64\n",
       "reservation_status                 object\n",
       "reservation_status_date            object\n",
       "dtype: object"
      ]
     },
     "execution_count": 4,
     "metadata": {},
     "output_type": "execute_result"
    }
   ],
   "source": [
    "# to check the feature types\n",
    "hotel.dtypes"
   ]
  },
  {
   "cell_type": "markdown",
   "metadata": {},
   "source": [
    "### Handling categorical features"
   ]
  },
  {
   "cell_type": "code",
   "execution_count": 5,
   "metadata": {},
   "outputs": [],
   "source": [
    "# change hotels to 0 and 1 (City Hotel: 1, Resort Hotel: 0)\n",
    "hotel['hotel'] = hotel.hotel.replace(['Resort Hotel','City Hotel'],[0,1])"
   ]
  },
  {
   "cell_type": "code",
   "execution_count": 7,
   "metadata": {},
   "outputs": [],
   "source": [
    "month=['January', 'February', 'March', 'April', 'May', 'June', 'July', \n",
    "       'August', 'September', 'October', 'November', 'December']\n",
    "# change arrival date month to 1 to 12\n",
    "hotel['arrival_date_month'] = hotel.arrival_date_month.replace(month,np.arange(1,13))"
   ]
  },
  {
   "cell_type": "code",
   "execution_count": 8,
   "metadata": {},
   "outputs": [],
   "source": [
    "# group months into seasons\n",
    "spring = [3,4,5]\n",
    "summer = [6,7,8]\n",
    "fall = [9,10,11]\n",
    "winter = [1,2,12]\n",
    "hotel['seasons'] = hotel['arrival_date_month'].map(lambda i: \"spring\" if i in spring else \"summer\" if i in summer else \"fall\" if i in fall else \"winter\")"
   ]
  },
  {
   "cell_type": "code",
   "execution_count": 11,
   "metadata": {},
   "outputs": [
    {
     "data": {
      "text/plain": [
       "<matplotlib.axes._subplots.AxesSubplot at 0x1a2436bed0>"
      ]
     },
     "execution_count": 11,
     "metadata": {},
     "output_type": "execute_result"
    },
    {
     "data": {
      "image/png": "[encoded data removed]",
      "text/plain": [
       "<Figure size 1440x720 with 1 Axes>"
      ]
     },
     "metadata": {
      "needs_background": "light"
     },
     "output_type": "display_data"
    }
   ],
   "source": [
    "# bar chart for seasons\n",
    "plt.figure(figsize=(20,10))\n",
    "seasons = ['spring','summer','fall','winter']\n",
    "sns.countplot(x = 'seasons', hue = 'is_canceled', data=hotel, order=seasons)"
   ]
  },
  {
   "cell_type": "code",
   "execution_count": 12,
   "metadata": {},
   "outputs": [],
   "source": [
    "# create one-hot variavles for seasons\n",
    "season_dummies = pd.get_dummies(hotel['seasons'])\n",
    "\n",
    "# adding dummy variables into the dataset\n",
    "hotel = pd.concat([hotel, season_dummies],axis=1,sort=True)\n",
    "\n",
    "# drop the season column after adding the dummies\n",
    "hotel = hotel.drop(columns=['seasons'])"
   ]
  },
  {
   "cell_type": "code",
   "execution_count": 13,
   "metadata": {},
   "outputs": [],
   "source": [
    "mealdummy = pd.get_dummies(hotel['meal'],prefix ='meal')"
   ]
  },
  {
   "cell_type": "code",
   "execution_count": 14,
   "metadata": {},
   "outputs": [],
   "source": [
    "# Finding the most predictive country with >80% majority label and more than 5000 entries\n",
    "\n",
    "# Groupby country and find how many cancelled and not cancelled each country has\n",
    "hotelcountrycount = hotel.groupby(['country','is_canceled'])['is_canceled'].size().reset_index(name='count_cancelled')\n",
    "# hotelcountrysum= hotel.groupby('country')['is_canceled'].agg(pd.Series.sum).reset_index(name='sum') \n",
    "hotelcountrysum = hotel.groupby('country')['is_canceled'].count().reset_index(name='sum')\n",
    "# left join the sum and count\n",
    "countryjoined= hotelcountrycount.merge(hotelcountrysum, on='country', how='left')\n",
    "# finding the percentage of each label in a country\n",
    "countryjoined['percentage'] = countryjoined.apply(lambda x: x['count_cancelled']/x['sum'], axis=1)\n",
    "# remove all countires whose majority label is less than 80%\n",
    "countryjoined = countryjoined[countryjoined['percentage'] > 0.8]\n",
    "# remove all countries whose sum is less than 5000\n",
    "countryjoined= countryjoined[countryjoined['sum'] > 5000]"
   ]
  },
  {
   "cell_type": "code",
   "execution_count": 15,
   "metadata": {},
   "outputs": [
    {
     "data": {
      "text/html": [
       "<div>\n",
       "<style scoped>\n",
       "    .dataframe tbody tr th:only-of-type {\n",
       "        vertical-align: middle;\n",
       "    }\n",
       "\n",
       "    .dataframe tbody tr th {\n",
       "        vertical-align: top;\n",
       "    }\n",
       "\n",
       "    .dataframe thead th {\n",
       "        text-align: right;\n",
       "    }\n",
       "</style>\n",
       "<table border=\"1\" class=\"dataframe\">\n",
       "  <thead>\n",
       "    <tr style=\"text-align: right;\">\n",
       "      <th></th>\n",
       "      <th>country</th>\n",
       "      <th>is_canceled</th>\n",
       "      <th>count_cancelled</th>\n",
       "      <th>sum</th>\n",
       "      <th>percentage</th>\n",
       "    </tr>\n",
       "  </thead>\n",
       "  <tbody>\n",
       "    <tr>\n",
       "      <td>69</td>\n",
       "      <td>DEU</td>\n",
       "      <td>0</td>\n",
       "      <td>6069</td>\n",
       "      <td>7287</td>\n",
       "      <td>0.832853</td>\n",
       "    </tr>\n",
       "    <tr>\n",
       "      <td>92</td>\n",
       "      <td>FRA</td>\n",
       "      <td>0</td>\n",
       "      <td>8481</td>\n",
       "      <td>10415</td>\n",
       "      <td>0.814306</td>\n",
       "    </tr>\n",
       "  </tbody>\n",
       "</table>\n",
       "</div>"
      ],
      "text/plain": [
       "   country  is_canceled  count_cancelled    sum  percentage\n",
       "69     DEU            0             6069   7287    0.832853\n",
       "92     FRA            0             8481  10415    0.814306"
      ]
     },
     "execution_count": 15,
     "metadata": {},
     "output_type": "execute_result"
    }
   ],
   "source": [
    "# most predictive countries. With >80% majority label and more than 5000 entries\n",
    "countryjoined"
   ]
  },
  {
   "cell_type": "code",
   "execution_count": 16,
   "metadata": {},
   "outputs": [],
   "source": [
    "# FRA and DEU are the most predictive countries so they would be the dummy variables\n",
    "hotel['country_is_FRA'] = hotel['country'].apply(lambda x: 1 if x == 'FRA' else 0)\n",
    "hotel['country_is_DEU'] = hotel['country'].apply(lambda x: 1 if x == 'DEU' else 0)\n",
    "hotel['country_is_other'] = hotel['country'].apply(lambda x: 1 if (x != 'DEU' and x!='FRA') else 0)"
   ]
  },
  {
   "cell_type": "code",
   "execution_count": 20,
   "metadata": {},
   "outputs": [],
   "source": [
    "market_segment_dummy = pd.get_dummies(hotel['market_segment'],prefix ='market_segment')"
   ]
  },
  {
   "cell_type": "code",
   "execution_count": 21,
   "metadata": {},
   "outputs": [],
   "source": [
    "distribution_channel_dummy = pd.get_dummies(hotel['distribution_channel'],prefix ='distribution_channel')"
   ]
  },
  {
   "cell_type": "code",
   "execution_count": 22,
   "metadata": {},
   "outputs": [],
   "source": [
    "hotel = pd.concat([hotel,distribution_channel_dummy,market_segment_dummy,mealdummy],axis=1,sort=True)"
   ]
  },
  {
   "cell_type": "markdown",
   "metadata": {},
   "source": [
    "### Handle numerical features"
   ]
  },
  {
   "cell_type": "code",
   "execution_count": 23,
   "metadata": {},
   "outputs": [],
   "source": [
    "from sklearn import preprocessing"
   ]
  },
  {
   "cell_type": "code",
   "execution_count": 24,
   "metadata": {},
   "outputs": [
    {
     "data": {
      "text/plain": [
       "1.3465498727254268"
      ]
     },
     "execution_count": 24,
     "metadata": {},
     "output_type": "execute_result"
    }
   ],
   "source": [
    "# lead time\n",
    "hotel['lead_time'].skew()"
   ]
  },
  {
   "cell_type": "code",
   "execution_count": 26,
   "metadata": {},
   "outputs": [
    {
     "data": {
      "text/plain": [
       "-0.903993835862541"
      ]
     },
     "execution_count": 26,
     "metadata": {},
     "output_type": "execute_result"
    }
   ],
   "source": [
    "hotel['log_lead'] = hotel['lead_time'].map(lambda i: np.log(i) if i > 0 else 0)\n",
    "hotel['log_lead'].skew()"
   ]
  },
  {
   "cell_type": "markdown",
   "metadata": {},
   "source": [
    "Perform `log( )` function on each lead time to scale the data.\n",
    "#### After outliers handling"
   ]
  },
  {
   "cell_type": "code",
   "execution_count": 27,
   "metadata": {},
   "outputs": [
    {
     "data": {
      "text/plain": [
       "<matplotlib.axes._subplots.AxesSubplot at 0x121cd9c50>"
      ]
     },
     "execution_count": 27,
     "metadata": {},
     "output_type": "execute_result"
    },
    {
     "data": {
      "image/png": "[encoded data removed]",
      "text/plain": [
       "<Figure size 1440x720 with 1 Axes>"
      ]
     },
     "metadata": {
      "needs_background": "light"
     },
     "output_type": "display_data"
    }
   ],
   "source": [
    "plt.figure(figsize = (20,10))\n",
    "sns.boxplot(hotel['log_lead'])"
   ]
  },
  {
   "cell_type": "code",
   "execution_count": 28,
   "metadata": {},
   "outputs": [],
   "source": [
    "# stays_in_weekend_nights\n",
    "hotel['stays_in_weekend_nights'] = np.where(hotel['stays_in_weekend_nights'] > 5, 5, hotel['stays_in_weekend_nights'])"
   ]
  },
  {
   "cell_type": "markdown",
   "metadata": {},
   "source": [
    "Data clipping: for each `stays_in_weekend_nights`, if it is larger than 5, change it to 5.\n",
    "#### After outliers handling:"
   ]
  },
  {
   "cell_type": "code",
   "execution_count": 29,
   "metadata": {},
   "outputs": [
    {
     "data": {
      "text/plain": [
       "<matplotlib.axes._subplots.AxesSubplot at 0x121cd9410>"
      ]
     },
     "execution_count": 29,
     "metadata": {},
     "output_type": "execute_result"
    },
    {
     "data": {
      "image/png": "[encoded data removed]",
      "text/plain": [
       "<Figure size 1440x720 with 1 Axes>"
      ]
     },
     "metadata": {
      "needs_background": "light"
     },
     "output_type": "display_data"
    }
   ],
   "source": [
    "plt.figure(figsize = (20,10))\n",
    "sns.boxplot(hotel['stays_in_weekend_nights'])"
   ]
  },
  {
   "cell_type": "code",
   "execution_count": 30,
   "metadata": {},
   "outputs": [
    {
     "data": {
      "text/plain": [
       "<matplotlib.axes._subplots.AxesSubplot at 0x1a249baf90>"
      ]
     },
     "execution_count": 30,
     "metadata": {},
     "output_type": "execute_result"
    },
    {
     "data": {
      "image/png": "[encoded data removed]",
      "text/plain": [
       "<Figure size 1440x720 with 1 Axes>"
      ]
     },
     "metadata": {
      "needs_background": "light"
     },
     "output_type": "display_data"
    }
   ],
   "source": [
    "plt.figure(figsize = (20,10))\n",
    "sns.countplot(hotel['stays_in_weekend_nights'])"
   ]
  },
  {
   "cell_type": "code",
   "execution_count": 31,
   "metadata": {},
   "outputs": [],
   "source": [
    "# stays_in_week_nights\n",
    "hotel['stays_in_week_nights'] = np.where(hotel['stays_in_week_nights'] > 10, 10, hotel['stays_in_week_nights'])"
   ]
  },
  {
   "cell_type": "markdown",
   "metadata": {},
   "source": [
    "Data clipping: for each `stays_in_weekend_nights`, if it is larger than 5, change it to 5.\n",
    "#### After outliers handling:"
   ]
  },
  {
   "cell_type": "code",
   "execution_count": 66,
   "metadata": {},
   "outputs": [
    {
     "data": {
      "text/plain": [
       "<matplotlib.axes._subplots.AxesSubplot at 0x1a31d89250>"
      ]
     },
     "execution_count": 66,
     "metadata": {},
     "output_type": "execute_result"
    },
    {
     "data": {
      "image/png": "[encoded data removed]",
      "text/plain": [
       "<Figure size 1440x720 with 1 Axes>"
      ]
     },
     "metadata": {
      "needs_background": "light"
     },
     "output_type": "display_data"
    }
   ],
   "source": [
    "plt.figure(figsize = (20,10))\n",
    "sns.boxplot(hotel['stays_in_week_nights'])"
   ]
  },
  {
   "cell_type": "code",
   "execution_count": 32,
   "metadata": {},
   "outputs": [
    {
     "data": {
      "text/plain": [
       "<matplotlib.axes._subplots.AxesSubplot at 0x1a24a4c9d0>"
      ]
     },
     "execution_count": 32,
     "metadata": {},
     "output_type": "execute_result"
    },
    {
     "data": {
      "image/png": "[encoded data removed]",
      "text/plain": [
       "<Figure size 1440x720 with 1 Axes>"
      ]
     },
     "metadata": {
      "needs_background": "light"
     },
     "output_type": "display_data"
    }
   ],
   "source": [
    "plt.figure(figsize = (20,10))\n",
    "sns.countplot(hotel['stays_in_week_nights'])"
   ]
  },
  {
   "cell_type": "code",
   "execution_count": 33,
   "metadata": {},
   "outputs": [],
   "source": [
    "# create a column indicates the total nights each customers stay\n",
    "hotel['stays_in_total_nights'] = hotel['stays_in_weekend_nights'] + hotel['stays_in_week_nights']"
   ]
  },
  {
   "cell_type": "code",
   "execution_count": 34,
   "metadata": {},
   "outputs": [
    {
     "data": {
      "text/plain": [
       "<matplotlib.axes._subplots.AxesSubplot at 0x1a24939d10>"
      ]
     },
     "execution_count": 34,
     "metadata": {},
     "output_type": "execute_result"
    },
    {
     "data": {
      "image/png": "[encoded data removed]",
      "text/plain": [
       "<Figure size 1440x720 with 1 Axes>"
      ]
     },
     "metadata": {
      "needs_background": "light"
     },
     "output_type": "display_data"
    }
   ],
   "source": [
    "plt.figure(figsize = (20,10))\n",
    "sns.countplot(hotel['stays_in_total_nights'])"
   ]
  },
  {
   "cell_type": "markdown",
   "metadata": {},
   "source": [
    "#### Normalization"
   ]
  },
  {
   "cell_type": "code",
   "execution_count": 35,
   "metadata": {},
   "outputs": [
    {
     "data": {
      "text/plain": [
       "0         0.464043\n",
       "1         1.000000\n",
       "2         0.009498\n",
       "3         0.017639\n",
       "4         0.018996\n",
       "            ...   \n",
       "119385    0.031208\n",
       "119386    0.138399\n",
       "119387    0.046133\n",
       "119388    0.147897\n",
       "119389    0.278155\n",
       "Name: lead_time_minmax, Length: 119390, dtype: float64"
      ]
     },
     "execution_count": 35,
     "metadata": {},
     "output_type": "execute_result"
    }
   ],
   "source": [
    "minmax_scaler = preprocessing.MinMaxScaler().fit(hotel[['lead_time']])\n",
    "hotel['lead_time_minmax']=minmax_scaler.transform(hotel[['lead_time']])\n",
    "hotel['lead_time_minmax']"
   ]
  },
  {
   "cell_type": "code",
   "execution_count": 36,
   "metadata": {},
   "outputs": [
    {
     "data": {
      "text/plain": [
       "0         0.0\n",
       "1         0.0\n",
       "2         0.0\n",
       "3         0.0\n",
       "4         0.0\n",
       "         ... \n",
       "119385    0.4\n",
       "119386    0.4\n",
       "119387    0.4\n",
       "119388    0.4\n",
       "119389    0.4\n",
       "Name: stays_in_weekend_nights_minmax, Length: 119390, dtype: float64"
      ]
     },
     "execution_count": 36,
     "metadata": {},
     "output_type": "execute_result"
    }
   ],
   "source": [
    "minmax_scaler = preprocessing.MinMaxScaler().fit(hotel[['stays_in_weekend_nights']])\n",
    "hotel['stays_in_weekend_nights_minmax']=minmax_scaler.transform(hotel[['stays_in_weekend_nights']])\n",
    "hotel['stays_in_weekend_nights_minmax']"
   ]
  },
  {
   "cell_type": "code",
   "execution_count": 37,
   "metadata": {},
   "outputs": [
    {
     "data": {
      "text/plain": [
       "0         0.0\n",
       "1         0.0\n",
       "2         0.1\n",
       "3         0.1\n",
       "4         0.2\n",
       "         ... \n",
       "119385    0.5\n",
       "119386    0.5\n",
       "119387    0.5\n",
       "119388    0.5\n",
       "119389    0.7\n",
       "Name: stays_in_week_nights_minmax, Length: 119390, dtype: float64"
      ]
     },
     "execution_count": 37,
     "metadata": {},
     "output_type": "execute_result"
    }
   ],
   "source": [
    "minmax_scaler = preprocessing.MinMaxScaler().fit(hotel[['stays_in_week_nights']])\n",
    "hotel['stays_in_week_nights_minmax']=minmax_scaler.transform(hotel[['stays_in_week_nights']])\n",
    "hotel['stays_in_week_nights_minmax']"
   ]
  },
  {
   "cell_type": "code",
   "execution_count": 38,
   "metadata": {},
   "outputs": [
    {
     "data": {
      "text/plain": [
       "0         0.036364\n",
       "1         0.036364\n",
       "2         0.018182\n",
       "3         0.018182\n",
       "4         0.036364\n",
       "            ...   \n",
       "119385    0.036364\n",
       "119386    0.054545\n",
       "119387    0.036364\n",
       "119388    0.036364\n",
       "119389    0.036364\n",
       "Name: adults_minmax, Length: 119390, dtype: float64"
      ]
     },
     "execution_count": 38,
     "metadata": {},
     "output_type": "execute_result"
    }
   ],
   "source": [
    "minmax_scaler = preprocessing.MinMaxScaler().fit(hotel[['adults']])\n",
    "hotel['adults_minmax']=minmax_scaler.transform(hotel[['adults']])\n",
    "hotel['adults_minmax']"
   ]
  },
  {
   "cell_type": "code",
   "execution_count": 39,
   "metadata": {},
   "outputs": [
    {
     "data": {
      "text/plain": [
       "0         0.0\n",
       "1         0.0\n",
       "2         0.0\n",
       "3         0.0\n",
       "4         0.0\n",
       "         ... \n",
       "119385    0.0\n",
       "119386    0.0\n",
       "119387    0.0\n",
       "119388    0.0\n",
       "119389    0.0\n",
       "Name: children_minmax, Length: 119390, dtype: float64"
      ]
     },
     "execution_count": 39,
     "metadata": {},
     "output_type": "execute_result"
    }
   ],
   "source": [
    "minmax_scaler = preprocessing.MinMaxScaler().fit(hotel[['children']])\n",
    "hotel['children_minmax']=minmax_scaler.transform(hotel[['children']])\n",
    "hotel['children_minmax']"
   ]
  },
  {
   "cell_type": "code",
   "execution_count": 40,
   "metadata": {},
   "outputs": [
    {
     "data": {
      "text/plain": [
       "0         0.0\n",
       "1         0.0\n",
       "2         0.0\n",
       "3         0.0\n",
       "4         0.0\n",
       "         ... \n",
       "119385    0.0\n",
       "119386    0.0\n",
       "119387    0.0\n",
       "119388    0.0\n",
       "119389    0.0\n",
       "Name: babies_minmax, Length: 119390, dtype: float64"
      ]
     },
     "execution_count": 40,
     "metadata": {},
     "output_type": "execute_result"
    }
   ],
   "source": [
    "minmax_scaler = preprocessing.MinMaxScaler().fit(hotel[['babies']])\n",
    "hotel['babies_minmax']=minmax_scaler.transform(hotel[['babies']])\n",
    "hotel['babies_minmax']"
   ]
  },
  {
   "cell_type": "code",
   "execution_count": null,
   "metadata": {},
   "outputs": [],
   "source": []
  },
  {
   "cell_type": "markdown",
   "metadata": {},
   "source": [
    "### Dropping out unrelated features"
   ]
  },
  {
   "cell_type": "code",
   "execution_count": 41,
   "metadata": {},
   "outputs": [],
   "source": [
    "# drop out 'arrival_date_day_of_month' since it looks random\n",
    "delete_columns = ['arrival_date_day_of_month',\n",
    "                  'distribution_channel',\n",
    "                  'market_segment',\n",
    "                  'customer_type',\n",
    "                  'country',\n",
    "                  'reservation_status',\n",
    "                  'reservation_status_date']\n",
    "\n",
    "hoteldrop = hotel.drop(columns=delete_columns)"
   ]
  },
  {
   "cell_type": "code",
   "execution_count": 42,
   "metadata": {},
   "outputs": [
    {
     "name": "stdout",
     "output_type": "stream",
     "text": [
      "<class 'pandas.core.frame.DataFrame'>\n",
      "Int64Index: 119390 entries, 0 to 119389\n",
      "Data columns (total 59 columns):\n",
      "Unnamed: 0                        119390 non-null int64\n",
      "hotel                             119390 non-null int64\n",
      "is_canceled                       119390 non-null int64\n",
      "lead_time                         119390 non-null int64\n",
      "arrival_date_year                 119390 non-null int64\n",
      "arrival_date_month                119390 non-null int64\n",
      "arrival_date_week_number          119390 non-null int64\n",
      "stays_in_weekend_nights           119390 non-null int64\n",
      "stays_in_week_nights              119390 non-null int64\n",
      "adults                            119390 non-null int64\n",
      "children                          119390 non-null int64\n",
      "babies                            119390 non-null int64\n",
      "meal                              119390 non-null object\n",
      "is_repeated_guest                 119390 non-null int64\n",
      "previous_cancellations            119390 non-null int64\n",
      "previous_bookings_not_canceled    119390 non-null int64\n",
      "reserved_room_type                119390 non-null object\n",
      "assigned_room_type                119390 non-null object\n",
      "booking_changes                   119390 non-null int64\n",
      "deposit_type                      119390 non-null object\n",
      "agent                             103050 non-null float64\n",
      "company                           6797 non-null float64\n",
      "days_in_waiting_list              119390 non-null int64\n",
      "adr                               119390 non-null float64\n",
      "required_car_parking_spaces       119390 non-null int64\n",
      "total_of_special_requests         119390 non-null int64\n",
      "fall                              119390 non-null uint8\n",
      "spring                            119390 non-null uint8\n",
      "summer                            119390 non-null uint8\n",
      "winter                            119390 non-null uint8\n",
      "country_is_FRA                    119390 non-null int64\n",
      "country_is_DEU                    119390 non-null int64\n",
      "country_is_other                  119390 non-null int64\n",
      "distribution_channel_Corporate    119390 non-null uint8\n",
      "distribution_channel_Direct       119390 non-null uint8\n",
      "distribution_channel_GDS          119390 non-null uint8\n",
      "distribution_channel_TA/TO        119390 non-null uint8\n",
      "distribution_channel_Undefined    119390 non-null uint8\n",
      "market_segment_Aviation           119390 non-null uint8\n",
      "market_segment_Complementary      119390 non-null uint8\n",
      "market_segment_Corporate          119390 non-null uint8\n",
      "market_segment_Direct             119390 non-null uint8\n",
      "market_segment_Groups             119390 non-null uint8\n",
      "market_segment_Offline TA/TO      119390 non-null uint8\n",
      "market_segment_Online TA          119390 non-null uint8\n",
      "market_segment_Undefined          119390 non-null uint8\n",
      "meal_BB                           119390 non-null uint8\n",
      "meal_FB                           119390 non-null uint8\n",
      "meal_HB                           119390 non-null uint8\n",
      "meal_SC                           119390 non-null uint8\n",
      "meal_Undefined                    119390 non-null uint8\n",
      "log_lead                          119390 non-null float64\n",
      "stays_in_total_nights             119390 non-null int64\n",
      "lead_time_minmax                  119390 non-null float64\n",
      "stays_in_weekend_nights_minmax    119390 non-null float64\n",
      "stays_in_week_nights_minmax       119390 non-null float64\n",
      "adults_minmax                     119390 non-null float64\n",
      "children_minmax                   119390 non-null float64\n",
      "babies_minmax                     119390 non-null float64\n",
      "dtypes: float64(10), int64(23), object(4), uint8(22)\n",
      "memory usage: 42.1+ MB\n"
     ]
    }
   ],
   "source": [
    "hoteldrop.info()"
   ]
  },
  {
   "cell_type": "code",
   "execution_count": 43,
   "metadata": {},
   "outputs": [],
   "source": [
    "# export the clean dataset to a new csv file\n",
    "hoteldrop.to_csv(\"clean_dataset.csv\")"
   ]
  },
  {
   "cell_type": "markdown",
   "metadata": {},
   "source": [
    "## Correlations (after feature engineering)"
   ]
  },
  {
   "cell_type": "code",
   "execution_count": null,
   "metadata": {},
   "outputs": [],
   "source": [
    "# look at the correlations among columns\n",
    "data = dataset.copy()\n",
    "data.corr()"
   ]
  },
  {
   "cell_type": "code",
   "execution_count": null,
   "metadata": {},
   "outputs": [],
   "source": [
    "# look at the correlations with is_canceled\n",
    "data.corr()['is_canceled'].sort_values()"
   ]
  },
  {
   "cell_type": "code",
   "execution_count": null,
   "metadata": {},
   "outputs": [],
   "source": []
  }
 ],
 "metadata": {
  "kernelspec": {
   "display_name": "Python 3",
   "language": "python",
   "name": "python3"
  },
  "language_info": {
   "codemirror_mode": {
    "name": "ipython",
    "version": 3
   },
   "file_extension": ".py",
   "mimetype": "text/x-python",
   "name": "python",
   "nbconvert_exporter": "python",
   "pygments_lexer": "ipython3",
   "version": "3.7.4"
  }
 },
 "nbformat": 4,
 "nbformat_minor": 2
}
