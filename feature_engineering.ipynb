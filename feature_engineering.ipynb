{
 "cells": [
  {
   "cell_type": "markdown",
   "metadata": {},
   "source": [
    "# Feature Engineering"
   ]
  },
  {
   "cell_type": "code",
   "execution_count": null,
   "metadata": {},
   "outputs": [],
   "source": [
    "# import library\n",
    "import numpy as np \n",
    "import pandas as pd \n",
    "\n",
    "import seaborn as sns\n",
    "import matplotlib.pyplot as plt\n",
    "%matplotlib inline\n",
    "sns.set(style='darkgrid')"
   ]
  },
  {
   "cell_type": "code",
   "execution_count": null,
   "metadata": {},
   "outputs": [],
   "source": [
    "# load data\n",
    "hotel = pd.read_csv('hotel_bookings_no_missing.csv',index_col='Unnamed: 0')"
   ]
  },
  {
   "cell_type": "markdown",
   "metadata": {},
   "source": [
    "## Feature Engineering"
   ]
  },
  {
   "cell_type": "code",
   "execution_count": null,
   "metadata": {},
   "outputs": [],
   "source": [
    "# to check the feature types\n",
    "hotel.dtypes"
   ]
  },
  {
   "cell_type": "markdown",
   "metadata": {},
   "source": [
    "## Handling categorical features"
   ]
  },
  {
   "cell_type": "code",
   "execution_count": null,
   "metadata": {},
   "outputs": [],
   "source": [
    "# change hotels to 0 and 1 (City Hotel: 1, Resort Hotel: 0)\n",
    "hotel['hotel'] = hotel.hotel.replace(['Resort Hotel','City Hotel'],[0,1])"
   ]
  },
  {
   "cell_type": "code",
   "execution_count": null,
   "metadata": {},
   "outputs": [],
   "source": [
    "# create one-hot variavles for years\n",
    "year_dummy = pd.get_dummies(hotel['arrival_date_year'])"
   ]
  },
  {
   "cell_type": "code",
   "execution_count": null,
   "metadata": {},
   "outputs": [],
   "source": [
    "month=['January', 'February', 'March', 'April', 'May', 'June', 'July', \n",
    "       'August', 'September', 'October', 'November', 'December']\n",
    "# change arrival date month to 1 to 12\n",
    "hotel['arrival_date_month'] = hotel.arrival_date_month.replace(month,np.arange(1,13))\n",
    "\n",
    "# group months into seasons\n",
    "spring = [3,4,5]\n",
    "summer = [6,7,8]\n",
    "fall = [9,10,11]\n",
    "winter = [1,2,12]\n",
    "hotel['seasons'] = hotel['arrival_date_month'].map(lambda i: \"spring\" if i in spring \n",
    "                                                   else \"summer\" if i in summer \n",
    "                                                   else \"fall\" if i in fall \n",
    "                                                   else \"winter\")\n",
    "\n",
    "# bar chart for seasons\n",
    "plt.figure(figsize=(20,10))\n",
    "seasons = ['spring','summer','fall','winter']\n",
    "sns.countplot(x = 'seasons', hue = 'is_canceled', data=hotel, order=seasons)"
   ]
  },
  {
   "cell_type": "code",
   "execution_count": null,
   "metadata": {},
   "outputs": [],
   "source": [
    "# create one-hot variavles for seasons\n",
    "season_dummy = pd.get_dummies(hotel['seasons'])"
   ]
  },
  {
   "cell_type": "code",
   "execution_count": null,
   "metadata": {},
   "outputs": [],
   "source": [
    "# create one-hot variavles for meal\n",
    "meal_dummy = pd.get_dummies(hotel['meal'],prefix ='meal')"
   ]
  },
  {
   "cell_type": "code",
   "execution_count": null,
   "metadata": {},
   "outputs": [],
   "source": [
    "# Finding the most predictive country with >80% majority label and more than 5000 entries\n",
    "\n",
    "# Groupby country and find how many cancelled and not cancelled each country has\n",
    "country_count = hotel.groupby(['country','is_canceled'])['is_canceled'].size().reset_index(name='count_cancelled')\n",
    "# hotelcountrysum= hotel.groupby('country')['is_canceled'].agg(pd.Series.sum).reset_index(name='sum') \n",
    "country_sum = hotel.groupby('country')['is_canceled'].count().reset_index(name='sum')\n",
    "# left join the sum and count\n",
    "country_joined= country_count.merge(country_sum, on='country', how='left')\n",
    "# finding the percentage of each label in a country\n",
    "country_joined['percentage'] = country_joined.apply(lambda x: x['count_cancelled']/x['sum'], axis=1)\n",
    "# remove all countires whose majority label is less than 80%\n",
    "country_joined = country_joined[country_joined['percentage'] > 0.8]\n",
    "# remove all countries whose sum is less than 5000\n",
    "country_joined = country_joined[country_joined['sum'] > 5000]\n",
    "\n",
    "# most predictive countries. With >80% majority label and more than 5000 entries\n",
    "country_joined"
   ]
  },
  {
   "cell_type": "code",
   "execution_count": null,
   "metadata": {},
   "outputs": [],
   "source": [
    "# FRA and DEU are the most predictive countries so they would be the dummy variables\n",
    "hotel['country_is_FRA'] = hotel['country'].apply(lambda x: 1 if x == 'FRA' else 0)\n",
    "hotel['country_is_DEU'] = hotel['country'].apply(lambda x: 1 if x == 'DEU' else 0)\n",
    "hotel['country_is_other'] = hotel['country'].apply(lambda x: 1 if (x != 'DEU' and x!='FRA') else 0)"
   ]
  },
  {
   "cell_type": "code",
   "execution_count": null,
   "metadata": {},
   "outputs": [],
   "source": [
    "# create one-hot variavles for market_segment\n",
    "market_segment_dummy = pd.get_dummies(hotel['market_segment'],prefix ='market_segment')"
   ]
  },
  {
   "cell_type": "code",
   "execution_count": null,
   "metadata": {},
   "outputs": [],
   "source": [
    "# create one-hot variavles for distribution_channel\n",
    "distribution_channel_dummy = pd.get_dummies(hotel['distribution_channel'],prefix ='distribution_channel')"
   ]
  },
  {
   "cell_type": "code",
   "execution_count": null,
   "metadata": {},
   "outputs": [],
   "source": [
    "# create one-hot variavles for deposit_type\n",
    "deposit_type_dummy = pd.get_dummies(hotel['deposit_type'],prefix='deposit_type')"
   ]
  },
  {
   "cell_type": "code",
   "execution_count": null,
   "metadata": {},
   "outputs": [],
   "source": [
    "# Hypothesis: If reserved room type matches assigned room type, i.e. reserved_assigned_room_type_match = 1, it is more likely for the customer to NOT cancel the booking.\n",
    "# check to see if reserved room type matches assigned room type\n",
    "hotel['reserved_assigned_room_type_match'] = (hotel['reserved_room_type'] == hotel['assigned_room_type'])\n",
    "match_dummy = pd.get_dummies(hotel['reserved_assigned_room_type_match'],prefix ='reserved_assigned_room_type_match')\n",
    "hotel['reserved_assigned_room_type_match'] = match_dummy['reserved_assigned_room_type_match_True']"
   ]
  },
  {
   "cell_type": "code",
   "execution_count": null,
   "metadata": {},
   "outputs": [],
   "source": [
    "# create one-hot variavles for customer_type\n",
    "cus_type_dummy = pd.get_dummies(hotel['customer_type'],prefix ='customer_type')"
   ]
  },
  {
   "cell_type": "code",
   "execution_count": null,
   "metadata": {},
   "outputs": [],
   "source": [
    "# adding dummy variables into the dataset\n",
    "hotel = pd.concat([hotel,\n",
    "                   year_dummy,\n",
    "                   season_dummy,\n",
    "                   distribution_channel_dummy,\n",
    "                   market_segment_dummy,\n",
    "                   meal_dummy,\n",
    "                   deposit_type_dummy,\n",
    "                   cus_type_dummy\n",
    "                  ],\n",
    "                  axis=1,sort=True)"
   ]
  },
  {
   "cell_type": "code",
   "execution_count": null,
   "metadata": {},
   "outputs": [],
   "source": [
    "# feature - agent\n",
    "hotel.groupby('is_canceled')['agent'].value_counts()\n",
    "\n",
    "# Group by is_canceled and find the most frequent agent for each is_canceled\n",
    "hotel.groupby('is_canceled')['agent'].agg(pd.Series.mode)\n",
    "\n",
    "# Groupby agent and find how many cancelled and not cancelled each agent has\n",
    "hotelAgentCount = hotel.groupby(['agent','is_canceled'])['is_canceled'].size().reset_index(name='count_cancelled')\n",
    "hotelAgentSum = hotel.groupby('agent')['is_canceled'].count().reset_index(name='sum')\n",
    "# left join the sum and count\n",
    "hotelAgentJoined= hotelAgentCount.merge(hotelAgentSum, on='agent', how='left')\n",
    "\n",
    "# finding the percentage of each label in an agent\n",
    "hotelAgentJoined['percentage'] = hotelAgentJoined.apply(lambda x: x['count_cancelled']/x['sum'], axis=1)\n",
    "\n",
    "# all agents whose majority label is more than 80% and sum is more than 3000\n",
    "hotelAgentJoined80 = hotelAgentJoined[hotelAgentJoined['percentage'] > 0.8]\n",
    "hotelAgentJoined3000 = hotelAgentJoined80[hotelAgentJoined80['sum'] > 3000]\n",
    "hotelAgentJoined3000"
   ]
  },
  {
   "cell_type": "code",
   "execution_count": null,
   "metadata": {},
   "outputs": [],
   "source": [
    "# agent 7 and 14 are the most predictive agents so they would be the dummy variables\n",
    "hotel['agent_14'] = hotel['agent'].apply(lambda x: 1 if x == 14.0 else 0)\n",
    "hotel['agent_7'] = hotel['agent'].apply(lambda x: 1 if x == 7.0 else 0)\n",
    "hotel['agent_is_other'] = hotel['agent'].apply(lambda x: 1 if (x != 14.0 and x!=7.0) else 0)"
   ]
  },
  {
   "cell_type": "code",
   "execution_count": null,
   "metadata": {},
   "outputs": [],
   "source": [
    "sns.barplot(x='agent_14',y='is_canceled',data=hotel)"
   ]
  },
  {
   "cell_type": "code",
   "execution_count": null,
   "metadata": {},
   "outputs": [],
   "source": [
    "sns.barplot(x='agent_7',y='is_canceled',data=hotel)"
   ]
  },
  {
   "cell_type": "code",
   "execution_count": null,
   "metadata": {},
   "outputs": [],
   "source": [
    "sns.barplot(x='agent_is_other',y='is_canceled',data=hotel)"
   ]
  },
  {
   "cell_type": "markdown",
   "metadata": {},
   "source": [
    "## Handling numerical features"
   ]
  },
  {
   "cell_type": "code",
   "execution_count": null,
   "metadata": {},
   "outputs": [],
   "source": [
    "from sklearn import preprocessing"
   ]
  },
  {
   "cell_type": "markdown",
   "metadata": {},
   "source": [
    "**lead_time**"
   ]
  },
  {
   "cell_type": "code",
   "execution_count": null,
   "metadata": {},
   "outputs": [],
   "source": [
    "hotel['lead_time'].skew()"
   ]
  },
  {
   "cell_type": "code",
   "execution_count": null,
   "metadata": {},
   "outputs": [],
   "source": [
    "hotel['log_lead'] = hotel['lead_time'].map(lambda i: np.log(i) if i > 0 else 0)\n",
    "hotel['log_lead'].skew()"
   ]
  },
  {
   "cell_type": "markdown",
   "metadata": {},
   "source": [
    "Perform `log( )` function on each lead time to scale the data.  \n",
    "After outliers handling:"
   ]
  },
  {
   "cell_type": "code",
   "execution_count": null,
   "metadata": {},
   "outputs": [],
   "source": [
    "plt.figure(figsize = (20,10))\n",
    "sns.boxplot(hotel['log_lead'])"
   ]
  },
  {
   "cell_type": "markdown",
   "metadata": {},
   "source": [
    "**stays_in_weekend_nights**"
   ]
  },
  {
   "cell_type": "code",
   "execution_count": null,
   "metadata": {},
   "outputs": [],
   "source": [
    "hotel['stays_in_weekend_nights'] = np.where(hotel['stays_in_weekend_nights'] > 5, 5, hotel['stays_in_weekend_nights'])"
   ]
  },
  {
   "cell_type": "markdown",
   "metadata": {},
   "source": [
    "Data clipping: for each `stays_in_weekend_nights`, if it is larger than 5, change it to 5.  \n",
    "After outliers handling:"
   ]
  },
  {
   "cell_type": "code",
   "execution_count": null,
   "metadata": {},
   "outputs": [],
   "source": [
    "plt.figure(figsize = (20,10))\n",
    "sns.boxplot(hotel['stays_in_weekend_nights'])"
   ]
  },
  {
   "cell_type": "code",
   "execution_count": null,
   "metadata": {},
   "outputs": [],
   "source": [
    "plt.figure(figsize = (20,10))\n",
    "sns.countplot(hotel['stays_in_weekend_nights'])"
   ]
  },
  {
   "cell_type": "markdown",
   "metadata": {},
   "source": [
    "**stays_in_week_nights**"
   ]
  },
  {
   "cell_type": "code",
   "execution_count": null,
   "metadata": {},
   "outputs": [],
   "source": [
    "hotel['stays_in_week_nights'] = np.where(hotel['stays_in_week_nights'] > 6, 6, hotel['stays_in_week_nights'])"
   ]
  },
  {
   "cell_type": "markdown",
   "metadata": {},
   "source": [
    "Data clipping: for each `stays_in_weekend_nights`, if it is larger than 5, change it to 5.  \n",
    "After outliers handling:"
   ]
  },
  {
   "cell_type": "code",
   "execution_count": null,
   "metadata": {},
   "outputs": [],
   "source": [
    "plt.figure(figsize = (20,10))\n",
    "sns.boxplot(hotel['stays_in_week_nights'])"
   ]
  },
  {
   "cell_type": "code",
   "execution_count": null,
   "metadata": {},
   "outputs": [],
   "source": [
    "plt.figure(figsize = (20,10))\n",
    "sns.countplot(hotel['stays_in_week_nights'])"
   ]
  },
  {
   "cell_type": "markdown",
   "metadata": {},
   "source": [
    "**stays_in_total_nights**"
   ]
  },
  {
   "cell_type": "code",
   "execution_count": null,
   "metadata": {},
   "outputs": [],
   "source": [
    "# create a column indicates the total nights each customers stay\n",
    "hotel['stays_in_total_nights'] = hotel['stays_in_weekend_nights'] + hotel['stays_in_week_nights']"
   ]
  },
  {
   "cell_type": "code",
   "execution_count": null,
   "metadata": {},
   "outputs": [],
   "source": [
    "plt.figure(figsize = (20,10))\n",
    "sns.countplot(hotel['stays_in_total_nights'])"
   ]
  },
  {
   "cell_type": "markdown",
   "metadata": {},
   "source": [
    "**adr**"
   ]
  },
  {
   "cell_type": "code",
   "execution_count": null,
   "metadata": {},
   "outputs": [],
   "source": [
    "mean_adr = hotel['adr'].mean()\n",
    "std_adr = hotel['adr'].std()\n",
    "hotel['adr'] = np.where(hotel['adr'] > (mean_adr+10*std_adr), mean_adr, hotel['adr'])"
   ]
  },
  {
   "cell_type": "markdown",
   "metadata": {},
   "source": [
    "Changing the outliers of `adr` to the data mean."
   ]
  },
  {
   "cell_type": "markdown",
   "metadata": {},
   "source": [
    "### Binning"
   ]
  },
  {
   "cell_type": "code",
   "execution_count": null,
   "metadata": {},
   "outputs": [],
   "source": [
    "# Put previous_cancellations into 4 categories\n",
    "cut_labels_4 = ['0','1-10', '11-20', '21+']\n",
    "cut_bins = [0, 0.1, 10, 20, 30]\n",
    "hotel['cut_previous_cancellations'] = pd.cut(hotel['previous_cancellations'], include_lowest=True, bins=cut_bins, labels=cut_labels_4)\n",
    "hotel.groupby('cut_previous_cancellations')['is_canceled'].value_counts()"
   ]
  },
  {
   "cell_type": "code",
   "execution_count": null,
   "metadata": {},
   "outputs": [],
   "source": [
    "sns.barplot(x='cut_previous_cancellations',y='is_canceled',data=hotel)"
   ]
  },
  {
   "cell_type": "code",
   "execution_count": null,
   "metadata": {},
   "outputs": [],
   "source": [
    "# Put previous_bookings_not_canceled into 5 categories\n",
    "cut_labels_5 = ['0','1-20', '21-40', '41-60', '60+']\n",
    "cut_bins_previous_bookings_not_canceled = [0, 0.1, 20, 40, 60, 81]\n",
    "hotel['cut_previous_bookings_not_canceled'] = pd.cut(hotel['previous_bookings_not_canceled'], include_lowest=True, bins=cut_bins_previous_bookings_not_canceled, labels=cut_labels_5)\n",
    "hotel.groupby('cut_previous_bookings_not_canceled')['is_canceled'].value_counts()"
   ]
  },
  {
   "cell_type": "code",
   "execution_count": null,
   "metadata": {},
   "outputs": [],
   "source": [
    "sns.barplot(x='cut_previous_bookings_not_canceled',y='is_canceled',data=hotel)"
   ]
  },
  {
   "cell_type": "code",
   "execution_count": null,
   "metadata": {},
   "outputs": [],
   "source": [
    "# Put booking_changes into 6 categories\n",
    "cut_labels_6 = ['0','1-5', '6-10', '11-15', '16-20','21+']\n",
    "cut_bins_booking_changes = [0, 0.1, 5, 10, 15, 20, 26]\n",
    "hotel['cut_booking_changes'] = pd.cut(hotel['booking_changes'], bins=cut_bins_booking_changes, include_lowest=True, labels=cut_labels_6)\n",
    "hotel.groupby('cut_booking_changes')['is_canceled'].value_counts()"
   ]
  },
  {
   "cell_type": "code",
   "execution_count": null,
   "metadata": {},
   "outputs": [],
   "source": [
    "sns.barplot(x='cut_booking_changes',y='is_canceled',data=hotel)"
   ]
  },
  {
   "cell_type": "markdown",
   "metadata": {},
   "source": [
    "### Normalization"
   ]
  },
  {
   "cell_type": "code",
   "execution_count": null,
   "metadata": {},
   "outputs": [],
   "source": [
    "# log_lead\n",
    "minmax_scaler = preprocessing.MinMaxScaler().fit(hotel[['log_lead']])\n",
    "hotel['log_lead_minmax']=minmax_scaler.transform(hotel[['log_lead']])\n",
    "\n",
    "# stays_in_weekend_nights\n",
    "minmax_scaler = preprocessing.MinMaxScaler().fit(hotel[['stays_in_weekend_nights']])\n",
    "hotel['stays_in_weekend_nights_minmax']=minmax_scaler.transform(hotel[['stays_in_weekend_nights']])\n",
    "\n",
    "# stays_in_week_nights\n",
    "minmax_scaler = preprocessing.MinMaxScaler().fit(hotel[['stays_in_week_nights']])\n",
    "hotel['stays_in_week_nights_minmax']=minmax_scaler.transform(hotel[['stays_in_week_nights']])\n",
    "\n",
    "# stays_in_total_nights\n",
    "minmax_scaler = preprocessing.MinMaxScaler().fit(hotel[['stays_in_total_nights']])\n",
    "hotel['stays_in_total_nights_minmax']=minmax_scaler.transform(hotel[['stays_in_total_nights']])\n",
    "\n",
    "# adults\n",
    "minmax_scaler = preprocessing.MinMaxScaler().fit(hotel[['adults']])\n",
    "hotel['adults_minmax']=minmax_scaler.transform(hotel[['adults']])\n",
    "\n",
    "# children\n",
    "minmax_scaler = preprocessing.MinMaxScaler().fit(hotel[['children']])\n",
    "hotel['children_minmax']=minmax_scaler.transform(hotel[['children']])\n",
    "\n",
    "# babies\n",
    "minmax_scaler = preprocessing.MinMaxScaler().fit(hotel[['babies']])\n",
    "hotel['babies_minmax']=minmax_scaler.transform(hotel[['babies']])\n",
    "\n",
    "# days_in_waiting_list\n",
    "minmax_scaler = preprocessing.MinMaxScaler().fit(hotel[['days_in_waiting_list']])\n",
    "hotel['days_in_waiting_list_minmax']=minmax_scaler.transform(hotel[['days_in_waiting_list']])\n",
    "\n",
    "# adr\n",
    "minmax_scaler = preprocessing.MinMaxScaler().fit(hotel[['adr']])\n",
    "hotel['adr_minmax']=minmax_scaler.transform(hotel[['adr']])\n",
    "\n",
    "# required_car_parking_spaces\n",
    "minmax_scaler = preprocessing.MinMaxScaler().fit(hotel[['required_car_parking_spaces']])\n",
    "hotel['required_car_parking_spaces_minmax']=minmax_scaler.transform(hotel[['required_car_parking_spaces']])\n",
    "\n",
    "# total_of_special_requests\n",
    "minmax_scaler = preprocessing.MinMaxScaler().fit(hotel[['total_of_special_requests']])\n",
    "hotel['total_of_special_requests_minmax']=minmax_scaler.transform(hotel[['total_of_special_requests']])\n"
   ]
  },
  {
   "cell_type": "markdown",
   "metadata": {},
   "source": [
    "### Dropping out features"
   ]
  },
  {
   "cell_type": "code",
   "execution_count": null,
   "metadata": {},
   "outputs": [],
   "source": [
    "# drop out 'arrival_date_day_of_month' since it looks random\n",
    "cat_delete_columns = ['arrival_date_year',\n",
    "                      'arrival_date_month',\n",
    "                      'meal',\n",
    "                      'seasons',\n",
    "                      'distribution_channel',\n",
    "                      'market_segment',\n",
    "                      'agent',\n",
    "                      'customer_type',\n",
    "                      'country',\n",
    "                      'deposit_type',\n",
    "                      'deposit_type_Refundable',\n",
    "                      'customer_type']\n",
    "\n",
    "num_delete_columns = ['lead_time',\n",
    "                      'stays_in_weekend_nights',\n",
    "                      'stays_in_week_nights',\n",
    "                      'stays_in_total_nights',\n",
    "                      'adults',\n",
    "                      'children',\n",
    "                      'babies',\n",
    "                      'previous_cancellations',\n",
    "                      'previous_bookings_not_canceled',\n",
    "                      'booking_changes',\n",
    "                      'days_in_waiting_list',\n",
    "                      'adr',\n",
    "                      'required_car_parking_spaces',\n",
    "                      'total_of_special_requests'\n",
    "                     ]\n",
    "\n",
    "delete_columns = cat_delete_columns + num_delete_columns\n",
    "\n",
    "hoteldrop = hotel.drop(columns=delete_columns)"
   ]
  },
  {
   "cell_type": "code",
   "execution_count": null,
   "metadata": {},
   "outputs": [],
   "source": [
    "hoteldrop.info()"
   ]
  },
  {
   "cell_type": "code",
   "execution_count": null,
   "metadata": {},
   "outputs": [],
   "source": [
    "# export the clean dataset to a new csv file\n",
    "hoteldrop.to_csv(\"clean_hotel_bookings.csv\")"
   ]
  },
  {
   "cell_type": "markdown",
   "metadata": {},
   "source": [
    "## Correlations (after feature engineering)"
   ]
  },
  {
   "cell_type": "code",
   "execution_count": null,
   "metadata": {},
   "outputs": [],
   "source": [
    "# look at the correlations among columns\n",
    "data = hoteldrop.copy()\n",
    "data.corr()"
   ]
  },
  {
   "cell_type": "code",
   "execution_count": null,
   "metadata": {},
   "outputs": [],
   "source": [
    "# look at the correlations with is_canceled\n",
    "data.corr()['is_canceled'].sort_values()"
   ]
  },
  {
   "cell_type": "code",
   "execution_count": null,
   "metadata": {},
   "outputs": [],
   "source": []
  }
 ],
 "metadata": {
  "kernelspec": {
   "display_name": "Python 3",
   "language": "python",
   "name": "python3"
  },
  "language_info": {
   "codemirror_mode": {
    "name": "ipython",
    "version": 3
   },
   "file_extension": ".py",
   "mimetype": "text/x-python",
   "name": "python",
   "nbconvert_exporter": "python",
   "pygments_lexer": "ipython3",
   "version": "3.7.4"
  }
 },
 "nbformat": 4,
 "nbformat_minor": 2
}
