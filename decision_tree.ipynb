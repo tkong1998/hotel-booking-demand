{
 "cells": [
  {
   "cell_type": "code",
   "execution_count": 1,
   "metadata": {},
   "outputs": [],
   "source": [
    "# import libraries\n",
    "import numpy as np\n",
    "import pandas as pd\n",
    "from sklearn import preprocessing\n",
    "from sklearn.tree import DecisionTreeClassifier\n",
    "from sklearn.feature_selection import RFE\n",
    "\n",
    "from sklearn.metrics import accuracy_score\n",
    "from sklearn.metrics import confusion_matrix\n",
    "from sklearn.metrics import classification_report\n",
    "from sklearn.model_selection import GridSearchCV\n",
    "from sklearn.model_selection import cross_val_score\n",
    "from sklearn.model_selection import cross_val_predict\n",
    "from sklearn.model_selection import train_test_split\n",
    "\n",
    "from sklearn.metrics import roc_curve, auc\n",
    "from sklearn import metrics\n",
    "\n",
    "from sklearn import tree\n",
    "import matplotlib.pyplot as plt"
   ]
  },
  {
   "cell_type": "code",
   "execution_count": 2,
   "metadata": {},
   "outputs": [
    {
     "name": "stderr",
     "output_type": "stream",
     "text": [
      "/Users/moniquekong/opt/anaconda3/lib/python3.7/site-packages/IPython/core/interactiveshell.py:3058: DtypeWarning: Columns (42,43) have mixed types. Specify dtype option on import or set low_memory=False.\n",
      "  interactivity=interactivity, compiler=compiler, result=result)\n"
     ]
    }
   ],
   "source": [
    "# read the dataset\n",
    "data = pd.read_csv(\"clean_hotel_bookings.csv\", index_col='Unnamed: 0')"
   ]
  },
  {
   "cell_type": "code",
   "execution_count": 3,
   "metadata": {},
   "outputs": [
    {
     "name": "stdout",
     "output_type": "stream",
     "text": [
      "<class 'pandas.core.frame.DataFrame'>\n",
      "Int64Index: 119390 entries, 0 to 119389\n",
      "Data columns (total 58 columns):\n",
      "hotel                                    119390 non-null int64\n",
      "is_canceled                              119390 non-null int64\n",
      "is_repeated_guest                        119390 non-null int64\n",
      "reserved_room_type                       119390 non-null object\n",
      "assigned_room_type                       119390 non-null object\n",
      "country_is_FRA                           119390 non-null int64\n",
      "country_is_DEU                           119390 non-null int64\n",
      "country_is_other                         119390 non-null int64\n",
      "reserved_assigned_room_type_match        119390 non-null int64\n",
      "fall                                     119390 non-null int64\n",
      "spring                                   119390 non-null int64\n",
      "summer                                   119390 non-null int64\n",
      "winter                                   119390 non-null int64\n",
      "distribution_channel_Corporate           119390 non-null int64\n",
      "distribution_channel_Direct              119390 non-null int64\n",
      "distribution_channel_GDS                 119390 non-null int64\n",
      "distribution_channel_TA/TO               119390 non-null int64\n",
      "distribution_channel_Undefined           119390 non-null int64\n",
      "market_segment_Aviation                  119390 non-null int64\n",
      "market_segment_Complementary             119390 non-null int64\n",
      "market_segment_Corporate                 119390 non-null int64\n",
      "market_segment_Direct                    119390 non-null int64\n",
      "market_segment_Groups                    119390 non-null int64\n",
      "market_segment_Offline TA/TO             119390 non-null int64\n",
      "market_segment_Online TA                 119390 non-null int64\n",
      "market_segment_Undefined                 119390 non-null int64\n",
      "meal_BB                                  119390 non-null int64\n",
      "meal_FB                                  119390 non-null int64\n",
      "meal_HB                                  119390 non-null int64\n",
      "meal_SC                                  119390 non-null int64\n",
      "meal_Undefined                           119390 non-null int64\n",
      "deposit_type_No Deposit                  119390 non-null int64\n",
      "deposit_type_Non Refund                  119390 non-null int64\n",
      "customer_type_Contract                   119390 non-null int64\n",
      "customer_type_Group                      119390 non-null int64\n",
      "customer_type_Transient                  119390 non-null int64\n",
      "customer_type_Transient-Party            119390 non-null int64\n",
      "agent_14                                 119390 non-null int64\n",
      "agent_7                                  119390 non-null int64\n",
      "agent_is_other                           119390 non-null int64\n",
      "log_lead                                 119390 non-null float64\n",
      "cut_previous_cancellations               119390 non-null object\n",
      "cut_previous_bookings_not_canceled       119390 non-null object\n",
      "cut_booking_changes                      119390 non-null object\n",
      "previous_cancellations_minmax            119390 non-null float64\n",
      "previous_bookings_not_canceled_minmax    119390 non-null float64\n",
      "booking_changes_minmax                   119390 non-null float64\n",
      "log_lead_minmax                          119390 non-null float64\n",
      "stays_in_weekend_nights_minmax           119390 non-null float64\n",
      "stays_in_week_nights_minmax              119390 non-null float64\n",
      "stays_in_total_nights_minmax             119390 non-null float64\n",
      "adults_minmax                            119390 non-null float64\n",
      "children_minmax                          119390 non-null float64\n",
      "babies_minmax                            119390 non-null float64\n",
      "days_in_waiting_list_minmax              119390 non-null float64\n",
      "adr_minmax                               119390 non-null float64\n",
      "required_car_parking_spaces_minmax       119390 non-null float64\n",
      "total_of_special_requests_minmax         119390 non-null float64\n",
      "dtypes: float64(15), int64(38), object(5)\n",
      "memory usage: 53.7+ MB\n"
     ]
    }
   ],
   "source": [
    "data.info()"
   ]
  },
  {
   "cell_type": "code",
   "execution_count": 4,
   "metadata": {},
   "outputs": [
    {
     "data": {
      "text/plain": [
       "0    0.629584\n",
       "1    0.370416\n",
       "Name: is_canceled, dtype: float64"
      ]
     },
     "execution_count": 4,
     "metadata": {},
     "output_type": "execute_result"
    }
   ],
   "source": [
    "data['is_canceled'].value_counts(1)"
   ]
  },
  {
   "cell_type": "code",
   "execution_count": 5,
   "metadata": {},
   "outputs": [
    {
     "data": {
      "text/plain": [
       "0    75166\n",
       "1    44224\n",
       "Name: is_canceled, dtype: int64"
      ]
     },
     "execution_count": 5,
     "metadata": {},
     "output_type": "execute_result"
    }
   ],
   "source": [
    "data['is_canceled'].value_counts()"
   ]
  },
  {
   "cell_type": "markdown",
   "metadata": {},
   "source": [
    "Noted that if we use majority-class method, the accuracy will be about 0.63. Therefore, the implemented method should be better than this. "
   ]
  },
  {
   "cell_type": "code",
   "execution_count": 6,
   "metadata": {},
   "outputs": [],
   "source": [
    "features = ['hotel',\n",
    "            'is_repeated_guest',\n",
    "#             'reserved_room_type',\n",
    "#             'assigned_room_type',\n",
    "            'reserved_assigned_room_type_match',\n",
    "            'country_is_FRA',\n",
    "            'country_is_DEU',\n",
    "            'country_is_other',\n",
    "            'spring',\n",
    "            'summer',\n",
    "            'fall',\n",
    "            'winter',\n",
    "            'distribution_channel_Corporate',\n",
    "            'distribution_channel_Direct',\n",
    "            'distribution_channel_GDS',\n",
    "            'distribution_channel_TA/TO',\n",
    "            'distribution_channel_Undefined',\n",
    "            'market_segment_Aviation',\n",
    "            'market_segment_Complementary',\n",
    "            'market_segment_Corporate',\n",
    "            'market_segment_Direct',\n",
    "            'market_segment_Groups',\n",
    "            'market_segment_Offline TA/TO',\n",
    "            'market_segment_Online TA',\n",
    "            'market_segment_Undefined',\n",
    "            'meal_BB',\n",
    "            'meal_FB',\n",
    "            'meal_HB',\n",
    "            'meal_SC',\n",
    "            'meal_Undefined',\n",
    "            'deposit_type_No Deposit',\n",
    "            'deposit_type_Non Refund',\n",
    "            'customer_type_Contract',\n",
    "            'customer_type_Group',\n",
    "            'customer_type_Transient',\n",
    "            'customer_type_Transient-Party',\n",
    "            'agent_14',\n",
    "            'agent_7',\n",
    "            'agent_is_other',\n",
    "            'log_lead_minmax',\n",
    "#             'cut_previous_cancellations',\n",
    "#             'cut_previous_bookings_not_canceled',\n",
    "#             'cut_booking_changes',\n",
    "            \"previous_cancellations_minmax\",\n",
    "            \"previous_bookings_not_canceled_minmax\",\n",
    "            \"booking_changes_minmax\",\n",
    "            'stays_in_weekend_nights_minmax',\n",
    "            'stays_in_week_nights_minmax',\n",
    "            'stays_in_total_nights_minmax',\n",
    "            'adults_minmax',\n",
    "            'children_minmax',\n",
    "            'babies_minmax',\n",
    "            'days_in_waiting_list_minmax',\n",
    "            'adr_minmax',\n",
    "            'required_car_parking_spaces_minmax',\n",
    "            'total_of_special_requests_minmax'\n",
    "           ]\n",
    "\n",
    "label = ['is_canceled']"
   ]
  },
  {
   "cell_type": "code",
   "execution_count": 7,
   "metadata": {},
   "outputs": [
    {
     "data": {
      "text/plain": [
       "51"
      ]
     },
     "execution_count": 7,
     "metadata": {},
     "output_type": "execute_result"
    }
   ],
   "source": [
    "len(features)"
   ]
  },
  {
   "cell_type": "code",
   "execution_count": 8,
   "metadata": {},
   "outputs": [],
   "source": [
    "X = data[features]\n",
    "y = data[label]"
   ]
  },
  {
   "cell_type": "code",
   "execution_count": 9,
   "metadata": {},
   "outputs": [
    {
     "data": {
      "text/plain": [
       "DecisionTreeClassifier(class_weight=None, criterion='gini', max_depth=None,\n",
       "                       max_features=None, max_leaf_nodes=None,\n",
       "                       min_impurity_decrease=0.0, min_impurity_split=None,\n",
       "                       min_samples_leaf=1, min_samples_split=2,\n",
       "                       min_weight_fraction_leaf=0.0, presort=False,\n",
       "                       random_state=None, splitter='best')"
      ]
     },
     "execution_count": 9,
     "metadata": {},
     "output_type": "execute_result"
    }
   ],
   "source": [
    "model = DecisionTreeClassifier()\n",
    "model.fit(X,y)"
   ]
  },
  {
   "cell_type": "code",
   "execution_count": 10,
   "metadata": {},
   "outputs": [
    {
     "data": {
      "text/plain": [
       "49"
      ]
     },
     "execution_count": 10,
     "metadata": {},
     "output_type": "execute_result"
    }
   ],
   "source": [
    "model.get_depth()"
   ]
  },
  {
   "cell_type": "code",
   "execution_count": 11,
   "metadata": {},
   "outputs": [
    {
     "data": {
      "text/plain": [
       "17542"
      ]
     },
     "execution_count": 11,
     "metadata": {},
     "output_type": "execute_result"
    }
   ],
   "source": [
    "model.get_n_leaves()"
   ]
  },
  {
   "cell_type": "code",
   "execution_count": 12,
   "metadata": {},
   "outputs": [],
   "source": [
    "np.random.seed(0)\n",
    "model = DecisionTreeClassifier()\n",
    "score_cv = cross_val_score(model, X, y, cv=10)"
   ]
  },
  {
   "cell_type": "code",
   "execution_count": 13,
   "metadata": {},
   "outputs": [
    {
     "data": {
      "text/plain": [
       "0.6292386506489074"
      ]
     },
     "execution_count": 13,
     "metadata": {},
     "output_type": "execute_result"
    }
   ],
   "source": [
    "score_cv.mean()"
   ]
  },
  {
   "cell_type": "code",
   "execution_count": 14,
   "metadata": {},
   "outputs": [
    {
     "name": "stdout",
     "output_type": "stream",
     "text": [
      "[ 1 11  1  5  1  1  1  1  1  1  9 13 19  1 21 18 16  7  1  2  4  1 22  1\n",
      "  8  1  1  6 15  1 10 20  1  1 14 17  1  1  1  1  1  1  1  1  1  1 12  3\n",
      "  1  1  1]\n"
     ]
    }
   ],
   "source": [
    "# features selection - keep only the top 30 features\n",
    "rfe = RFE(model,30)\n",
    "rfe = rfe.fit(X, y.values.ravel())\n",
    "\n",
    "print(rfe.ranking_)"
   ]
  },
  {
   "cell_type": "code",
   "execution_count": 15,
   "metadata": {},
   "outputs": [
    {
     "name": "stdout",
     "output_type": "stream",
     "text": [
      "30 \n",
      " ['hotel', 'reserved_assigned_room_type_match', 'country_is_DEU', 'country_is_other', 'spring', 'summer', 'fall', 'winter', 'distribution_channel_TA/TO', 'market_segment_Direct', 'market_segment_Online TA', 'meal_BB', 'meal_HB', 'meal_SC', 'deposit_type_Non Refund', 'customer_type_Transient', 'customer_type_Transient-Party', 'agent_is_other', 'log_lead_minmax', 'previous_cancellations_minmax', 'previous_bookings_not_canceled_minmax', 'booking_changes_minmax', 'stays_in_weekend_nights_minmax', 'stays_in_week_nights_minmax', 'stays_in_total_nights_minmax', 'adults_minmax', 'children_minmax', 'adr_minmax', 'required_car_parking_spaces_minmax', 'total_of_special_requests_minmax']\n"
     ]
    }
   ],
   "source": [
    "features_selected = []\n",
    "for feature, is_selected in zip(features,rfe.support_):\n",
    "    if is_selected:\n",
    "        features_selected.append(feature)\n",
    "print(len(features_selected),\"\\n\",features_selected)"
   ]
  },
  {
   "cell_type": "code",
   "execution_count": 16,
   "metadata": {},
   "outputs": [
    {
     "name": "stdout",
     "output_type": "stream",
     "text": [
      "0.6310813468238203\n"
     ]
    }
   ],
   "source": [
    "X_new = data[features_selected]\n",
    "\n",
    "model = DecisionTreeClassifier()\n",
    "score_cv = cross_val_score(model, X_new, y, cv=10)\n",
    "print(score_cv.mean())"
   ]
  },
  {
   "cell_type": "code",
   "execution_count": 17,
   "metadata": {},
   "outputs": [
    {
     "name": "stdout",
     "output_type": "stream",
     "text": [
      "17695 \t 49\n"
     ]
    }
   ],
   "source": [
    "model.fit(X_new,y)\n",
    "print(model.get_n_leaves(),'\\t',model.get_depth())"
   ]
  },
  {
   "cell_type": "code",
   "execution_count": 18,
   "metadata": {},
   "outputs": [
    {
     "name": "stdout",
     "output_type": "stream",
     "text": [
      "{'max_depth': 10, 'max_features': 11, 'max_leaf_nodes': 10000}\n",
      "0.7934332858698383\n"
     ]
    }
   ],
   "source": [
    "# to try different hyper-parameters\n",
    "depths = np.arange(10,51,20)\n",
    "max_features = np.arange(1,31,10)\n",
    "num_leafs = [5000,10000,15000,17000]\n",
    "\n",
    "\n",
    "try_grid = [{'max_depth': depths, \n",
    "             'max_features': max_features,\n",
    "             'max_leaf_nodes':num_leafs}]\n",
    "\n",
    "np.random.seed(0)\n",
    "DTM = GridSearchCV(DecisionTreeClassifier(), param_grid=try_grid, cv=10)\n",
    "DTM.fit(X_new,y)\n",
    "print(DTM.best_params_)\n",
    "print(DTM.best_score_)"
   ]
  },
  {
   "cell_type": "code",
   "execution_count": 19,
   "metadata": {},
   "outputs": [
    {
     "name": "stdout",
     "output_type": "stream",
     "text": [
      "{'max_depth': 10, 'max_features': 14, 'max_leaf_nodes': 10000}\n",
      "0.7899237792109892\n"
     ]
    }
   ],
   "source": [
    "# Fine-tuning: narrow down the range of parameters\n",
    "depths = [5,10,15,20]\n",
    "max_features = np.arange(5,17,3)\n",
    "num_leafs = [9000,10000,11000]\n",
    "\n",
    "\n",
    "try_grid = [{'max_depth': depths, \n",
    "             'max_features': max_features,\n",
    "             'max_leaf_nodes':num_leafs}]\n",
    "np.random.seed(0)\n",
    "DTM = GridSearchCV(DecisionTreeClassifier(), param_grid=try_grid, cv=10)\n",
    "DTM.fit(X_new,y)\n",
    "print(DTM.best_params_)\n",
    "print(DTM.best_score_)"
   ]
  },
  {
   "cell_type": "code",
   "execution_count": 20,
   "metadata": {},
   "outputs": [
    {
     "name": "stdout",
     "output_type": "stream",
     "text": [
      "{'max_depth': 9, 'max_features': 13, 'max_leaf_nodes': 9900}\n",
      "0.7993550548622163\n"
     ]
    }
   ],
   "source": [
    "depths = np.arange(7,11)\n",
    "max_features = np.arange(11,15)\n",
    "num_leafs = [9900,10000,10100]\n",
    "\n",
    "try_grid = [{'max_depth': depths, \n",
    "             'max_features': max_features,\n",
    "             'max_leaf_nodes':num_leafs}]\n",
    "\n",
    "np.random.seed(0)\n",
    "DTM = GridSearchCV(DecisionTreeClassifier(), param_grid=try_grid, cv=10)\n",
    "DTM.fit(X_new,y)\n",
    "print(DTM.best_params_)\n",
    "print(DTM.best_score_)"
   ]
  },
  {
   "cell_type": "code",
   "execution_count": 21,
   "metadata": {},
   "outputs": [
    {
     "data": {
      "text/plain": [
       "array([0.75762144, 0.74698492, 0.74715243, 0.80703518, 0.85166262,\n",
       "       0.80542759, 0.80867817, 0.8405093 , 0.76570615, 0.80800804])"
      ]
     },
     "execution_count": 21,
     "metadata": {},
     "output_type": "execute_result"
    }
   ],
   "source": [
    "score_cv = cross_val_score(DTM.best_estimator_, X_new, y, cv=10);score_cv"
   ]
  },
  {
   "cell_type": "code",
   "execution_count": 22,
   "metadata": {},
   "outputs": [
    {
     "data": {
      "text/plain": [
       "array([0, 0, 0, ..., 0, 1, 1])"
      ]
     },
     "execution_count": 22,
     "metadata": {},
     "output_type": "execute_result"
    }
   ],
   "source": [
    "y_pred = cross_val_predict(DTM.best_estimator_, X_new, y, cv=10);y_pred"
   ]
  },
  {
   "cell_type": "code",
   "execution_count": 23,
   "metadata": {
    "scrolled": true
   },
   "outputs": [
    {
     "data": {
      "text/plain": [
       "{0: 89219, 1: 30171}"
      ]
     },
     "execution_count": 23,
     "metadata": {},
     "output_type": "execute_result"
    }
   ],
   "source": [
    "unique, counts = np.unique(y_pred, return_counts=True)\n",
    "dict(zip(unique, counts))"
   ]
  },
  {
   "cell_type": "code",
   "execution_count": 24,
   "metadata": {},
   "outputs": [
    {
     "name": "stdout",
     "output_type": "stream",
     "text": [
      "Confusion Matrix: \n",
      "[[68496  6670]\n",
      " [20723 23501]]\n",
      "\n",
      "Accuracy Score: \n",
      "0.7705586732557166\n",
      "\n",
      "              precision    recall  f1-score   support\n",
      "\n",
      "           0       0.77      0.91      0.83     75166\n",
      "           1       0.78      0.53      0.63     44224\n",
      "\n",
      "    accuracy                           0.77    119390\n",
      "   macro avg       0.77      0.72      0.73    119390\n",
      "weighted avg       0.77      0.77      0.76    119390\n",
      "\n"
     ]
    }
   ],
   "source": [
    "print(\"Confusion Matrix:\", \"\\n\"+str(confusion_matrix(y,y_pred))+\"\\n\")\n",
    "print(\"Accuracy Score:\", \"\\n\"+str(accuracy_score(y,y_pred,normalize=True, sample_weight=None))+\"\\n\")\n",
    "print(classification_report(y,y_pred))"
   ]
  },
  {
   "cell_type": "code",
   "execution_count": 25,
   "metadata": {},
   "outputs": [
    {
     "data": {
      "text/plain": [
       "Text(0.5, 0, 'False Positive Rate')"
      ]
     },
     "execution_count": 25,
     "metadata": {},
     "output_type": "execute_result"
    },
    {
     "data": {
      "image/png": "[encoded data removed]",
      "text/plain": [
       "<Figure size 720x720 with 1 Axes>"
      ]
     },
     "metadata": {
      "needs_background": "light"
     },
     "output_type": "display_data"
    }
   ],
   "source": [
    "fpr, tpr, thresholds = metrics.roc_curve(y,y_pred,pos_label=1)\n",
    "roc_auc = metrics.auc(fpr, tpr)\n",
    "plt.figure(figsize = (10,10))\n",
    "plt.plot(fpr, tpr, color = 'red', label = 'AUC = %0.2f' % roc_auc)\n",
    "plt.legend(loc = 'lower right')\n",
    "plt.plot([0, 1], [0, 1], linestyle = '--')\n",
    "plt.grid(True)\n",
    "plt.ylabel('True Positive Rate')\n",
    "plt.xlabel('False Positive Rate')"
   ]
  },
  {
   "cell_type": "code",
   "execution_count": 26,
   "metadata": {},
   "outputs": [
    {
     "data": {
      "text/plain": [
       "0.7213356780817164"
      ]
     },
     "execution_count": 26,
     "metadata": {},
     "output_type": "execute_result"
    }
   ],
   "source": [
    "metrics.auc(fpr, tpr)"
   ]
  },
  {
   "cell_type": "code",
   "execution_count": null,
   "metadata": {},
   "outputs": [],
   "source": []
  },
  {
   "cell_type": "code",
   "execution_count": null,
   "metadata": {},
   "outputs": [],
   "source": []
  }
 ],
 "metadata": {
  "kernelspec": {
   "display_name": "Python 3",
   "language": "python",
   "name": "python3"
  },
  "language_info": {
   "codemirror_mode": {
    "name": "ipython",
    "version": 3
   },
   "file_extension": ".py",
   "mimetype": "text/x-python",
   "name": "python",
   "nbconvert_exporter": "python",
   "pygments_lexer": "ipython3",
   "version": "3.7.4"
  }
 },
 "nbformat": 4,
 "nbformat_minor": 2
}
